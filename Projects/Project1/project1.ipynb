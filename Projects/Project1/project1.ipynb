{
 "cells": [
  {
   "cell_type": "markdown",
   "metadata": {},
   "source": [
    "# Project 1: computing all kinematic informations of a real manipulator\n",
    "\n",
    "In this project (and the next ones), we will build all the necessary various functionalities for realistic robot manipulators. This first project aims to build the core fonctions (basic homogeneous transforms, twists, forward kinematics and Jacobians) that will be a foundation for all subsequent algorithms.\n",
    "\n",
    "## Instructions\n",
    "* Answer all questions in the notebook\n",
    "* You will need to submit on Brightspace: \n",
    "    1. the code you wrote to answer the questions in a Jupyter Notebook. The code should be runnable as is.\n",
    "    2. a 2-3 pages report in pdf format (pdf only) detailing the methodology you followed to answer the questions as well as answers to the questions that require a written answer. You may add the plots in the report (does not count for the page limit) or in the Jupyter notebook.\n",
    "\n",
    "\n",
    "## The robot\n",
    "\n",
    "We will use a model of the [Kuka iiwa 14 robot](https://www.kuka.com/en-us/products/robotics-systems/industrial-robots/lbr-iiwa). This robot has 7 revolute joints and its kinematics is described in the picture below:\n",
    "\n",
    "![](https://raw.githubusercontent.com/righetti/ROB6003/143afa17d7eb1af79c3f6ce034973a1774da5d42/Project1/kuka_kinematics.png \"Kuka iiwa 14 Kinematic Model\")"
   ]
  },
  {
   "cell_type": "markdown",
   "metadata": {},
   "source": [
    "# Setup\n",
    "\n",
    "Run the cell below only once when resetting the runtime in Colab - this will not do anything when running on a local Jupyter Notebook."
   ]
  },
  {
   "cell_type": "code",
   "execution_count": 1,
   "metadata": {},
   "outputs": [],
   "source": [
    "## check if we are in Google Colab\n",
    "try:\n",
    "    import google.colab\n",
    "    RUNNING_IN_COLAB = True\n",
    "    print('detected Colab - setting up environment')\n",
    "    # then we need to install the conda environment\n",
    "    try:\n",
    "        import condacolab\n",
    "        condacolab.check()\n",
    "    except:\n",
    "        !pip install -q condacolab\n",
    "        import condacolab\n",
    "        condacolab.install()\n",
    "except:\n",
    "    RUNNING_IN_COLAB = False"
   ]
  },
  {
   "cell_type": "code",
   "execution_count": null,
   "metadata": {},
   "outputs": [],
   "source": [
    "# after installing condalab, the runtime restarts\n",
    "# -> need to check for colab env once more here\n",
    "try:\n",
    "    import google.colab\n",
    "    RUNNING_IN_COLAB = True\n",
    "except Exception as e:\n",
    "    RUNNING_IN_COLAB = False\n",
    "\n",
    "if RUNNING_IN_COLAB:\n",
    "    try:\n",
    "        # Check if packages are installed or not. If not, install them.\n",
    "        import pinocchio\n",
    "    except:\n",
    "        # Install pinocchio, meschat-python \n",
    "        !conda install pinocchio meshcat-python\n",
    "       \n",
    "    # get the class repo - first check if it exists\n",
    "    import os, sys\n",
    "    if not os.path.isdir('/content/ROB6003/Project1'):\n",
    "      print('cloning LAB repository')\n",
    "      os.chdir('/content')\n",
    "      !git clone https://github.com/righetti/ROB6003.git\n",
    "      print('cloning done')\n",
    "    else:\n",
    "      print('lab repos was found, skipping cloning')\n",
    "    print('done configuring for Colab')\n",
    "    sys.path.append('/content/ROB6003/Project1/')\n",
    "    os.chdir('/content/ROB6003/Project1/')\n",
    "    print('done adding system path and changing directory.')\n"
   ]
  },
  {
   "cell_type": "markdown",
   "metadata": {},
   "source": [
    "# Starting the visualization environment\n",
    "\n",
    "The following code will start a visualization environment (click on the printed address to see the robot)\n",
    "\n",
    "You need to run this only ONCE. Each time you run this cell you will get a new display environment (so you need to close the previous one!)\n",
    "\n",
    "This should work out of the box on Google Colab and you local Jupyter Notebook (make sure you have installed the right libraries in your local computer if you do not use Colab)."
   ]
  },
  {
   "cell_type": "code",
   "execution_count": 2,
   "metadata": {},
   "outputs": [
    {
     "name": "stdout",
     "output_type": "stream",
     "text": [
      "You can open the visualizer by visiting the following URL:\n",
      "http://127.0.0.1:7001/static/\n",
      "You should see the Kuka iiwa robot now when going to this page: http://127.0.0.1:7001/static/\n"
     ]
    }
   ],
   "source": [
    "import numpy as np\n",
    "import robot_visualizer\n",
    "import time\n",
    "\n",
    "import matplotlib.pyplot as plt\n",
    "\n",
    "robot_visualizer.start_robot_visualizer()"
   ]
  },
  {
   "cell_type": "markdown",
   "metadata": {},
   "source": [
    "# Displaying an arbitrary configuration\n",
    "\n",
    "You can use the following function to display arbitrary configurations of the robot"
   ]
  },
  {
   "cell_type": "code",
   "execution_count": 3,
   "metadata": {},
   "outputs": [
    {
     "name": "stdout",
     "output_type": "stream",
     "text": [
      "we show the configuration for the angles [0.08482851 0.8828791  0.85478694 0.48519728 0.57453509 0.16013492\n",
      " 0.70179346]\n"
     ]
    }
   ],
   "source": [
    "# here we display an arbitrary configuration of the robot\n",
    "q = np.random.sample([7])\n",
    "print(f'we show the configuration for the angles {q}')\n",
    "robot_visualizer.display_robot(q)"
   ]
  },
  {
   "cell_type": "markdown",
   "metadata": {},
   "source": [
    "## Question 1: basics\n",
    "In this first set of questions, we aim to write the basic functions to do kinematics\n",
    "* Write a function ``vec_to_skew(w)`` that transforms a 3D vector (numpy array) into a skew symmetric matrix\n",
    "* Write a function ``twist_to_skew(V)`` that transforms a 6D twist into a 4x4 matrix (use ``vec_to_skew``)\n",
    "* Write a function ``exp_twist_bracket(V)`` that returns the exponential of a (bracketed) twist $\\mathrm{e}^{[\\mathcal{V}]}$ where the input to the function is a 6D twist\n",
    "* Write a function ``inverseT(T)`` that returns the inverse of a homogeneous transform T\n",
    "* Write a function ``getAdjoint(T)`` that returns the adjoint of a homogeneous transform T"
   ]
  },
  {
   "cell_type": "markdown",
   "metadata": {},
   "source": [
    "## Question 2: forward kinematics\n",
    "* Write a function ``forward_kinematics(theta)`` that gets as an input an array of joint angles and computes the pose of the end-effector.\n",
    "\n",
    "In order to test this function, you are given the following forward kinematics results (up to $10^{-4}$ precision),\n",
    "\n",
    "$T_{SH}(0,\\ 0,\\ 0,\\ 0,\\ 0,\\ 0,\\ 0) = \\begin{bmatrix}1 & 0 & 0 & 0 \\\\ 0 & 1 & 0 & 0 \\\\ 0 & 0 & 1 & 1.301 \\end{bmatrix}$,\n",
    "\n",
    "$T_{SH}(0.2,\\ -0.2,\\ 0.5,\\ -0.4,\\ 1.2,\\ -0.8,\\ 0.4) = \\begin{bmatrix}\n",
    "-0.4951 & -0.814 &  0.3037 & -0.0003 \\\\\n",
    "0.6286 & -0.5769 & -0.5215 &  0.0056\\\\\n",
    "0.5997 & -0.0673 &  0.7974 &  1.2563\\\\\n",
    "0.  &    0.  &    0.  &    1.\\end{bmatrix}$\n",
    "\n",
    "$T_{SH}(-1.2,\\ 0.7,\\ 2.8,\\ 0.7,\\ 1.2,\\ 0.2,\\ 0.3) = \\begin{bmatrix}\n",
    "-0.9669 & -0.254 &  -0.0234 &  0.1535\\\\\n",
    "0.0976 & -0.2835 & -0.954 &  -0.7557\\\\\n",
    "0.2357 & -0.9247 &  0.2989 &  0.795\\\\\n",
    " 0.  &    0.  &    0.  &    1.\\end{bmatrix}$"
   ]
  },
  {
   "cell_type": "markdown",
   "metadata": {},
   "source": [
    "## Question 3: jacobians\n",
    "* Write a function ``get_space_jacobian(theta)`` that computes the space jacobian given an array of joint angles\n",
    "\n",
    "In order to test this function, you are given the following space Jacobian results (up to $10^{-3}$ precision),\n",
    "$J^S(0,\\ 0,\\ 0,\\ 0,\\ 0,\\ 0,\\ 0) = \\begin{bmatrix}\n",
    "   0.000 &   0.000 &   0.000 &   0.000 &   0.000 &   0.000 &   0.000\\\\\n",
    "   0.000 &   1.000 &   0.000 & -1.000 &   0.000 &   1.000 &   0.000\\\\\n",
    "   1.000 &   0.000 &   1.000 &   0.000 &   1.000 &   0.000 &   1.000\\\\\n",
    "   0.000 & -0.360 &   0.000 &   0.780 &   0.000 & -1.180 &   0.000\\\\\n",
    "   0.000 &   0.000 &   0.000 &   0.000 &   0.000 &   0.000 &   0.000\\\\\n",
    "   0.000 &   0.000 &   0.000 &   0.000 &   0.000 &   0.000 &   0.000\n",
    "\\end{bmatrix}\n",
    "$,\n",
    "\n",
    "$J^S(0.2,\\ -0.2,\\ 0.5,\\ -0.4,\\ 1.2,\\ -0.8,\\ 0.4) = \\begin{bmatrix}\n",
    "   0.000 & -0.199 & -0.195 &   0.635 &   0.112 & -0.943 &   0.304\\\\\n",
    "   0.000 &   0.980 & -0.039 & -0.767 &   0.213 & -0.287 & -0.522\\\\\n",
    "   1.000 &   0.000 &   0.980 &   0.095 &   0.971 &   0.172 &   0.797\\\\\n",
    "   0.000 & -0.353 &   0.014 &   0.590 & -0.181 &   0.344 &   0.660\\\\\n",
    "   0.000 & -0.072 & -0.070 &   0.498 &   0.166 & -1.087 &   0.382\\\\\n",
    "   0.000 &   0.000 &   0.000 &   0.073 & -0.016 &   0.075 & -0.002\n",
    "\\end{bmatrix}$\n",
    "\n",
    "$J^S(-1.2,\\ 0.7,\\ 2.8,\\ 0.7,\\ 1.2,\\ 0.2,\\ 0.3) = \\begin{bmatrix}\n",
    "   0.000 &   0.932 &   0.233 &   0.971 &   0.146 & -0.528 & -0.023\\\\\n",
    "   0.000 &   0.362 & -0.600 &   0.103 & -0.970 & -0.242 & -0.954\\\\\n",
    "   1.000 &   0.000 &   0.765 & -0.216 &   0.194 & -0.814 &   0.299\\\\\n",
    "   0.000 & -0.130 &   0.216 & -0.015 &   0.612 &   0.705 &   0.533\\\\\n",
    "   0.000 &   0.336 &   0.084 &   0.683 &   0.080 & -0.274 & -0.065\\\\\n",
    "   0.000 &   0.000 &   0.000 &   0.255 & -0.058 & -0.376 & -0.164\n",
    "\\end{bmatrix}$"
   ]
  },
  {
   "cell_type": "markdown",
   "metadata": {},
   "source": [
    "### Hint: Q2 and Q3\n",
    "Depending on which method you use to compute the quantities of Q2 and Q3, you will need to define a series of fixed homogeneous transforms, screws, etc. You may want to store these values in various variables that you can reuse (i.e. define the fixed kinematic parameters once and for all).\n",
    "\n",
    "You may also want to store some intermediate results to later compute the Jacobians.\n",
    "\n",
    "Feel free to design the data structure that you prefer and to also pass additional parameters or return multiple variables with these functions if it simplifies your design. You can also put these functions in a class if you wish. Any solution is ok, as long as you can compute the requested quantities.\n",
    "\n",
    "Make sure to explain your design in the report."
   ]
  },
  {
   "cell_type": "markdown",
   "metadata": {},
   "source": [
    "## Question 4: displaying hand trajectories \n",
    "You are given a file ``joint_trajectory.npy`` which contains a sequence of 200 joint configurations (cf. below) corresponding to a motion of the robot over time.\n",
    "* Compute the position of the hand (i.e. the origin of the frame H) in the spatial frame for all 100 joint configuration\n",
    "* Plot x-y position of the hand for all the configurations (i.e. a 2D plot with x as the abscissa and y as the ordinate of the graph). What does the hand draw?\n",
    "* Do the same analysis and plots for the x-z and y-z pairs.\n",
    "\n",
    "### Hint\n",
    "You may use (matplotlib)[https://matplotlib.org/] to draw plots"
   ]
  },
  {
   "cell_type": "code",
   "execution_count": null,
   "metadata": {},
   "outputs": [],
   "source": [
    "# we open the file and put all the data in the variable joint_trajectory \n",
    "# this gives us a 7 x 200 array (each column in one set of joint configurations)\n",
    "with open('joint_trajectory.npy', 'rb') as f:\n",
    "    joint_trajectory = np.load(f)\n",
    "    \n",
    "# we display the trajectory\n",
    "n_samples = joint_trajectory.shape[1]\n",
    "for i in range(n_samples):\n",
    "    robot_visualizer.display_robot(joint_trajectory[:,i])\n",
    "    time.sleep(0.05) # we wait between two displays so we can see each configuration\n",
    "    "
   ]
  },
  {
   "cell_type": "code",
   "execution_count": null,
   "metadata": {
    "scrolled": false
   },
   "outputs": [],
   "source": [
    "# now we plot the joint trajectories for each joint (each cross correspond to one data point)\n",
    "plt.figure(figsize=[10,15])\n",
    "for i in range(7):\n",
    "    plt.subplot(7,1,i+1)\n",
    "    plt.plot(joint_trajectory[i,:], 'x', linewidth=4)\n",
    "    plt.ylabel(f'joint {i+1}', fontsize=30)"
   ]
  },
  {
   "cell_type": "markdown",
   "metadata": {},
   "source": [
    "## Question 5: computing velocities\n",
    "The file ``joint_velocities.npy`` contains the velocities of each joint corresponding to the sequence joint configurations seen in the previous question. \n",
    "* Use the Jacobian to compute the linear velocity of the endeffector in: 1) the spatial frame. 2) the end-effector frame and 3) in a frame with same origin as the end-effector frame but oriented like the spatial frame\n",
    "* Plot these velocities in each frame (one plot per dimension x,y,z)\n",
    "* Compare these plots and relate them to the plot of the positions (Question 4), is there a frame that seems most intuitive to you? Why?"
   ]
  },
  {
   "cell_type": "code",
   "execution_count": null,
   "metadata": {},
   "outputs": [],
   "source": [
    "# we open the file and put all the data in the variable joint_trajectory \n",
    "# this gives us a 7 x 200 array (each column in one set of joint configurations)\n",
    "with open('joint_velocity.npy', 'rb') as f:\n",
    "    joint_velocities = np.load(f)\n",
    "    \n",
    "# now we plot the joint velocities for each joint (each cross correspond to one data point)\n",
    "plt.figure(figsize=[10,15])\n",
    "for i in range(7):\n",
    "    plt.subplot(7,1,i+1)\n",
    "    plt.plot(joint_velocities[i,:], 'x', linewidth=4)\n",
    "    plt.ylabel(f'joint {i+1}', fontsize=30)"
   ]
  }
 ],
 "metadata": {
  "kernelspec": {
   "display_name": "Python 3",
   "language": "python",
   "name": "python3"
  },
  "language_info": {
   "codemirror_mode": {
    "name": "ipython",
    "version": 3
   },
   "file_extension": ".py",
   "mimetype": "text/x-python",
   "name": "python",
   "nbconvert_exporter": "python",
   "pygments_lexer": "ipython3",
   "version": "3.9.7"
  }
 },
 "nbformat": 4,
 "nbformat_minor": 4
}
