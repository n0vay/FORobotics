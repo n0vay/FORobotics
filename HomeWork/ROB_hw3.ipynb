{
  "nbformat": 4,
  "nbformat_minor": 0,
  "metadata": {
    "colab": {
      "name": "ROB_hw3.ipynb",
      "provenance": []
    },
    "kernelspec": {
      "name": "python3",
      "display_name": "Python 3"
    },
    "language_info": {
      "name": "python"
    }
  },
  "cells": [
    {
      "cell_type": "code",
      "metadata": {
        "id": "_dj09wL9FcDl"
      },
      "source": [
        "import numpy as np\n",
        "import scipy.linalg as sc\n",
        "def skew(vector):\n",
        "  \n",
        "\n",
        "    vector = np.array(vector)\n",
        "\n",
        "    return np.array([[0, -vector.item(2), vector.item(1)],\n",
        "                     [vector.item(2), 0, -vector.item(0)],\n",
        "                     [-vector.item(1), vector.item(0), 0]])\n",
        "def unskew(matrix):\n",
        "  \n",
        "      return np.array([[matrix[2, 1]], \n",
        "                     [matrix[0, 2]], \n",
        "                     [matrix[1, 0]]])\n",
        "def skewtomatrix(vector):\n",
        "      [a,b] = np.split(vector,2)\n",
        "      a=skew(a)\n",
        "      a=np.concatenate((a,b), axis=1)\n",
        "      a = np.concatenate((a, np.array([[0,0,0,0]])), axis=0);\n",
        "      return a\n",
        "def matrixtoskew(matrix):\n",
        "  return np.array([[matrix[2, 1]], \n",
        "                    [matrix[0, 2]], \n",
        "                    [matrix[1, 0]],\n",
        "                    [matrix[0, 3]],\n",
        "                    [matrix[1, 3]],\n",
        "                    [matrix[2, 3]]])"
      ],
      "execution_count": null,
      "outputs": []
    },
    {
      "cell_type": "code",
      "metadata": {
        "colab": {
          "base_uri": "https://localhost:8080/"
        },
        "id": "SeVsRfGFGYMP",
        "outputId": "584e08c6-6388-4919-8385-4df65536368e"
      },
      "source": [
        "import numpy as np\n",
        "\n",
        "R = np.array([[0.30662148, -0.36806660, 0.87778713], [-0.54589300, 0.68746522, 0.47894927], [-0.77973335, -0.62603398, 0.00986663]])\n",
        "w = np.array([[-0.50850899], [0.98563000], [-0.82055478]])\n",
        "\n",
        "np.transpose(skew(-w) @ np.transpose(R))"
      ],
      "execution_count": null,
      "outputs": [
        {
          "output_type": "execute_result",
          "data": {
            "text/plain": [
              "array([[-0.56315452, -0.19476293,  0.11505015],\n",
              "       [-1.03616964, -0.69148512, -0.18846627],\n",
              "       [ 0.50397033, -0.6448312 , -1.08687249]])"
            ]
          },
          "metadata": {},
          "execution_count": 15
        }
      ]
    },
    {
      "cell_type": "code",
      "metadata": {
        "colab": {
          "base_uri": "https://localhost:8080/"
        },
        "id": "XTW3oDeFIlKa",
        "outputId": "161399cd-a338-4278-8c57-112a64efa812"
      },
      "source": [
        "R @ skew(w)"
      ],
      "execution_count": null,
      "outputs": [
        {
          "output_type": "execute_result",
          "data": {
            "text/plain": [
              "array([[-0.56315452, -0.19476293,  0.11505015],\n",
              "       [-1.03616964, -0.69148512, -0.18846627],\n",
              "       [ 0.50397033, -0.6448312 , -1.08687249]])"
            ]
          },
          "metadata": {},
          "execution_count": 14
        }
      ]
    },
    {
      "cell_type": "markdown",
      "metadata": {
        "id": "QLPgv0MWL1uQ"
      },
      "source": [
        "2"
      ]
    },
    {
      "cell_type": "code",
      "metadata": {
        "colab": {
          "base_uri": "https://localhost:8080/"
        },
        "id": "DB4A48uKL2aT",
        "outputId": "3693b23f-b073-4aa9-f30a-470caee48088"
      },
      "source": [
        "import numpy as np\n",
        "\n",
        "w_01in0 = np.array([[0.35411453], [0.32983183], [0.09414417]])\n",
        "w_01in1 = np.array([[0.36302153], [0.26490978], [-0.20270037]])\n",
        "\n",
        "skew(w_01in1)"
      ],
      "execution_count": null,
      "outputs": [
        {
          "output_type": "execute_result",
          "data": {
            "text/plain": [
              "array([[ 0.        ,  0.20270037,  0.26490978],\n",
              "       [-0.20270037,  0.        , -0.36302153],\n",
              "       [-0.26490978,  0.36302153,  0.        ]])"
            ]
          },
          "metadata": {},
          "execution_count": 17
        }
      ]
    },
    {
      "cell_type": "markdown",
      "metadata": {
        "id": "KqNUDEwvNjK5"
      },
      "source": [
        "3"
      ]
    },
    {
      "cell_type": "code",
      "metadata": {
        "colab": {
          "base_uri": "https://localhost:8080/"
        },
        "id": "hvCHI0Y6NkOi",
        "outputId": "8480446c-d61f-4e91-91da-c4450147ef7b"
      },
      "source": [
        "import numpy as np\n",
        "\n",
        "w01 = np.array([[2.90], [-1.03], [1.65]])\n",
        "t = 3.26\n",
        "\n",
        "sc.expm(skew(w01)*t)"
      ],
      "execution_count": null,
      "outputs": [
        {
          "output_type": "execute_result",
          "data": {
            "text/plain": [
              "array([[ 0.80711931,  0.28511181,  0.51698131],\n",
              "       [-0.58967099,  0.43245646,  0.68210669],\n",
              "       [-0.02909523, -0.85539036,  0.51716612]])"
            ]
          },
          "metadata": {},
          "execution_count": 20
        }
      ]
    },
    {
      "cell_type": "markdown",
      "metadata": {
        "id": "R5HHjDEvPMYN"
      },
      "source": [
        "4"
      ]
    },
    {
      "cell_type": "code",
      "metadata": {
        "colab": {
          "base_uri": "https://localhost:8080/"
        },
        "id": "B0dFhn6bPM__",
        "outputId": "942f9a55-7168-4bd0-d625-6bf3225d2dff"
      },
      "source": [
        "import numpy as np\n",
        "\n",
        "R01 = np.array([[-0.56926025, 0.37281476, -0.73277003], [0.14482931, 0.92281193, 0.35699104], [0.80930046, 0.09709423, -0.57931466]])\n",
        "w1 = np.array([[0.77207698], [-0.65361054], [0.92188148]])\n",
        "\n",
        "-R01 @ w1\n",
        "\n"
      ],
      "execution_count": null,
      "outputs": [
        {
          "output_type": "execute_result",
          "data": {
            "text/plain": [
              "array([[ 1.35871551],\n",
              "       [ 0.1622368 ],\n",
              "       [-0.02732099]])"
            ]
          },
          "metadata": {},
          "execution_count": 37
        }
      ]
    },
    {
      "cell_type": "code",
      "metadata": {
        "colab": {
          "base_uri": "https://localhost:8080/"
        },
        "id": "FfeEX4FwYPzq",
        "outputId": "80adb78a-22b3-4002-a2fe-6e75f68b6a28"
      },
      "source": [
        "R01 @ w1"
      ],
      "execution_count": null,
      "outputs": [
        {
          "output_type": "execute_result",
          "data": {
            "text/plain": [
              "array([[0.38192437],\n",
              "       [0.25589447],\n",
              "       [0.18956703]])"
            ]
          },
          "metadata": {},
          "execution_count": 35
        }
      ]
    },
    {
      "cell_type": "markdown",
      "metadata": {
        "id": "XJmityJSaWNN"
      },
      "source": [
        "5"
      ]
    },
    {
      "cell_type": "code",
      "metadata": {
        "colab": {
          "base_uri": "https://localhost:8080/"
        },
        "id": "4TDhLuleaYbv",
        "outputId": "19f99ac9-e85c-4995-c40c-5dfa6f0f4f79"
      },
      "source": [
        "import numpy as np\n",
        "\n",
        "R = np.array([[0.70574779, -0.46667704, -0.53304089], [0.53035539, 0.84686683, -0.03923931], [0.46972674, -0.25500805, 0.84517908]])\n",
        "theta = np.arccos(.5*(np.trace(R)-1))\n",
        "w = (R - np.transpose(R)) / (2 * np.sin(theta))\n",
        "print(theta)\n",
        "unskew(w)"
      ],
      "execution_count": null,
      "outputs": [
        {
          "output_type": "stream",
          "name": "stdout",
          "text": [
            "0.7969423820877283\n"
          ]
        },
        {
          "output_type": "execute_result",
          "data": {
            "text/plain": [
              "array([[-0.1508403 ],\n",
              "       [-0.70101798],\n",
              "       [ 0.6970086 ]])"
            ]
          },
          "metadata": {},
          "execution_count": 39
        }
      ]
    },
    {
      "cell_type": "markdown",
      "metadata": {
        "id": "IXgiKJaZcgzL"
      },
      "source": [
        "6"
      ]
    },
    {
      "cell_type": "markdown",
      "metadata": {
        "id": "I5N1N1D_wMRJ"
      },
      "source": [
        "for frame 1"
      ]
    },
    {
      "cell_type": "code",
      "metadata": {
        "colab": {
          "base_uri": "https://localhost:8080/"
        },
        "id": "opjSwnVCchrW",
        "outputId": "7ec88fac-2431-4938-926c-0262f2cc520c"
      },
      "source": [
        "import numpy as np\n",
        "\n",
        "R_1in0 = np.array([[0.96212692, -0.07475503, 0.26215161], [-0.26663214, -0.45821666, 0.84790612], [0.05673699, -0.88569135, -0.46079468]])\n",
        "R_2in0 = np.array([[0.80545878, -0.34235092, 0.48376855], [-0.57982486, -0.28630192, 0.76278067], [-0.12263480, -0.89488941, -0.42910796]])\n",
        "\n",
        "R= np.transpose(R_1in0) @ R_2in0\n",
        "theta = np.arccos(.5*(np.trace(R)-1))\n",
        "w = (R - np.transpose(R)) / (2 * np.sin(theta))\n",
        "print(theta)\n",
        "unskew(w)\n"
      ],
      "execution_count": null,
      "outputs": [
        {
          "output_type": "stream",
          "name": "stdout",
          "text": [
            "0.3984977335136365\n"
          ]
        },
        {
          "output_type": "execute_result",
          "data": {
            "text/plain": [
              "array([[-0.11014624],\n",
              "       [-0.59491386],\n",
              "       [-0.79620679]])"
            ]
          },
          "metadata": {},
          "execution_count": 49
        }
      ]
    },
    {
      "cell_type": "markdown",
      "metadata": {
        "id": "MkdSa8ykwIUg"
      },
      "source": [
        "frame 2 and for 0 R01 @ R02T"
      ]
    },
    {
      "cell_type": "code",
      "metadata": {
        "id": "NbWY4gD4wIa2"
      },
      "source": [
        "import numpy as np\n",
        "\n",
        "R_1in0 = np.array([[0.96212692, -0.07475503, 0.26215161], [-0.26663214, -0.45821666, 0.84790612], [0.05673699, -0.88569135, -0.46079468]])\n",
        "R_2in0 = np.array([[0.80545878, -0.34235092, 0.48376855], [-0.57982486, -0.28630192, 0.76278067], [-0.12263480, -0.89488941, -0.42910796]])\n",
        "\n",
        "R= np.transpose(R_2in0) @ R_1in0\n",
        "theta = np.arccos(.5*(np.trace(R)-1))\n",
        "w = (R - np.transpose(R)) / (2 * np.sin(theta))\n",
        "print(theta)\n",
        "unskew(w)"
      ],
      "execution_count": null,
      "outputs": []
    },
    {
      "cell_type": "markdown",
      "metadata": {
        "id": "vLMXXAHUdC8-"
      },
      "source": [
        "7"
      ]
    },
    {
      "cell_type": "code",
      "metadata": {
        "colab": {
          "base_uri": "https://localhost:8080/"
        },
        "id": "bxDzI90EdD1-",
        "outputId": "ca077516-5ee9-4643-e567-6fce40104989"
      },
      "source": [
        "\"\"\"\n",
        "VARIANT\n",
        "GIVEN - R01, w1, t, p1\n",
        "ASKED - p1, v1, \n",
        "\"\"\"\n",
        "import numpy as np\n",
        "\n",
        "R01 = np.array([[-0.880723783899, 0.465271346852, -0.088590012267], [0.374153764675, 0.568781021040, -0.732459630617], [-0.290404161221, -0.678240904033, -0.675021999080]])\n",
        "w1 = np.array([[0.230000000000], [2.400000000000], [-1.740000000000]])\n",
        "t = 3.430000000000\n",
        "p1 = np.array([[0.260000000000], [-2.690000000000], [0.000000000000]])\n",
        "\n",
        "p1\n",
        "skew(w1) @ p1\n"
      ],
      "execution_count": null,
      "outputs": [
        {
          "output_type": "execute_result",
          "data": {
            "text/plain": [
              "array([[-4.6806],\n",
              "       [-0.4524],\n",
              "       [-1.2427]])"
            ]
          },
          "metadata": {},
          "execution_count": 67
        }
      ]
    },
    {
      "cell_type": "code",
      "metadata": {
        "colab": {
          "base_uri": "https://localhost:8080/"
        },
        "id": "m5dEH3_Zrr0A",
        "outputId": "e4c470c0-01b4-4a52-fd28-1f079d5de67a"
      },
      "source": [
        "\"\"\"\n",
        "VARIANT\n",
        "GIVEN - R01, w1, t, p1\n",
        "ASKED - p0, w0, \n",
        "\"\"\"\n",
        "import numpy as np\n",
        "\n",
        "R01 = np.array([[0.233998425649, 0.825081972256, -0.514280541973], [-0.349582059854, -0.422186328623, -0.836391706889], [-0.907213932996, 0.375497593844, 0.189642919181]])\n",
        "w1 = np.array([[-2.000000000000], [-0.200000000000], [-2.860000000000]])\n",
        "t = 9.390000000000\n",
        "p1 = np.array([[0.460000000000], [1.950000000000], [1.380000000000]])\n",
        "\n",
        "R = R01 @ sc.expm(skew(w1)*t)\n",
        "\n",
        "p0 = R @ p1\n",
        "w0 = R01 @ w1\n",
        "v0=skew(w0) @ p0"
      ],
      "execution_count": null,
      "outputs": [
        {
          "output_type": "execute_result",
          "data": {
            "text/plain": [
              "array([[-4.00607141],\n",
              "       [ 2.78037193],\n",
              "       [-4.57260103]])"
            ]
          },
          "metadata": {},
          "execution_count": 61
        }
      ]
    },
    {
      "cell_type": "code",
      "metadata": {
        "colab": {
          "base_uri": "https://localhost:8080/"
        },
        "id": "tT09XD20tajf",
        "outputId": "eb8247b0-19ef-4ee1-98e8-786a97a2bc6b"
      },
      "source": [
        "\"\"\"\n",
        "VARIANT\n",
        "GIVEN - R01, w0, t, p1\n",
        "ASKED - p1, v1, \n",
        "\"\"\"\n",
        "\n",
        "import numpy as np\n",
        "\n",
        "R01 = np.array([[0.292127321279, 0.921969847908, -0.254230658478], [0.951444134518, -0.307134389572, -0.020555428324], [-0.097034463227, -0.235881466609, -0.966925150493]])\n",
        "w0 = np.array([[-1.640000000000], [3.000000000000], [-3.060000000000]])\n",
        "t = 3.270000000000\n",
        "p1 = np.array([[3.080000000000], [-1.940000000000], [-2.420000000000]])\n",
        "\n",
        "w1 = np.transpose(R01) @ w0\n",
        "\n",
        "v1=skew(w1) @ p1\n"
      ],
      "execution_count": null,
      "outputs": [
        {
          "output_type": "execute_result",
          "data": {
            "text/plain": [
              "array([[10.5714423 ],\n",
              "       [16.67396301],\n",
              "       [ 0.08783224]])"
            ]
          },
          "metadata": {},
          "execution_count": 70
        }
      ]
    },
    {
      "cell_type": "code",
      "metadata": {
        "colab": {
          "base_uri": "https://localhost:8080/"
        },
        "id": "-QB1no-hw4QZ",
        "outputId": "7348f8f8-6a96-49c0-d38c-d5eb2589356e"
      },
      "source": [
        "\"\"\"\n",
        "VARIANT\n",
        "GIVEN - R01, w0, t, p1\n",
        "ASKED - p0, v0, \n",
        "\"\"\"\n",
        "import numpy as np\n",
        "\n",
        "R01 = np.array([[-0.618574132187, 0.169988165799, -0.767118026433], [0.203897665328, 0.977598806186, 0.052214138092], [0.758809452408, -0.124115259463, -0.639377523303]])\n",
        "w0 = np.array([[0.040000000000], [-1.140000000000], [2.640000000000]])\n",
        "t = 11.360000000000\n",
        "p1 = np.array([[0.710000000000], [-0.960000000000], [-2.100000000000]])\n",
        "\n",
        "w1 = np.transpose(R01) @ w0\n",
        "R = R01 @ sc.expm(skew(w1)*t)\n",
        "p0 =R @ p1\n",
        "v0=skew(w0) @ p0"
      ],
      "execution_count": null,
      "outputs": [
        {
          "output_type": "execute_result",
          "data": {
            "text/plain": [
              "array([[-2.64008296],\n",
              "       [ 0.88002862],\n",
              "       [ 0.42001362]])"
            ]
          },
          "metadata": {},
          "execution_count": 82
        }
      ]
    }
  ]
}