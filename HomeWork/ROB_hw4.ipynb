{
  "nbformat": 4,
  "nbformat_minor": 0,
  "metadata": {
    "colab": {
      "name": "ROB_hw4.ipynb",
      "provenance": []
    },
    "kernelspec": {
      "name": "python3",
      "display_name": "Python 3"
    },
    "language_info": {
      "name": "python"
    }
  },
  "cells": [
    {
      "cell_type": "code",
      "metadata": {
        "id": "td0obZvy2BBJ"
      },
      "source": [
        "import numpy as np\n",
        "import scipy.linalg as sc\n",
        "def skew(vector):\n",
        "  \n",
        "\n",
        "    vector = np.array(vector)\n",
        "\n",
        "    return np.array([[0, -vector.item(2), vector.item(1)],\n",
        "                     [vector.item(2), 0, -vector.item(0)],\n",
        "                     [-vector.item(1), vector.item(0), 0]])\n",
        "def unskew(matrix):\n",
        "  \n",
        "      return np.array([[matrix[2, 1]], \n",
        "                     [matrix[0, 2]], \n",
        "                     [matrix[1, 0]]])\n",
        "def skewtomatrix(vector):\n",
        "      [a,b] = np.split(vector,2)\n",
        "      a=skew(a)\n",
        "      a=np.concatenate((a,b), axis=1)\n",
        "      a = np.concatenate((a, np.array([[0,0,0,0]])), axis=0);\n",
        "      return a\n",
        "def matrixtoskew(matrix):\n",
        "  return np.array([[matrix[2, 1]], \n",
        "                    [matrix[0, 2]], \n",
        "                    [matrix[1, 0]],\n",
        "                    [matrix[0, 3]],\n",
        "                    [matrix[1, 3]],\n",
        "                    [matrix[2, 3]]])\n",
        "def toadjoint(matrix):\n",
        "    r = matrix[:3,:3]\n",
        "    p = matrix[0:3,3]\n",
        "    A_u = np.concatenate((r,np.zeros((3,3),int)), axis=1)\n",
        "    A_d = np.concatenate(((skew(p) @ r),r), axis=1)\n",
        "    a=np.concatenate((A_u,A_d), axis=0)\n",
        "    return a\n"
      ],
      "execution_count": null,
      "outputs": []
    },
    {
      "cell_type": "code",
      "source": [
        ""
      ],
      "metadata": {
        "id": "qHUAgncshJnc"
      },
      "execution_count": null,
      "outputs": []
    },
    {
      "cell_type": "markdown",
      "metadata": {
        "id": "9i-YYjHK2MUc"
      },
      "source": [
        "2"
      ]
    },
    {
      "cell_type": "code",
      "metadata": {
        "colab": {
          "base_uri": "https://localhost:8080/"
        },
        "id": "AytwQjAX2K8b",
        "outputId": "16381f17-c632-4437-af5f-c5d3e562108d"
      },
      "source": [
        "import numpy as np\n",
        "\n",
        "V = np.array([[  8], [  1], [  6], [ -5], [ -3], [-10]])\n",
        "\n",
        "skewtomatrix(V)"
      ],
      "execution_count": null,
      "outputs": [
        {
          "output_type": "execute_result",
          "data": {
            "text/plain": [
              "array([[  0,  -6,   1,  -5],\n",
              "       [  6,   0,  -8,  -3],\n",
              "       [ -1,   8,   0, -10],\n",
              "       [  0,   0,   0,   0]])"
            ]
          },
          "metadata": {},
          "execution_count": 6
        }
      ]
    },
    {
      "cell_type": "markdown",
      "metadata": {
        "id": "amPIFJlh28ej"
      },
      "source": [
        "3"
      ]
    },
    {
      "cell_type": "code",
      "metadata": {
        "colab": {
          "base_uri": "https://localhost:8080/"
        },
        "id": "K599aJWo29je",
        "outputId": "de521703-b9a1-4b23-ae9f-ed26c939ec27"
      },
      "source": [
        "import numpy as np\n",
        "\n",
        "M = np.array([[-0.00728336, 0.55300612, -0.83314535, 1.06133247], [0.94552848, -0.26735957, -0.18572762, 0.99720340], [-0.32545790, -0.78911538, -0.52093576, 1.78437880], [0.00000000, 0.00000000, 0.00000000, 1.00000000]])\n",
        "V_s = np.array([[-0.70900165], [-0.27580585], [-0.34436181], [0.82998398], [-0.24843366], [-0.68000909]])\n",
        "\n",
        "sc.expm(skewtomatrix(V_s)) @ M"
      ],
      "execution_count": null,
      "outputs": [
        {
          "output_type": "execute_result",
          "data": {
            "text/plain": [
              "array([[ 0.41185636,  0.49820029, -0.76300118,  1.94682309],\n",
              "       [ 0.45061677, -0.8391204 , -0.30466616,  1.11146697],\n",
              "       [-0.79203463, -0.21834244, -0.57009448,  0.69959686],\n",
              "       [ 0.        ,  0.        ,  0.        ,  1.        ]])"
            ]
          },
          "metadata": {},
          "execution_count": 8
        }
      ]
    },
    {
      "cell_type": "markdown",
      "metadata": {
        "id": "rgG3wIMC5F09"
      },
      "source": [
        "4"
      ]
    },
    {
      "cell_type": "code",
      "metadata": {
        "colab": {
          "base_uri": "https://localhost:8080/"
        },
        "id": "yqNeKsgA5Ghv",
        "outputId": "33836565-b291-4a97-ee28-6896a4899429"
      },
      "source": [
        "import numpy as np\n",
        "\n",
        "T_1in0 = np.array([[0.19566184, -0.77703485, -0.59827527, -0.51952598], [0.56269453, 0.58860391, -0.58044836, 0.18933074], [0.80317576, -0.22307463, 0.55240059, 0.74587062], [0.00000000, 0.00000000, 0.00000000, 1.00000000]])\n",
        "-matrixtoskew(sc.logm(sc.inv(T_1in0)))"
      ],
      "execution_count": null,
      "outputs": [
        {
          "output_type": "execute_result",
          "data": {
            "text/plain": [
              "array([[ 0.25408358],\n",
              "       [-0.99639584],\n",
              "       [ 0.95251332],\n",
              "       [ 0.0387514 ],\n",
              "       [ 0.46597475],\n",
              "       [ 0.88633881]])"
            ]
          },
          "metadata": {},
          "execution_count": 13
        }
      ]
    },
    {
      "cell_type": "markdown",
      "metadata": {
        "id": "x8og9Sqb6IBO"
      },
      "source": [
        "5"
      ]
    },
    {
      "cell_type": "code",
      "metadata": {
        "colab": {
          "base_uri": "https://localhost:8080/"
        },
        "id": "l_lDlV9G6Ivz",
        "outputId": "b75aad4c-8855-407b-a677-cccbe576edb8"
      },
      "source": [
        "import numpy as np\n",
        "\n",
        "t = 1.54377369\n",
        "T_1in0 = np.array([[-0.93473440, 0.00735920, 0.35527094, 0.68463401], [-0.35527511, -0.03948572, -0.93392744, 0.58508502], [0.00715517, -0.99919303, 0.03952321, 0.28263635], [0.00000000, 0.00000000, 0.00000000, 1.00000000]])\n",
        "p_2in0 = np.array([0.86434401, 1.08743525, -0.39592642])\n",
        "R_2in0 = np.array([[-0.82256936, 0.48417399, 0.29825357], [-0.52867234, -0.84431138, -0.08742915], [0.20948797, -0.22959495, 0.95047407]])\n",
        "\n",
        "T10=sc.inv(T_1in0)\n",
        "p02 = p_2in0.reshape(3,1)\n",
        "T02 = np.concatenate((R_2in0,p02), axis=1)\n",
        "T02 = np.concatenate((T02, np.array([[0,0,0,1]])), axis=0)\n",
        "matrixtoskew(sc.logm(T10 @ T02))/t"
      ],
      "execution_count": null,
      "outputs": [
        {
          "output_type": "execute_result",
          "data": {
            "text/plain": [
              "array([[ 0.84680479],\n",
              "       [-0.20135064],\n",
              "       [-0.01797826],\n",
              "       [-0.28914174],\n",
              "       [ 0.18603661],\n",
              "       [-0.47931594]])"
            ]
          },
          "metadata": {},
          "execution_count": 15
        }
      ]
    },
    {
      "cell_type": "code",
      "metadata": {
        "id": "XI-N0HY_72Or"
      },
      "source": [
        "6"
      ],
      "execution_count": null,
      "outputs": []
    },
    {
      "cell_type": "code",
      "metadata": {
        "colab": {
          "base_uri": "https://localhost:8080/"
        },
        "id": "_tVx09Gt8846",
        "outputId": "c6bddc50-1f28-45df-8f1e-2da41af7fd5f"
      },
      "source": [
        "import numpy as np\n",
        "\n",
        "T = np.array([[-0.30163571, 0.92170405, 0.24388016, 0.93348172], [-0.87250629, -0.36997821, 0.31913775, 0.90522137], [0.38438090, -0.11652363, 0.91579122, 0.58455898], [0.00000000, 0.00000000, 0.00000000, 1.00000000]])\n",
        "toadjoint(T)\n"
      ],
      "execution_count": null,
      "outputs": [
        {
          "output_type": "execute_result",
          "data": {
            "text/plain": [
              "array([[-0.30163571,  0.92170405,  0.24388016,  0.        ,  0.        ,\n",
              "         0.        ],\n",
              "       [-0.87250629, -0.36997821,  0.31913775,  0.        ,  0.        ,\n",
              "         0.        ],\n",
              "       [ 0.3843809 , -0.11652363,  0.91579122,  0.        ,  0.        ,\n",
              "         0.        ],\n",
              "       [ 0.85798119,  0.11079441,  0.64243895, -0.30163571,  0.92170405,\n",
              "         0.24388016],\n",
              "       [-0.53513641,  0.64756306, -0.71231203, -0.87250629, -0.36997821,\n",
              "         0.31913775],\n",
              "       [-0.54142158, -1.1797141 ,  0.07714372,  0.3843809 , -0.11652363,\n",
              "         0.91579122]])"
            ]
          },
          "metadata": {},
          "execution_count": 4
        }
      ]
    },
    {
      "cell_type": "markdown",
      "metadata": {
        "id": "jlhVx7pIkPSu"
      },
      "source": [
        "7"
      ]
    },
    {
      "cell_type": "code",
      "metadata": {
        "colab": {
          "base_uri": "https://localhost:8080/"
        },
        "id": "Wtpji6w1kQD8",
        "outputId": "555e91dd-d1b5-4299-ddb8-4c27c3eec33b"
      },
      "source": [
        "import numpy as np\n",
        "\n",
        "V_sb_in_b = np.array([[-0.93477106], [-0.85832345], [-0.86945878], [-0.64580688], [0.91756792], [0.64423437]])\n",
        "T_sb = np.array([[-0.78510668, -0.37298356, -0.49446007, -0.25423134], [0.16986062, 0.63806430, -0.75101353, -0.87164444], [0.59561302, -0.67361503, -0.43759333, 0.13134053], [0.00000000, 0.00000000, 0.00000000, 1.00000000]])\n",
        "\n",
        "toadjoint(T_sb) @ V_sb_in_b"
      ],
      "execution_count": null,
      "outputs": [
        {
          "output_type": "execute_result",
          "data": {
            "text/plain": [
              "array([[ 1.48394819],\n",
              "       [-0.05347104],\n",
              "       [ 0.40188713],\n",
              "       [-0.49703839],\n",
              "       [ 0.28901629],\n",
              "       [ 0.02241801]])"
            ]
          },
          "metadata": {},
          "execution_count": 5
        }
      ]
    },
    {
      "cell_type": "markdown",
      "metadata": {
        "id": "LsgVkEd8ksNj"
      },
      "source": [
        "8"
      ]
    },
    {
      "cell_type": "code",
      "metadata": {
        "id": "RmMSA680ktCx"
      },
      "source": [
        "import numpy as np\n",
        "\n",
        "T_sb = np.array([[-0.22052091, -0.89410570, 0.38980189, -0.99112670], [-0.15643243, -0.36204669, -0.91894020, 0.59559856], [0.96275616, -0.26362319, -0.06002826, -0.87501666], [0.00000000, 0.00000000, 0.00000000, 1.00000000]])\n",
        "V_sb_in_s = np.array([[0.00423026], [-0.70567809], [-0.37807766], [-0.62703912], [0.25526076], [1.55641895]])\n",
        "q_B = np.array([[-0.82814003], [-1.02377835], [1.19515181], [1.00000000]])\n",
        "T = np.linalg.inv(T_sb)\n",
        "vb = toadjoint(T) @ V_sb_in_s\n"
      ],
      "execution_count": null,
      "outputs": []
    },
    {
      "cell_type": "code",
      "metadata": {
        "colab": {
          "base_uri": "https://localhost:8080/"
        },
        "id": "SxhChvNMoQ-w",
        "outputId": "b982ad7b-e0e3-430d-f6e6-cb7e45bef81c"
      },
      "source": [
        "[a,b] = np.split(vb,2)\n",
        "ans = b + skew(a) @ q_B[0:3]\n",
        "ans = np.concatenate((ans, np.array([[0]])), axis=0);\n",
        "ans"
      ],
      "execution_count": null,
      "outputs": [
        {
          "output_type": "execute_result",
          "data": {
            "text/plain": [
              "array([[ 1.78959846e+00],\n",
              "       [-9.01780973e-01],\n",
              "       [ 1.71571836e-03],\n",
              "       [ 0.00000000e+00]])"
            ]
          },
          "metadata": {},
          "execution_count": 30
        }
      ]
    },
    {
      "cell_type": "markdown",
      "metadata": {
        "id": "dLo0CsEgpRnH"
      },
      "source": [
        ""
      ]
    },
    {
      "cell_type": "markdown",
      "metadata": {
        "id": "e1Iz7BZTok-m"
      },
      "source": [
        "dont forget to add 0 at end of matrix"
      ]
    }
  ]
}