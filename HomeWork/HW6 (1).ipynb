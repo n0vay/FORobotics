{
  "nbformat": 4,
  "nbformat_minor": 0,
  "metadata": {
    "kernelspec": {
      "display_name": "Python 3",
      "language": "python",
      "name": "python3"
    },
    "language_info": {
      "codemirror_mode": {
        "name": "ipython",
        "version": 3
      },
      "file_extension": ".py",
      "mimetype": "text/x-python",
      "name": "python",
      "nbconvert_exporter": "python",
      "pygments_lexer": "ipython3",
      "version": "3.8.5"
    },
    "colab": {
      "name": "HW6.ipynb",
      "provenance": []
    }
  },
  "cells": [
    {
      "cell_type": "code",
      "metadata": {
        "id": "dlGWBysbf_Yl"
      },
      "source": [
        ""
      ],
      "execution_count": null,
      "outputs": []
    },
    {
      "cell_type": "markdown",
      "metadata": {
        "id": "mfl3wBxwf_Ym"
      },
      "source": [
        "## 6.3"
      ]
    },
    {
      "cell_type": "code",
      "metadata": {
        "id": "WPCg69v8f_Yn"
      },
      "source": [
        "import numpy as np\n",
        "\n",
        "theta = np.array([[0.44000000], [-0.93000000], [-0.30000000], [-0.65000000], [0.16000000], [0.11000000], [-0.54000000], [0.45000000]])\n",
        "dtheta = np.array([[-0.25000000], [-0.38000000], [-0.75000000], [0.05000000], [0.59000000], [-0.95000000], [0.09000000], [-0.67000000]])\n",
        "jacobian = np.array([[0.00000000, 0.00000000, 0.00000000, -0.41687080, -0.41687080,  0.00000000, 0.00000000, 0.00000000], [0.00000000, 0.00000000, 0.00000000, -0.90896575, -0.90896575,  0.00000000, 0.00000000, 0.00000000], [0.00000000, 0.00000000, 0.00000000, 0.00000000, 0.00000000, -1.00000000,  -1.00000000, 0.00000000], [-0.41687080, 0.80201035, -0.42778281, 5.45379450, 5.45379450,  4.16541736, 2.45000000, 0.00000000], [-0.90896575, -0.36781881, 0.19619019, -2.50122481, -2.50122481,  -1.02827198, -0.00000000, 1.00000000], [0.00000000, 0.47062589, 0.88233286, -0.80177686, -0.80177686,  -0.00000000, 0.00000000, 0.00000000]])\n",
        "T_1in0 = np.array([[-0.42778281, 0.19619019, 0.88233286, 0.78333980], [-0.41687080, -0.90896575, 0.00000000, 2.22512172], [0.80201035, -0.36781881, 0.47062589, -4.46118940], [0.00000000, 0.00000000, 0.00000000, 1.00000000]])"
      ],
      "execution_count": null,
      "outputs": []
    },
    {
      "cell_type": "code",
      "metadata": {
        "id": "xnOFCPDNf_Yp",
        "outputId": "5b36ae92-a175-4ffc-f37b-1f16ff0a1100"
      },
      "source": [
        "ans= jacobian@dtheta\n",
        "ans #v010"
      ],
      "execution_count": null,
      "outputs": [
        {
          "data": {
            "text/plain": [
              "array([[-0.26679731],\n",
              "       [-0.58173808],\n",
              "       [ 0.86      ],\n",
              "       [-0.12592714],\n",
              "       [-1.07405555],\n",
              "       [-1.35372467]])"
            ]
          },
          "execution_count": 2,
          "metadata": {},
          "output_type": "execute_result"
        }
      ]
    },
    {
      "cell_type": "code",
      "metadata": {
        "id": "fcPu0tLof_Yq"
      },
      "source": [
        "import numpy as np\n",
        "\n",
        "theta = np.array([[-0.83000000], [-0.52000000], [-0.07000000], [-0.53000000], [-0.72000000], [0.46000000], [-0.39000000], [0.54000000], [-0.82000000]])\n",
        "dtheta = np.array([[0.07000000], [0.41000000], [0.22000000], [0.13000000], [-0.59000000], [-0.60000000], [0.67000000], [0.31000000], [0.95000000]])\n",
        "jacobian = np.array([[0.95620882, -0.24235249, -0.91135612, -0.26502958, -0.62711013,  0.00000000, 0.00000000, -0.68222121, 0.00000000], [0.28287328, 0.62126764, 0.11761695, 0.56555996, 0.51413599, 0.00000000,  0.00000000, -0.00000000, 1.00000000], [0.07514916, 0.74517903, -0.39445693, 0.78096175, -0.58514705,  0.00000000, 0.00000000, 0.73114583, 0.00000000], [-0.12536133, -3.06546241, 2.49329546, -1.02418829, 5.36289360,  0.62711013, 0.37590839, -1.46229166, 2.00000000], [-1.51349398, 2.18913975, 3.23960354, 3.72566725, 1.25422025,  -0.51413599, 0.85770868, 3.36444241, -0.00000000], [7.29214580, -2.82209247, -4.79456096, -3.04564009, -4.64547347,  0.58514705, 0.35075448, -1.36444241, -0.00000000]])\n",
        "T_1in0 = np.array([[0.04246070, 0.11997178, -0.99186887, -0.65501997], [-0.95620882, -0.28287328, -0.07514916, -5.97275287], [-0.28958898, 0.95162465, 0.10270707, 7.41975193], [0.00000000, 0.00000000, 0.00000000, 1.00000000]])"
      ],
      "execution_count": null,
      "outputs": []
    },
    {
      "cell_type": "code",
      "metadata": {
        "id": "o37DKabDf_Yq",
        "outputId": "c6526991-a505-4108-c4d7-78c7be080106"
      },
      "source": [
        "ans= jacobian@dtheta\n",
        "ans #v010"
      ],
      "execution_count": null,
      "outputs": [
        {
          "data": {
            "text/plain": [
              "array([[-0.10887569],\n",
              "       [ 1.02057915],\n",
              "       [ 0.89742031],\n",
              "       [-2.69205945],\n",
              "       [ 3.17478585],\n",
              "       [ 0.10442514]])"
            ]
          },
          "execution_count": 5,
          "metadata": {},
          "output_type": "execute_result"
        }
      ]
    },
    {
      "cell_type": "code",
      "metadata": {
        "id": "UU1-SINHf_Yr"
      },
      "source": [
        "import numpy as np\n",
        "\n",
        "theta = np.array([[-0.67000000], [0.74000000], [-1.00000000], [0.92000000], [-0.91000000], [0.77000000], [0.90000000]])\n",
        "dtheta = np.array([[-0.88000000], [-0.38000000], [-0.18000000], [0.85000000], [-0.36000000], [0.38000000], [0.19000000]])\n",
        "jacobian = np.array([[0.00000000, 0.56679316, 0.00000000, 0.00000000, -0.69613524,  -0.00000000, 0.00000000], [0.00000000, 0.54960137, 0.00000000, 0.00000000, 0.71791067, -0.00000000,  0.00000000], [0.00000000, 0.61374575, 0.00000000, 0.00000000, -0.00000000,  -1.00000000, 0.00000000], [0.56679316, -5.96336778, -0.69613524, -0.56679316, -1.43582134,  2.90000000, -0.00000000], [0.54960137, -1.85716399, 0.71791067, -0.54960137, -1.39227048,  -0.00000000, 1.00000000], [0.61374575, 7.17022634, -0.00000000, -0.61374575, -2.01879219,  -0.00000000, 0.00000000]])\n",
        "T_1in0 = np.array([[0.79477562, -0.16856776, -0.58302369, -4.04281451], [0.21697287, -0.81824400, 0.53235283, -4.60689316], [-0.56679316, -0.54960137, -0.61374575, 1.22364751], [0.00000000, 0.00000000, 0.00000000, 1.00000000]])"
      ],
      "execution_count": null,
      "outputs": []
    },
    {
      "cell_type": "code",
      "metadata": {
        "id": "-ZjbrctUf_Yr",
        "outputId": "c404071c-9e47-4280-a234-613e5a769e05"
      },
      "source": [
        "ans= jacobian@dtheta\n",
        "ans #v010"
      ],
      "execution_count": null,
      "outputs": [
        {
          "data": {
            "text/plain": [
              "array([[ 0.03522729],\n",
              "       [-0.46729636],\n",
              "       [-0.61322338],\n",
              "       [ 3.02972762],\n",
              "       [ 0.3169054 ],\n",
              "       [-3.05970097]])"
            ]
          },
          "execution_count": 7,
          "metadata": {},
          "output_type": "execute_result"
        }
      ]
    },
    {
      "cell_type": "code",
      "metadata": {
        "id": "U2nG4Q0Uf_Ys"
      },
      "source": [
        "import numpy as np\n",
        "\n",
        "theta = np.array([[1.00000000], [0.29000000], [0.04000000], [-0.34000000], [-0.66000000], [-0.49000000], [-0.37000000], [0.78000000]])\n",
        "dtheta = np.array([[0.62000000], [0.12000000], [0.51000000], [0.73000000], [0.32000000], [-0.05000000], [-0.63000000], [0.98000000]])\n",
        "jacobian = np.array([[0.13076572, 0.93232735, 0.00000000, 0.00000000, 0.93232735, 0.00000000,  0.00000000, 0.00000000], [0.93232735, -0.00000000, 0.00000000, 0.00000000, -0.00000000,  0.00000000, 1.00000000, 0.00000000], [0.33714396, -0.36161543, 0.00000000, 0.00000000, -0.36161543,  0.00000000, 0.00000000, 0.00000000], [-5.48980851, 0.90601652, 0.22171252, 0.22171252, 0.10486848, 0.00000000,  -2.00000000, 0.00000000], [0.93581935, 6.48532781, 0.78999223, 0.78999223, 3.14142383, 1.00000000,  -0.00000000, 1.00000000], [-0.45859107, 2.33591795, 0.57162561, 0.57162561, 0.27037493, 0.00000000,  -2.00000000, 0.00000000]])\n",
        "T_1in0 = np.array([[0.78743547, -0.30428889, 0.53605377, -2.76911505], [0.13076572, 0.93232735, 0.33714396, -0.00927667], [-0.60236675, -0.19538165, 0.77393818, -2.85345886], [0.00000000, 0.00000000, 0.00000000, 1.00000000]])"
      ],
      "execution_count": null,
      "outputs": []
    },
    {
      "cell_type": "code",
      "metadata": {
        "id": "O71aBiDVf_Yt",
        "outputId": "2ecf2cd4-6fba-4d22-96e9-91e6af69296e"
      },
      "source": [
        "ans= jacobian@dtheta\n",
        "ans #v010"
      ],
      "execution_count": null,
      "outputs": [
        {
          "data": {
            "text/plain": [
              "array([[ 0.49129878],\n",
              "       [-0.05195704],\n",
              "       [ 0.04991847],\n",
              "       [-1.72647786],\n",
              "       [ 4.27329333],\n",
              "       [ 2.05131942]])"
            ]
          },
          "execution_count": 9,
          "metadata": {},
          "output_type": "execute_result"
        }
      ]
    },
    {
      "cell_type": "code",
      "metadata": {
        "id": "Ww3Q6zHrf_Yt"
      },
      "source": [
        "theta = np.array([[-0.10000000], [-0.02000000], [0.66000000], [-0.69000000], [-0.83000000], [-0.26000000], [0.59000000]])\n",
        "dtheta = np.array([[-0.37000000], [-0.10000000], [0.73000000], [-0.94000000], [0.51000000], [0.19000000], [0.15000000]])\n",
        "jacobian = np.array([[-1.00000000, 0.00000000, 0.00000000, 0.00000000, 0.00000000, 0.00000000,  0.00000000], [0.00000000, 0.00000000, 0.00000000, 0.00000000, 0.00000000, 0.00000000,  0.00000000], [0.00000000, 0.00000000, 0.00000000, 0.00000000, 0.00000000, 0.00000000,  0.00000000], [0.00000000, -1.00000000, 0.00000000, 0.00000000, 0.00000000, 0.00000000,  0.00000000], [0.00000000, 0.00000000, -0.99500417, -0.09983342, -0.09983342,  -0.99500417, -0.09983342], [0.00000000, 0.00000000, -0.09983342, 0.99500417, 0.99500417,  -0.09983342, 0.99500417]])\n",
        "T_1in0 = np.array([[-1.00000000, 0.00000000, 0.00000000, -9.98000000], [0.00000000, -0.99500417, -0.09983342, -8.26518991], [0.00000000, -0.09983342, 0.99500417, -1.76395457], [0.00000000, 0.00000000, 0.00000000, 1.00000000]])\n"
      ],
      "execution_count": null,
      "outputs": []
    },
    {
      "cell_type": "code",
      "metadata": {
        "id": "6k21OWQzf_Yu",
        "outputId": "a8895b76-a9e2-438a-cdd9-f41c429f3d7f"
      },
      "source": [
        "ans= jacobian@dtheta\n",
        "ans #v010"
      ],
      "execution_count": null,
      "outputs": [
        {
          "data": {
            "text/plain": [
              "array([[ 0.37      ],\n",
              "       [ 0.        ],\n",
              "       [ 0.        ],\n",
              "       [ 0.1       ],\n",
              "       [-0.88745048],\n",
              "       [-0.37044791]])"
            ]
          },
          "execution_count": 7,
          "metadata": {},
          "output_type": "execute_result"
        }
      ]
    },
    {
      "cell_type": "markdown",
      "metadata": {
        "id": "M4wadPwCf_Yu"
      },
      "source": [
        "## 6.4"
      ]
    },
    {
      "cell_type": "code",
      "metadata": {
        "id": "7xMKIpbPf_Yu",
        "outputId": "25f58d88-d2ca-49f5-aa23-5d8922eb0fe2"
      },
      "source": [
        "from scipy.linalg import expm\n",
        "import numpy as np\n",
        "\n",
        "theta = np.array([[-0.43000000], [0.19000000], [0.06000000]])\n",
        "\n",
        "s1 = np.array([[0],[0],[0],[0],[-1],[0]])\n",
        "s2 = np.array([[0],[0],[0],[1],[0],[0]])\n",
        "s3 = np.array([[0],[0],[1],[0],[-4],[0]])\n",
        "\n",
        "M = [[-1,0,0,4],[0,-1,0,0],[0,0,1,6],[0,0,0,1]]\n",
        "\n",
        "def twist(vector):\n",
        "    vector=np.array(vector)\n",
        "    return np.array([[0, -vector.item(2), vector.item(1),vector.item(3)],\n",
        "                     [vector.item(2), 0, -vector.item(0),vector.item(4)],\n",
        "                     [-vector.item(1), vector.item(0), 0,vector.item(5)],\n",
        "                    [0,0,0,0]])\n",
        "\n",
        "def adjform(vector):\n",
        "    vector=np.array(vector);\n",
        "    \n",
        "    def skew(vector):\n",
        "        vector = np.array(vector)\n",
        "        return np.array([[0, -vector.item(2), vector.item(1)],\n",
        "                     [vector.item(2), 0, -vector.item(0)],\n",
        "                     [-vector.item(1), vector.item(0), 0]])\n",
        "    def retR(vector):\n",
        "        vector=np.array(vector)\n",
        "        return np.array([[vector.item(0),vector.item(1),vector.item(2)],\n",
        "                    [vector.item(4),vector.item(5),vector.item(6)],\n",
        "                    [vector.item(8),vector.item(9),vector.item(10)]])\n",
        "\n",
        "    def retP(vector):\n",
        "        vector=np.array(vector)\n",
        "        return np.array([[vector.item(3)],\n",
        "                    [vector.item(7)],\n",
        "                    [vector.item(11)]])\n",
        "\n",
        "\n",
        "    R=retR(vector);\n",
        "    p=retP(vector);\n",
        "    pt=skew(p)@R;\n",
        "\n",
        "    return np.array([[vector.item(0),vector.item(1),vector.item(2),0,0,0],\n",
        "                     [vector.item(4),vector.item(5),vector.item(6),0,0,0],\n",
        "                     [vector.item(8),vector.item(9),vector.item(10),0,0,0],\n",
        "                     [pt.item(0),pt.item(1),pt.item(2),vector.item(0),vector.item(1),vector.item(2)],\n",
        "                     [pt.item(3),pt.item(4),pt.item(5),vector.item(4),vector.item(5),vector.item(6)],\n",
        "                     [pt.item(6),pt.item(7),pt.item(8),vector.item(8),vector.item(9),vector.item(10)]]);\n",
        "\n",
        "J1=s1;\n",
        "J2=adjform(expm(twist(s1*theta.item(0))))@s2\n",
        "J3=adjform((expm(twist(s1*theta.item(0))))@(scipy.linalg.expm(twist(s2*theta.item(1)))))@s3\n",
        "\n",
        "print(repr(J1))\n",
        "print(repr(J2))\n",
        "print(repr(J3))\n",
        "\n",
        "\n",
        "ans = np.array([[J1.item(0),J2.item(0),J3.item(0)],\n",
        "                     [J1.item(1),J2.item(1),J3.item(1)],\n",
        "                     [J1.item(2),J2.item(2),J3.item(2)],\n",
        "                     [J1.item(3),J2.item(3),J3.item(3)],\n",
        "                     [J1.item(4),J2.item(4),J3.item(4)],\n",
        "                     [J1.item(5),J2.item(5),J3.item(5)]]);\n",
        "\n",
        "print(repr(ans))"
      ],
      "execution_count": null,
      "outputs": [
        {
          "name": "stdout",
          "output_type": "stream",
          "text": [
            "array([[ 0],\n",
            "       [ 0],\n",
            "       [ 0],\n",
            "       [ 0],\n",
            "       [-1],\n",
            "       [ 0]])\n",
            "array([[0.],\n",
            "       [0.],\n",
            "       [0.],\n",
            "       [1.],\n",
            "       [0.],\n",
            "       [0.]])\n",
            "array([[ 0.  ],\n",
            "       [ 0.  ],\n",
            "       [ 1.  ],\n",
            "       [ 0.43],\n",
            "       [-4.19],\n",
            "       [ 0.  ]])\n",
            "array([[ 0.  ,  0.  ,  0.  ],\n",
            "       [ 0.  ,  0.  ,  0.  ],\n",
            "       [ 0.  ,  0.  ,  1.  ],\n",
            "       [ 0.  ,  1.  ,  0.43],\n",
            "       [-1.  ,  0.  , -4.19],\n",
            "       [ 0.  ,  0.  ,  0.  ]])\n"
          ]
        }
      ]
    },
    {
      "cell_type": "code",
      "metadata": {
        "id": "1A8k4tbxf_Yv",
        "outputId": "68efbd67-ce46-4850-a032-5053b8d2a5ef"
      },
      "source": [
        "from scipy.linalg import expm\n",
        "import numpy as np\n",
        "\n",
        "theta = np.array([[-0.17000000], [-0.11000000], [0.48000000]])\n",
        "\n",
        "s1 = np.array([[0],[0],[1],[0],[-2],[0]])\n",
        "s2 = np.array([[0],[1],[0],[0],[0],[4]])\n",
        "s3 = np.array([[-1],[0],[0],[0],[-2],[0]])\n",
        "\n",
        "M = [[0,0,-1,0],[-1,0,0,0],[0,1,0,2],[0,0,0,1]]\n",
        "\n",
        "def twist(vector):\n",
        "    vector=np.array(vector)\n",
        "    return np.array([[0, -vector.item(2), vector.item(1),vector.item(3)],\n",
        "                     [vector.item(2), 0, -vector.item(0),vector.item(4)],\n",
        "                     [-vector.item(1), vector.item(0), 0,vector.item(5)],\n",
        "                    [0,0,0,0]])\n",
        "\n",
        "def adjform(vector):\n",
        "    vector=np.array(vector);\n",
        "    \n",
        "    def skew(vector):\n",
        "        vector = np.array(vector)\n",
        "        return np.array([[0, -vector.item(2), vector.item(1)],\n",
        "                     [vector.item(2), 0, -vector.item(0)],\n",
        "                     [-vector.item(1), vector.item(0), 0]])\n",
        "    def retR(vector):\n",
        "        vector=np.array(vector)\n",
        "        return np.array([[vector.item(0),vector.item(1),vector.item(2)],\n",
        "                    [vector.item(4),vector.item(5),vector.item(6)],\n",
        "                    [vector.item(8),vector.item(9),vector.item(10)]])\n",
        "\n",
        "    def retP(vector):\n",
        "        vector=np.array(vector)\n",
        "        return np.array([[vector.item(3)],\n",
        "                    [vector.item(7)],\n",
        "                    [vector.item(11)]])\n",
        "\n",
        "\n",
        "    R=retR(vector);\n",
        "    p=retP(vector);\n",
        "    pt=skew(p)@R;\n",
        "\n",
        "    return np.array([[vector.item(0),vector.item(1),vector.item(2),0,0,0],\n",
        "                     [vector.item(4),vector.item(5),vector.item(6),0,0,0],\n",
        "                     [vector.item(8),vector.item(9),vector.item(10),0,0,0],\n",
        "                     [pt.item(0),pt.item(1),pt.item(2),vector.item(0),vector.item(1),vector.item(2)],\n",
        "                     [pt.item(3),pt.item(4),pt.item(5),vector.item(4),vector.item(5),vector.item(6)],\n",
        "                     [pt.item(6),pt.item(7),pt.item(8),vector.item(8),vector.item(9),vector.item(10)]]);\n",
        "\n",
        "J1=s1;\n",
        "J2=adjform(expm(twist(s1*theta.item(0))))@s2\n",
        "J3=adjform((expm(twist(s1*theta.item(0))))@(scipy.linalg.expm(twist(s2*theta.item(1)))))@s3\n",
        "\n",
        "print(repr(J1))\n",
        "print(repr(J2))\n",
        "print(repr(J3))\n",
        "\n",
        "\n",
        "ans = np.array([[J1.item(0),J2.item(0),J3.item(0)],\n",
        "                     [J1.item(1),J2.item(1),J3.item(1)],\n",
        "                     [J1.item(2),J2.item(2),J3.item(2)],\n",
        "                     [J1.item(3),J2.item(3),J3.item(3)],\n",
        "                     [J1.item(4),J2.item(4),J3.item(4)],\n",
        "                     [J1.item(5),J2.item(5),J3.item(5)]]);\n",
        "\n",
        "print(repr(ans))"
      ],
      "execution_count": null,
      "outputs": [
        {
          "name": "stdout",
          "output_type": "stream",
          "text": [
            "array([[ 0],\n",
            "       [ 0],\n",
            "       [ 1],\n",
            "       [ 0],\n",
            "       [-2],\n",
            "       [ 0]])\n",
            "array([[0.16918235],\n",
            "       [0.98558477],\n",
            "       [0.        ],\n",
            "       [0.        ],\n",
            "       [0.        ],\n",
            "       [3.97116953]])\n",
            "array([[-0.97962799],\n",
            "       [ 0.16815983],\n",
            "       [-0.1097783 ],\n",
            "       [-0.3012196 ],\n",
            "       [-1.53522129],\n",
            "       [ 0.33631966]])\n",
            "array([[ 0.        ,  0.16918235, -0.97962799],\n",
            "       [ 0.        ,  0.98558477,  0.16815983],\n",
            "       [ 1.        ,  0.        , -0.1097783 ],\n",
            "       [ 0.        ,  0.        , -0.3012196 ],\n",
            "       [-2.        ,  0.        , -1.53522129],\n",
            "       [ 0.        ,  3.97116953,  0.33631966]])\n"
          ]
        }
      ]
    },
    {
      "cell_type": "markdown",
      "metadata": {
        "id": "0Wu3eKH1f_Yv"
      },
      "source": [
        "## 6.2"
      ]
    },
    {
      "cell_type": "code",
      "metadata": {
        "id": "QdOHIolBf_Yv",
        "outputId": "0ed83a2c-a482-4b23-cb78-2a024438815f"
      },
      "source": [
        "# body twist v011\n",
        "import numpy as np\n",
        "\n",
        "theta = 0.36\n",
        "dtheta = 0.56\n",
        "\n",
        "T=np.array([[0,-1,0,-2],[0,0,1,2],[-1,0,0,0],[0,0,0,1]])\n",
        "\n",
        "S=np.array([[0],\n",
        "            [0],\n",
        "            [-1],\n",
        "            [-2],\n",
        "            [0],\n",
        "            [0]])\n",
        "\n",
        "def adjform(vector):\n",
        "    vector=np.array(vector);\n",
        "    \n",
        "    def skew(vector):\n",
        "        vector = np.array(vector)\n",
        "        return np.array([[0, -vector.item(2), vector.item(1)],\n",
        "                     [vector.item(2), 0, -vector.item(0)],\n",
        "                     [-vector.item(1), vector.item(0), 0]])\n",
        "    def retR(vector):\n",
        "        vector=np.array(vector)\n",
        "        return np.array([[vector.item(0),vector.item(1),vector.item(2)],\n",
        "                    [vector.item(4),vector.item(5),vector.item(6)],\n",
        "                    [vector.item(8),vector.item(9),vector.item(10)]])\n",
        "\n",
        "    def retP(vector):\n",
        "        vector=np.array(vector)\n",
        "        return np.array([[vector.item(3)],\n",
        "                    [vector.item(7)],\n",
        "                    [vector.item(11)]])\n",
        "    R=retR(vector);\n",
        "    p=retP(vector);\n",
        "    pt=skew(p)@R;\n",
        "\n",
        "    return np.array([[vector.item(0),vector.item(1),vector.item(2),0,0,0],\n",
        "                     [vector.item(4),vector.item(5),vector.item(6),0,0,0],\n",
        "                     [vector.item(8),vector.item(9),vector.item(10),0,0,0],\n",
        "                     [pt.item(0),pt.item(1),pt.item(2),vector.item(0),vector.item(1),vector.item(2)],\n",
        "                     [pt.item(3),pt.item(4),pt.item(5),vector.item(4),vector.item(5),vector.item(6)],\n",
        "                     [pt.item(6),pt.item(7),pt.item(8),vector.item(8),vector.item(9),vector.item(10)]]);\n",
        "\n",
        "A=adjform(np.linalg.inv(T));\n",
        "V=A@(S*dtheta) # when spatial v010 only s*dtheta\n",
        "V"
      ],
      "execution_count": null,
      "outputs": [
        {
          "data": {
            "text/plain": [
              "array([[0.56],\n",
              "       [0.  ],\n",
              "       [0.  ],\n",
              "       [0.  ],\n",
              "       [0.  ],\n",
              "       [1.12]])"
            ]
          },
          "execution_count": 18,
          "metadata": {},
          "output_type": "execute_result"
        }
      ]
    },
    {
      "cell_type": "code",
      "metadata": {
        "id": "fgBNo4jyf_Yw",
        "outputId": "e3788553-7737-48b3-bdf2-f99a4711e9ae"
      },
      "source": [
        "theta = 0.41\n",
        "dtheta = -0.72\n",
        "\n",
        "T=np.array([[0,0,-1,0],[-1,0,0,2],[0,1,0,2],[0,0,0,1]])\n",
        "\n",
        "S=np.array([[1],\n",
        "            [0],\n",
        "            [0],\n",
        "            [0],\n",
        "            [0],\n",
        "            [-2]])\n",
        "\n",
        "def adjform(vector):\n",
        "    vector=np.array(vector);\n",
        "    \n",
        "    def skew(vector):\n",
        "        vector = np.array(vector)\n",
        "        return np.array([[0, -vector.item(2), vector.item(1)],\n",
        "                     [vector.item(2), 0, -vector.item(0)],\n",
        "                     [-vector.item(1), vector.item(0), 0]])\n",
        "    def retR(vector):\n",
        "        vector=np.array(vector)\n",
        "        return np.array([[vector.item(0),vector.item(1),vector.item(2)],\n",
        "                    [vector.item(4),vector.item(5),vector.item(6)],\n",
        "                    [vector.item(8),vector.item(9),vector.item(10)]])\n",
        "\n",
        "    def retP(vector):\n",
        "        vector=np.array(vector)\n",
        "        return np.array([[vector.item(3)],\n",
        "                    [vector.item(7)],\n",
        "                    [vector.item(11)]])\n",
        "    R=retR(vector);\n",
        "    p=retP(vector);\n",
        "    pt=skew(p)@R;\n",
        "\n",
        "    return np.array([[vector.item(0),vector.item(1),vector.item(2),0,0,0],\n",
        "                     [vector.item(4),vector.item(5),vector.item(6),0,0,0],\n",
        "                     [vector.item(8),vector.item(9),vector.item(10),0,0,0],\n",
        "                     [pt.item(0),pt.item(1),pt.item(2),vector.item(0),vector.item(1),vector.item(2)],\n",
        "                     [pt.item(3),pt.item(4),pt.item(5),vector.item(4),vector.item(5),vector.item(6)],\n",
        "                     [pt.item(6),pt.item(7),pt.item(8),vector.item(8),vector.item(9),vector.item(10)]]);\n",
        "\n",
        "A=adjform(np.linalg.inv(T));\n",
        "V=A@(S*dtheta) # when spatial v010 only s*dtheta\n",
        "V\n"
      ],
      "execution_count": null,
      "outputs": [
        {
          "data": {
            "text/plain": [
              "array([[ 0.  ],\n",
              "       [ 0.  ],\n",
              "       [ 0.72],\n",
              "       [-1.44],\n",
              "       [ 0.  ],\n",
              "       [ 0.  ]])"
            ]
          },
          "execution_count": 20,
          "metadata": {},
          "output_type": "execute_result"
        }
      ]
    },
    {
      "cell_type": "code",
      "metadata": {
        "id": "A94PAhQaf_Yw",
        "outputId": "094daa17-c8a7-4955-d957-7917b97ab595"
      },
      "source": [
        "theta = 0.30\n",
        "dtheta = 0.30\n",
        "\n",
        "T=np.array([[0,-1,0,-2],[0,0,-1,-4],[1,0,0,0],[0,0,0,1]])\n",
        "\n",
        "S=np.array([[0],\n",
        "            [0],\n",
        "            [0],\n",
        "            [0],\n",
        "            [0],\n",
        "            [-1]])\n",
        "\n",
        "def adjform(vector):\n",
        "    vector=np.array(vector);\n",
        "    \n",
        "    def skew(vector):\n",
        "        vector = np.array(vector)\n",
        "        return np.array([[0, -vector.item(2), vector.item(1)],\n",
        "                     [vector.item(2), 0, -vector.item(0)],\n",
        "                     [-vector.item(1), vector.item(0), 0]])\n",
        "    def retR(vector):\n",
        "        vector=np.array(vector)\n",
        "        return np.array([[vector.item(0),vector.item(1),vector.item(2)],\n",
        "                    [vector.item(4),vector.item(5),vector.item(6)],\n",
        "                    [vector.item(8),vector.item(9),vector.item(10)]])\n",
        "\n",
        "    def retP(vector):\n",
        "        vector=np.array(vector)\n",
        "        return np.array([[vector.item(3)],\n",
        "                    [vector.item(7)],\n",
        "                    [vector.item(11)]])\n",
        "    R=retR(vector);\n",
        "    p=retP(vector);\n",
        "    pt=skew(p)@R;\n",
        "\n",
        "    return np.array([[vector.item(0),vector.item(1),vector.item(2),0,0,0],\n",
        "                     [vector.item(4),vector.item(5),vector.item(6),0,0,0],\n",
        "                     [vector.item(8),vector.item(9),vector.item(10),0,0,0],\n",
        "                     [pt.item(0),pt.item(1),pt.item(2),vector.item(0),vector.item(1),vector.item(2)],\n",
        "                     [pt.item(3),pt.item(4),pt.item(5),vector.item(4),vector.item(5),vector.item(6)],\n",
        "                     [pt.item(6),pt.item(7),pt.item(8),vector.item(8),vector.item(9),vector.item(10)]]);\n",
        "\n",
        "A=adjform(np.linalg.inv(T));\n",
        "V=A@(S*dtheta) # when spatial v010 only s*dtheta\n",
        "V\n"
      ],
      "execution_count": null,
      "outputs": [
        {
          "data": {
            "text/plain": [
              "array([[ 0. ],\n",
              "       [ 0. ],\n",
              "       [ 0. ],\n",
              "       [-0.3],\n",
              "       [ 0. ],\n",
              "       [ 0. ]])"
            ]
          },
          "execution_count": 21,
          "metadata": {},
          "output_type": "execute_result"
        }
      ]
    },
    {
      "cell_type": "code",
      "metadata": {
        "id": "lsDM0KeGf_Yx"
      },
      "source": [
        ""
      ],
      "execution_count": null,
      "outputs": []
    }
  ]
}