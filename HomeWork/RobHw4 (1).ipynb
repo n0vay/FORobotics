{
  "nbformat": 4,
  "nbformat_minor": 0,
  "metadata": {
    "colab": {
      "name": "RobHw4.ipynb",
      "provenance": [],
      "collapsed_sections": []
    },
    "kernelspec": {
      "name": "python3",
      "display_name": "Python 3"
    },
    "language_info": {
      "name": "python"
    }
  },
  "cells": [
    {
      "cell_type": "code",
      "metadata": {
        "id": "01ETvpitsFYj"
      },
      "source": [
        "import numpy as np\n",
        "import scipy.linalg as sc\n",
        "def skew(vector):\n",
        "  \n",
        "\n",
        "    vector = np.array(vector)\n",
        "\n",
        "    return np.array([[0, -vector.item(2), vector.item(1)],\n",
        "                     [vector.item(2), 0, -vector.item(0)],\n",
        "                     [-vector.item(1), vector.item(0), 0]])\n",
        "def unskew(matrix):\n",
        "  \n",
        "      return np.array([[matrix[2, 1]], \n",
        "                     [matrix[0, 2]], \n",
        "                     [matrix[1, 0]]])\n",
        "def screwtomatrix(vector):\n",
        "      [a,b] = np.split(vector,2)\n",
        "      a=skew(a)\n",
        "      a=np.concatenate((a,b), axis=1)\n",
        "      a = np.concatenate((a, np.array([[0,0,0,0]])), axis=0);\n",
        "      return a\n",
        "def matrixtoskew(matrix):\n",
        "  return np.array([[matrix[2, 1]], \n",
        "                    [matrix[0, 2]], \n",
        "                    [matrix[1, 0]],\n",
        "                    [matrix[0, 3]],\n",
        "                    [matrix[1, 3]],\n",
        "                    [matrix[2, 3]]])"
      ],
      "execution_count": null,
      "outputs": []
    },
    {
      "cell_type": "code",
      "metadata": {
        "id": "ZBmXjtX9fIt_"
      },
      "source": [
        "def unskew(matrix):\n",
        "  \n",
        "    return np.array([[matrix[2, 1]], \n",
        "                     [matrix[0, 2]], \n",
        "                     [matrix[1, 0]]])"
      ],
      "execution_count": null,
      "outputs": []
    },
    {
      "cell_type": "code",
      "metadata": {
        "id": "HU7Fac49sPa2"
      },
      "source": [
        "def screwtomatrix(vector):\n",
        "  [a,b] = np.split(vector,2)\n",
        "  a=skew(a)\n",
        "  a=np.concatenate((a,b), axis=1)\n",
        "  a = np.concatenate((a, np.array([[0,0,0,0]])), axis=0);\n",
        "  return a\n"
      ],
      "execution_count": null,
      "outputs": []
    },
    {
      "cell_type": "code",
      "metadata": {
        "id": "WxD6oP0LgJ7b"
      },
      "source": [
        "def matrixtoskew(matrix):\n",
        "  return np.array([[matrix[2, 1]], \n",
        "                    [matrix[0, 2]], \n",
        "                    [matrix[1, 0]],\n",
        "                    [matrix[0, 3]],\n",
        "                    [matrix[1, 3]],\n",
        "                    [matrix[2, 3]]])"
      ],
      "execution_count": null,
      "outputs": []
    },
    {
      "cell_type": "code",
      "metadata": {
        "colab": {
          "base_uri": "https://localhost:8080/"
        },
        "id": "ijZSNober-gZ",
        "outputId": "6b2fe5a8-166a-4422-d9e2-c90d4312a4c5"
      },
      "source": [
        "import numpy as np\n",
        "\n",
        "V = np.array([[-9], [ 8], [-1], [-6], [ 1], [-6]])\n",
        "cmat(V)"
      ],
      "execution_count": null,
      "outputs": [
        {
          "output_type": "execute_result",
          "data": {
            "text/plain": [
              "array([[ 0,  1,  8, -6],\n",
              "       [-1,  0,  9,  1],\n",
              "       [-8, -9,  0, -6],\n",
              "       [ 0,  0,  0,  0]])"
            ]
          },
          "metadata": {},
          "execution_count": 36
        }
      ]
    },
    {
      "cell_type": "code",
      "metadata": {
        "id": "yNzk8P4eCGjx"
      },
      "source": [
        "import numpy as np\n",
        "\n",
        "M = np.array([[-0.13162886, -0.84499198, -0.51832653, -1.07012807], [-0.76005977, -0.24964149, 0.59999023, -2.17826093], [-0.63638274, 0.47293517, -0.60938439, 1.71965873], [0.00000000, 0.00000000, 0.00000000, 1.00000000]])\n",
        "V_s = np.array([[-0.73152671], [0.15978134], [0.63280101], [-0.69136060], [0.63896806], [-0.60288425]])\n"
      ],
      "execution_count": null,
      "outputs": []
    },
    {
      "cell_type": "code",
      "metadata": {
        "colab": {
          "base_uri": "https://localhost:8080/"
        },
        "id": "NbA6Lqw3CNle",
        "outputId": "ef46bc7e-fcb3-4f79-ccb6-6bb080da7a1a"
      },
      "source": [
        " [a,b] = np.split(V_s,2)\n",
        " theta = theta=np.sqrt(np.sum(np.square(a)))\n",
        " omegahat = a/theta\n",
        " r=(1/theta)*((theta * np.identity(3)) + (1 -np.cos(theta) * skew(omegahat)) + ((theta - np.sin(theta)) * np.dot(skew(omegahat), skew(omegahat))))\n",
        " r = np.concatenate((r,b), axis=1)\n",
        " r = np.concatenate((r, np.array([[0,0,0,1]])), axis=0);\n",
        " print(r)"
      ],
      "execution_count": null,
      "outputs": [
        {
          "output_type": "stream",
          "name": "stdout",
          "text": [
            "[[ 1.52097284  0.72911186  0.87601948  0.94397654]\n",
            " [ 0.86575696  1.47634252  0.72927553 -0.63362478]\n",
            " [ 0.76915279  0.86577968  1.52121105  0.49934921]\n",
            " [ 0.          0.          0.          1.        ]]\n"
          ]
        }
      ]
    },
    {
      "cell_type": "code",
      "metadata": {
        "colab": {
          "base_uri": "https://localhost:8080/"
        },
        "id": "tHXLGR0BNaTc",
        "outputId": "6746dd69-0ec6-4659-c1ce-e96fc06d2510"
      },
      "source": [
        "import numpy as np\n",
        "\n",
        "M = np.array([[0.88185027, -0.40550928, 0.24062904, 0.11084861], [-0.28348698, -0.04815345, 0.95776635, -1.68473144], [-0.37679602, -0.91282171, -0.15742073, 2.98003640], [0.00000000, 0.00000000, 0.00000000, 1.00000000]])\n",
        "V_s = np.array([[-0.87446362], [-0.68460209], [-0.87536651], [0.94397654], [-0.63362478], [0.49934921]])\n",
        "[a,b] = np.split(V_s,2)\n",
        "theta = theta=np.sqrt(np.sum(np.square(a)))\n",
        "omegahat = a/theta\n",
        "r=(1/theta)*((theta * np.identity(3)) + (1 -np.cos(theta) * skew(omegahat)) + ((theta - np.sin(theta)) * np.dot(skew(omegahat), skew(omegahat))))\n",
        "r = np.concatenate((r,b), axis=1)\n",
        "r = np.concatenate((r, np.array([[0,0,0,1]])), axis=0);\n",
        "print(r)\n",
        "r @ M[:4,3]"
      ],
      "execution_count": null,
      "outputs": [
        {
          "output_type": "stream",
          "name": "stdout",
          "text": [
            "[[ 1.52097284  0.72911186  0.87601948  0.94397654]\n",
            " [ 0.86575696  1.47634252  0.72927553 -0.63362478]\n",
            " [ 0.76915279  0.86577968  1.52121105  0.49934921]\n",
            " [ 0.          0.          0.          1.        ]]\n"
          ]
        },
        {
          "output_type": "execute_result",
          "data": {
            "text/plain": [
              "array([ 2.49478652, -0.85162985,  3.65926679,  1.        ])"
            ]
          },
          "metadata": {},
          "execution_count": 52
        }
      ]
    },
    {
      "cell_type": "code",
      "metadata": {
        "colab": {
          "base_uri": "https://localhost:8080/"
        },
        "id": "XtjRE-apNasv",
        "outputId": "f6132c02-27ca-4e9f-f53d-c01dc8f6a436"
      },
      "source": [
        "import numpy as np\n",
        "\n",
        "M = np.array([[0.88185027, -0.40550928, 0.24062904, 0.11084861], [-0.28348698, -0.04815345, 0.95776635, -1.68473144], [-0.37679602, -0.91282171, -0.15742073, 2.98003640], [0.00000000, 0.00000000, 0.00000000, 1.00000000]])\n",
        "V_s = np.array([[-0.87446362], [-0.68460209], [-0.87536651], [0.94397654], [-0.63362478], [0.49934921]])\n",
        "[a,b] = np.split(V_s,2)\n",
        "theta = theta=np.sqrt(np.sum(np.square(a)))\n",
        "omegahat = a/theta\n",
        "r_0 = np.identity(3) + skew(omegahat) * np.sin(theta) + (np.linalg.matrix_power(skew(omegahat), 2)) * (1 - np.cos(theta)) \n",
        "r=(1/theta)*((theta * np.identity(3)) + (1 -np.cos(theta) * skew(omegahat)) + ((theta - np.sin(theta)) * np.dot(skew(omegahat), skew(omegahat))))\n",
        "M_r = np.concatenate((r,b), axis=1)\n",
        "M_r = np.concatenate((M_r, np.array([[0,0,0,1]])), axis=0);\n",
        "M @ M_r"
      ],
      "execution_count": null,
      "outputs": [
        {
          "output_type": "execute_result",
          "data": {
            "text/plain": [
              "array([[ 1.17527833,  0.25262864,  0.84283758,  1.32039323],\n",
              "       [ 0.26380348,  0.55142994,  1.17350751, -1.44356541],\n",
              "       [-1.48445885, -1.75865562, -1.23524934,  3.12412833],\n",
              "       [ 0.        ,  0.        ,  0.        ,  1.        ]])"
            ]
          },
          "metadata": {},
          "execution_count": 64
        }
      ]
    },
    {
      "cell_type": "code",
      "metadata": {
        "colab": {
          "base_uri": "https://localhost:8080/"
        },
        "id": "YpcUCymNM7xN",
        "outputId": "c0b9390c-33f7-495d-f8ca-cbf1c5a6f43b"
      },
      "source": [
        "import numpy as np\n",
        "\n",
        "M = np.array([[-0.22316639, -0.03956393, 0.97397713, 2.17947748], [-0.97414306, -0.02707305, -0.22430415, -1.62598076], [0.03524288, -0.99885021, -0.03249914, -2.60444459], [0.00000000, 0.00000000, 0.00000000, 1.00000000]])\n",
        "V_b = np.array([[-0.88590481], [0.43853823], [-0.00236650], [-0.60930153], [-0.80267396], [-0.83221271]])\n",
        "\n",
        "[a,b] = np.split(V_b,2)\n",
        "\n",
        "theta = theta=np.sqrt(np.sum(np.square(a)))\n",
        "omegahat = a/theta\n",
        "\n",
        "r_0 = np.identity(3) + skew(omegahat) * np.sin(theta) + (np.linalg.matrix_power(skew(omegahat), 2)) * (1 - np.cos(theta))\n",
        "p = ((1/theta)*((theta * np.identity(3)) + (1 -np.cos(theta) * skew(omegahat)) + ((theta - np.sin(theta)) * np.dot(skew(omegahat), skew(omegahat))))) @ b\n",
        "\n",
        "T = np.concatenate((r_0,b), axis=1)\n",
        "T = np.concatenate((T, np.array([[0,0,0,1]])), axis=0);\n",
        "\n",
        "M @ T"
      ],
      "execution_count": null,
      "outputs": [
        {
          "output_type": "execute_result",
          "data": {
            "text/plain": [
              "array([[-0.5561847 , -0.71527721,  0.42312773,  1.53665389],\n",
              "       [-0.80005947,  0.32308126, -0.50549316, -0.82403431],\n",
              "       [ 0.2248631 , -0.61967491, -0.75195717, -1.79712088],\n",
              "       [ 0.        ,  0.        ,  0.        ,  1.        ]])"
            ]
          },
          "metadata": {},
          "execution_count": 18
        }
      ]
    },
    {
      "cell_type": "code",
      "metadata": {
        "id": "xJ0hLzqT0NLJ",
        "colab": {
          "base_uri": "https://localhost:8080/"
        },
        "outputId": "741921f9-02f3-46c2-a46e-4601d5b8a50a"
      },
      "source": [
        "\n",
        "\n",
        "\n",
        "\n",
        "M = np.array([[-0.22316639, -0.03956393, 0.97397713, 2.17947748], [-0.97414306, -0.02707305, -0.22430415, -1.62598076], [0.03524288, -0.99885021, -0.03249914, -2.60444459], [0.00000000, 0.00000000, 0.00000000, 1.00000000]])\n",
        "V_b = np.array([[-0.88590481], [0.43853823], [-0.00236650], [-0.60930153], [-0.80267396], [-0.83221271]])\n",
        "\n",
        "[a,b] = np.split(V_s,2)\n",
        "\n",
        "theta = theta=np.sqrt(np.sum(np.square(a)))\n",
        "omegahat = a/theta\n",
        "\n",
        "r_0 = np.identity(3) + skew(omegahat) * np.sin(theta) + (np.linalg.matrix_power(skew(omegahat), 2)) * (1 - np.cos(theta))\n",
        "p = ((1/theta)*((theta * np.identity(3)) + (1 -np.cos(theta) * skew(omegahat)) + ((theta - np.sin(theta)) * (skew(omegahat) @ skew(omegahat))))) @ b\n",
        "\n",
        "T = np.concatenate((r_0,b), axis=1)\n",
        "T = np.concatenate((T, np.array([[0,0,0,1]])), axis=0);\n",
        "\n",
        "T @ M"
      ],
      "execution_count": null,
      "outputs": [
        {
          "output_type": "execute_result",
          "data": {
            "text/plain": [
              "array([[-0.77963121,  0.47891793,  0.40350065,  0.99190162],\n",
              "       [-0.60175513, -0.39451205, -0.69444296, -3.52821178],\n",
              "       [-0.17339532, -0.78421799,  0.59576522, -1.30496554],\n",
              "       [ 0.        ,  0.        ,  0.        ,  1.        ]])"
            ]
          },
          "metadata": {},
          "execution_count": 49
        }
      ]
    },
    {
      "cell_type": "markdown",
      "metadata": {
        "id": "7rBvEzpqSnie"
      },
      "source": [
        "[[0.618652721619, -0.321057508775, 0.717071046754, -1.32504494943], [0.633925739381, -0.335177153916, -0.696989549737, 2.46839224012], [0.464119561087, 0.885764275387, -0.00383163986028, 0.311687838231], [0, 0, 0, 1]]"
      ]
    },
    {
      "cell_type": "code",
      "metadata": {
        "colab": {
          "base_uri": "https://localhost:8080/"
        },
        "id": "ZUrT6v1RRuVH",
        "outputId": "fd6dd3dc-0866-4058-d034-5b15cc067cd3"
      },
      "source": [
        "import scipy.linalg as sc\n",
        "\n",
        "M = np.array([[-0.22316639, -0.03956393, 0.97397713, 2.17947748], [-0.97414306, -0.02707305, -0.22430415, -1.62598076], [0.03524288, -0.99885021, -0.03249914, -2.60444459], [0.00000000, 0.00000000, 0.00000000, 1.00000000]])\n",
        "V_b = np.array([[-0.88590481], [0.43853823], [-0.00236650], [-0.60930153], [-0.80267396], [-0.83221271]])\n",
        "a=cmat(V_s)\n",
        "a = sc.expm(a)\n",
        "print(a)\n",
        "a @ M"
      ],
      "execution_count": null,
      "outputs": [
        {
          "output_type": "stream",
          "name": "stdout",
          "text": [
            "[[ 0.25709795 -0.53013428  0.80799646  0.04791138]\n",
            " [ 0.79153817  0.59518467  0.13864535  0.32020183]\n",
            " [-0.55440776  0.60391461  0.57264228 -0.12285892]\n",
            " [ 0.          0.          0.          1.        ]]\n"
          ]
        },
        {
          "output_type": "execute_result",
          "data": {
            "text/plain": [
              "array([[ 0.48752713, -0.80288689,  0.34305965, -0.6341433 ],\n",
              "       [-0.75155347, -0.18591577,  0.63293183,  0.71648849],\n",
              "       [-0.44439248, -0.56639912, -0.69405141, -3.80454678],\n",
              "       [ 0.        ,  0.        ,  0.        ,  1.        ]])"
            ]
          },
          "metadata": {},
          "execution_count": 34
        }
      ]
    },
    {
      "cell_type": "code",
      "metadata": {
        "colab": {
          "base_uri": "https://localhost:8080/"
        },
        "id": "45ALWNe3THZq",
        "outputId": "25376544-2498-406e-8d5a-2a0052940909"
      },
      "source": [
        "import numpy as np\n",
        "\n",
        "M = np.array([[0.11661506, -0.91965111, -0.37502367, 2.47524143], [0.92386171, -0.03814557, 0.38082077, -0.29109986], [-0.36452774, -0.39087945, 0.84518210, 1.43930695], [0.00000000, 0.00000000, 0.00000000, 1.00000000]])\n",
        "V_s = np.array([[-0.20233001], [-0.69786225], [-0.70593951], [-0.48749152], [-0.12714776], [-0.65594581]])\n",
        "a=cmat(V_s)\n",
        "a = sc.expm(a)\n",
        "a @ M"
      ],
      "execution_count": null,
      "outputs": [
        {
          "output_type": "execute_result",
          "data": {
            "text/plain": [
              "array([[ 0.85913701, -0.32617941, -0.39432297,  0.1583069 ],\n",
              "       [ 0.48980178,  0.30089878,  0.81826287, -1.03448526],\n",
              "       [-0.1482492 , -0.89614001,  0.41827654,  1.91688632],\n",
              "       [ 0.        ,  0.        ,  0.        ,  1.        ]])"
            ]
          },
          "metadata": {},
          "execution_count": 41
        }
      ]
    },
    {
      "cell_type": "code",
      "metadata": {
        "colab": {
          "base_uri": "https://localhost:8080/"
        },
        "id": "pzNhwxXfRudg",
        "outputId": "21dc5858-1dce-4e66-82ce-81a6fab96c37"
      },
      "source": [
        "import numpy as np\n",
        "\n",
        "M = np.array([[-0.00382174, -0.06923282, -0.99759321, 0.05361985], [-0.71016018, -0.70215767, 0.05145023, -0.42705005], [-0.70402977, 0.70864760, -0.04648293, -2.74655697], [0.00000000, 0.00000000, 0.00000000, 1.00000000]])\n",
        "V_b = np.array([[0.22651366], [0.17695655], [0.53181462], [0.72620576], [0.49004006], [-0.49559732]])\n",
        "a=cmat(V_b)\n",
        "a = sc.expm(a)\n",
        "M @ a"
      ],
      "execution_count": null,
      "outputs": [
        {
          "output_type": "execute_result",
          "data": {
            "text/plain": [
              "array([[ 0.06849195, -0.31416066, -0.94689595,  0.47742733],\n",
              "       [-0.9722598 , -0.23379146,  0.00724061, -1.30910562],\n",
              "       [-0.2236509 ,  0.92013294, -0.32145862, -2.58835461],\n",
              "       [ 0.        ,  0.        ,  0.        ,  1.        ]])"
            ]
          },
          "metadata": {},
          "execution_count": 77
        }
      ]
    },
    {
      "cell_type": "code",
      "metadata": {
        "colab": {
          "base_uri": "https://localhost:8080/"
        },
        "id": "XbQh7v4djlAE",
        "outputId": "fca9693e-0511-4c0a-88ba-c8c4c9df195c"
      },
      "source": [
        "M = np.array([[-0.00382174, -0.06923282, -0.99759321, 0.05361985], [-0.71016018, -0.70215767, 0.05145023, -0.42705005], [-0.70402977, 0.70864760, -0.04648293, -2.74655697], [0.00000000, 0.00000000, 0.00000000, 1.00000000]])\n",
        "V_b = np.array([[0.22651366], [0.17695655], [0.53181462], [0.72620576], [0.49004006], [-0.49559732]])\n",
        "\n",
        "[a,b] = np.split(V_b,2)\n",
        "\n",
        "theta = theta=np.sqrt(np.sum(np.square(a)))\n",
        "omegahat = a/theta\n",
        "\n",
        "r_0 = np.identity(3) + skew(omegahat) * np.sin(theta) + (np.linalg.matrix_power(skew(omegahat), 2)) * (1 - np.cos(theta))\n",
        "p = ((1/theta)*((theta * np.identity(3)) + (1 -np.cos(theta) * skew(omegahat)) + ((theta - np.sin(theta)) * (skew(omegahat) @ skew(omegahat))))) @ b\n",
        "\n",
        "T = np.concatenate((r_0,p), axis=1)\n",
        "T = np.concatenate((T, np.array([[0,0,0,1]])), axis=0);\n",
        "\n",
        "M @ T"
      ],
      "execution_count": null,
      "outputs": [
        {
          "output_type": "execute_result",
          "data": {
            "text/plain": [
              "array([[ 0.06849195, -0.31416066, -0.94689595, -0.75588229],\n",
              "       [-0.9722598 , -0.23379146,  0.00724061, -2.64804445],\n",
              "       [-0.2236509 ,  0.92013294, -0.32145862, -4.27808388],\n",
              "       [ 0.        ,  0.        ,  0.        ,  1.        ]])"
            ]
          },
          "metadata": {},
          "execution_count": 78
        }
      ]
    },
    {
      "cell_type": "code",
      "metadata": {
        "colab": {
          "base_uri": "https://localhost:8080/"
        },
        "id": "1ti5Ouogei3b",
        "outputId": "b68de582-5302-4272-f0c3-c7ea2daeef1a"
      },
      "source": [
        "T_1in0 = np.array([[0.80704530, -0.58881826, -0.04439523, 0.33714344], [0.35585132, 0.42498172, 0.83232228, 0.25839765], [-0.47121940, -0.68751989, 0.55251125, 0.91108279], [0.00000000, 0.00000000, 0.00000000, 1.00000000]])\n",
        "matrixtoskew(sc.logm(T_1in0))\n",
        "\n"
      ],
      "execution_count": null,
      "outputs": [
        {
          "output_type": "execute_result",
          "data": {
            "text/plain": [
              "array([[-0.96467767],\n",
              "       [ 0.2709148 ],\n",
              "       [ 0.59960282],\n",
              "       [ 0.22804255],\n",
              "       [-0.30545428],\n",
              "       [ 0.99031632]])"
            ]
          },
          "metadata": {},
          "execution_count": 80
        }
      ]
    },
    {
      "cell_type": "code",
      "metadata": {
        "id": "8CevLhlNejSM"
      },
      "source": [
        "a= np.array([[ 0.06849195, -0.31416066, -0.94689595,  0.47742733],\n",
        "       [-0.9722598 , -0.23379146,  0.00724061, -1.30910562],\n",
        "       [-0.2236509 ,  0.92013294, -0.32145862, -2.58835461],\n",
        "       [ 0.        ,  0.        ,  0.        ,  1.        ]])"
      ],
      "execution_count": null,
      "outputs": []
    },
    {
      "cell_type": "code",
      "metadata": {
        "id": "_XRWQNCdqVwy"
      },
      "source": [
        ""
      ],
      "execution_count": null,
      "outputs": []
    },
    {
      "cell_type": "code",
      "metadata": {
        "id": "EIv7NcWhqV0T"
      },
      "source": [
        "import numpy as np\n",
        "\n",
        "t = 2.09256122\n",
        "T_1in0 = np.array([[-0.25587758, 0.34211695, 0.90414747, 0.40552898], [-0.88097192, 0.30255210, -0.36380035, -0.66278904], [-0.39801398, -0.88961689, 0.22397913, -0.36330356], [0.00000000, 0.00000000, 0.00000000, 1.00000000]])\n",
        "p_2in0 = np.array([0.49368278, -2.91099747, -0.65856810])\n",
        "R_2in0 = np.array([[0.82974996, -0.53740362, 0.15070614], [-0.30294521, -0.66042415, -0.68706924], [0.46876348, 0.52443997, -0.71079077]])"
      ],
      "execution_count": null,
      "outputs": []
    },
    {
      "cell_type": "code",
      "metadata": {
        "id": "_QB8fiSuqV3Z"
      },
      "source": [
        "R01 = T_1in0[:3,:3]\n",
        "R10 = np.transpose(R01)\n",
        "p01 = T_1in0[0:3,3]\n",
        "p10 = -np.dot(R01,p01)\n",
        "p10 = p10.reshape(3,1)\n",
        "T10 = np.concatenate((R10,p10), axis=1)\n",
        "T10 = np.concatenate((T10, np.array([[0,0,0,1]])), axis=0)\n"
      ],
      "execution_count": null,
      "outputs": []
    },
    {
      "cell_type": "code",
      "metadata": {
        "id": "JgO0eICfqV6j"
      },
      "source": [
        "p02 = p_2in0.reshape(3,1)\n",
        "T02 = np.concatenate((R_2in0,p02), axis=1)\n",
        "T02 = np.concatenate((T02, np.array([[0,0,0,1]])), axis=0)\n"
      ],
      "execution_count": null,
      "outputs": []
    },
    {
      "cell_type": "code",
      "metadata": {
        "colab": {
          "base_uri": "https://localhost:8080/"
        },
        "id": "gIrXzh55qWbw",
        "outputId": "0a1932d0-6c9e-4c0b-a89f-26fc6a69f104"
      },
      "source": [
        "matrixtoskew(sc.logm(T10 @ T20))/t"
      ],
      "execution_count": null,
      "outputs": [
        {
          "output_type": "execute_result",
          "data": {
            "text/plain": [
              "array([[ 0.55697488],\n",
              "       [ 0.8419094 ],\n",
              "       [-0.30798669],\n",
              "       [ 0.40188307],\n",
              "       [ 1.2719858 ],\n",
              "       [-0.35999485]])"
            ]
          },
          "metadata": {},
          "execution_count": 98
        }
      ]
    },
    {
      "cell_type": "code",
      "metadata": {
        "colab": {
          "base_uri": "https://localhost:8080/"
        },
        "id": "WL2sJtfPqWeg",
        "outputId": "ca6361e2-ea6c-451c-b875-deaa5d1c4a93"
      },
      "source": [
        "import numpy as np\n",
        "\n",
        "\n",
        "t = 2.67805055\n",
        "T_1in0 = np.array([[0.33987605, 0.13286610, 0.93103752, -0.45332374], [-0.93449645, -0.06369208, 0.35022808, 0.60617731], [0.10583315, -0.98908540, 0.10251548, 0.00293417], [0.00000000, 0.00000000, 0.00000000, 1.00000000]])\n",
        "p_2in0 = np.array([0.57483351, 1.66845245, -1.49443756])\n",
        "R_2in0 = np.array([[0.94881973, 0.19749757, -0.24644641], [-0.09456766, -0.56686762, -0.81836304], [-0.30132720, 0.79978485, -0.51917830]])\n",
        "R01 = T_1in0[:3,:3]\n",
        "R10 = np.transpose(R01)\n",
        "p01 = T_1in0[0:3,3]\n",
        "p10 = -np.dot(R10,p01)\n",
        "p10 = p10.reshape(3,1)\n",
        "T10 = np.concatenate((R10,p10), axis=1)\n",
        "T10 = np.concatenate((T10, np.array([[0,0,0,1]])), axis=0)\n",
        "print(T10)\n",
        "p02 = p_2in0.reshape(3,1)\n",
        "T02 = np.concatenate((R_2in0,p02), axis=1)\n",
        "T02 = np.concatenate((T02, np.array([[0,0,0,1]])), axis=0)\n",
        "print(T02)\n",
        "(matrixtoskew(sc.logm(T10 @ T02)))/t\n"
      ],
      "execution_count": null,
      "outputs": [
        {
          "output_type": "stream",
          "name": "stdout",
          "text": [
            "[[ 0.33987605 -0.93449645  0.10583315  0.72023389]\n",
            " [ 0.1328661  -0.06369208 -0.9890854   0.1017422 ]\n",
            " [ 0.93103752  0.35022808  0.10251548  0.2094603 ]\n",
            " [ 0.          0.          0.          1.        ]]\n",
            "[[ 0.94881973  0.19749757 -0.24644641  0.57483351]\n",
            " [-0.09456766 -0.56686762 -0.81836304  1.66845245]\n",
            " [-0.3013272   0.79978485 -0.5191783  -1.49443756]\n",
            " [ 0.          0.          0.          1.        ]]\n"
          ]
        },
        {
          "output_type": "execute_result",
          "data": {
            "text/plain": [
              "array([[-0.88142031],\n",
              "       [-0.36601744],\n",
              "       [-0.4759229 ],\n",
              "       [-0.11845382],\n",
              "       [-0.55002761],\n",
              "       [ 0.97211568]])"
            ]
          },
          "metadata": {},
          "execution_count": 104
        }
      ]
    },
    {
      "cell_type": "code",
      "metadata": {
        "colab": {
          "base_uri": "https://localhost:8080/"
        },
        "id": "G5dZ1mp-Cb1o",
        "outputId": "24bbf341-04ff-499d-9dd9-23fc4f9165d9"
      },
      "source": [
        "import numpy as np\n",
        "\n",
        "\n",
        "t = 2.83250192\n",
        "T_1in0 = np.array([[-0.37456369, 0.82395483, 0.42520640, 0.04974462], [0.87455665, 0.16162927, 0.45719432, -0.12153406], [0.30798167, 0.54311548, -0.78113563, 0.68952010], [0.00000000, 0.00000000, 0.00000000, 1.00000000]])\n",
        "p_2in0 = np.array([1.29997096, -1.55473193, 0.22636815])\n",
        "R_2in0 = np.array([[0.85610318, 0.47610932, 0.20101556], [-0.09187357, 0.52296995, -0.84738520], [-0.50857309, 0.70698115, 0.49145810]])\n",
        "R01 = T_1in0[:3,:3]\n",
        "R10 = np.transpose(R01)\n",
        "p01 = T_1in0[0:3,3]\n",
        "p10 = -np.dot(R10,p01)\n",
        "p10 = p10.reshape(3,1)\n",
        "T10 = np.concatenate((R10,p10), axis=1)\n",
        "T10 = np.concatenate((T10, np.array([[0,0,0,1]])), axis=0)\n",
        "print(T10)\n",
        "p02 = p_2in0.reshape(3,1)\n",
        "T02 = np.concatenate((R_2in0,p02), axis=1)\n",
        "T02 = np.concatenate((T02, np.array([[0,0,0,1]])), axis=0)\n",
        "print(T02)\n",
        "(matrixtoskew(sc.logm(T10 @ T02)))/t"
      ],
      "execution_count": null,
      "outputs": [
        {
          "output_type": "stream",
          "name": "stdout",
          "text": [
            "[[-0.37456369  0.87455665  0.30798167 -0.0874386 ]\n",
            " [ 0.82395483  0.16162927  0.54311548 -0.3958329 ]\n",
            " [ 0.4252064   0.45719432 -0.78113563  0.57302167]\n",
            " [ 0.          0.          0.          1.        ]]\n",
            "[[ 0.85610318  0.47610932  0.20101556  1.29997096]\n",
            " [-0.09187357  0.52296995 -0.8473852  -1.55473193]\n",
            " [-0.50857309  0.70698115  0.4914581   0.22636815]\n",
            " [ 0.          0.          0.          1.        ]]\n"
          ]
        },
        {
          "output_type": "execute_result",
          "data": {
            "text/plain": [
              "array([[-0.23169224],\n",
              "       [-0.78941844],\n",
              "       [-0.04701486],\n",
              "       [-0.24634726],\n",
              "       [ 0.02712015],\n",
              "       [ 0.84128523]])"
            ]
          },
          "metadata": {},
          "execution_count": 107
        }
      ]
    },
    {
      "cell_type": "code",
      "metadata": {
        "id": "Tsa6-ckOFTHm"
      },
      "source": [
        "T10 = np.linalg.inv(T_1in0)"
      ],
      "execution_count": null,
      "outputs": []
    },
    {
      "cell_type": "code",
      "metadata": {
        "colab": {
          "base_uri": "https://localhost:8080/"
        },
        "id": "gH8tKPArFJN3",
        "outputId": "dea305a9-f3ba-415a-cc2b-fd0ff85a07be"
      },
      "source": [
        "import numpy as np\n",
        "\n",
        "T = np.array([[0.53024076, 0.77007310, 0.35472829, 0.75724693], [0.72142117, -0.62958750, 0.28839394, 0.80664468], [0.44541692, 0.10299027, -0.88937999, 0.37940024], [0.00000000, 0.00000000, 0.00000000, 1.00000000]])\n",
        "\n",
        "r = T[:3,:3]\n",
        "p = T[0:3,3]\n",
        "A_u = np.concatenate((r,np.zeros((3,3),int)), axis=1)\n",
        "A_d = np.concatenate(((skew(p) @ r),r), axis=1)\n",
        "a=np.concatenate((A_u,A_d), axis=0)\n",
        "np.round(a,2)\n",
        "\n"
      ],
      "execution_count": null,
      "outputs": [
        {
          "output_type": "execute_result",
          "data": {
            "text/plain": [
              "array([[ 0.53,  0.77,  0.35,  0.  ,  0.  ,  0.  ],\n",
              "       [ 0.72, -0.63,  0.29,  0.  ,  0.  ,  0.  ],\n",
              "       [ 0.45,  0.1 , -0.89,  0.  ,  0.  ,  0.  ],\n",
              "       [ 0.09,  0.32, -0.83,  0.53,  0.77,  0.35],\n",
              "       [-0.14,  0.21,  0.81,  0.72, -0.63,  0.29],\n",
              "       [ 0.12, -1.1 , -0.07,  0.45,  0.1 , -0.89]])"
            ]
          },
          "metadata": {},
          "execution_count": 135
        }
      ]
    },
    {
      "cell_type": "code",
      "metadata": {
        "colab": {
          "base_uri": "https://localhost:8080/"
        },
        "id": "3le1D6qBIXbU",
        "outputId": "a3be191f-4fa9-4d19-f36e-303091bd0dca"
      },
      "source": [
        "import numpy as np\n",
        "\n",
        "V_sb_in_b = np.array([[0.24025305], [0.44640544], [-0.62263376], [-0.12058018], [-0.48386572], [0.66416067]])\n",
        "T=T_sb = np.array([[0.09095690, -0.32258749, 0.94215930, -0.42059626], [0.95838800, 0.28542141, 0.00520228, 0.69785310], [-0.27059062, 0.90248099, 0.33512502, 0.24429007], [0.00000000, 0.00000000, 0.00000000, 1.00000000]])\n",
        "r = T[:3,:3]\n",
        "p = T[0:3,3]\n",
        "A_u = np.concatenate((r,np.zeros((3,3),int)), axis=1)\n",
        "A_d = np.concatenate(((skew(p) @ r),r), axis=1)\n",
        "a=np.concatenate((A_u,A_d), axis=0)\n",
        "a @ V_sb_in_b"
      ],
      "execution_count": null,
      "outputs": [
        {
          "output_type": "execute_result",
          "data": {
            "text/plain": [
              "array([[-0.70877233],\n",
              "       [ 0.3544302 ],\n",
              "       [ 0.12920205],\n",
              "       [ 0.77444685],\n",
              "       [-0.36901723],\n",
              "       [ 0.16407206]])"
            ]
          },
          "metadata": {},
          "execution_count": 140
        }
      ]
    },
    {
      "cell_type": "code",
      "metadata": {
        "colab": {
          "base_uri": "https://localhost:8080/"
        },
        "id": "6NYcRkS4L2D6",
        "outputId": "3fc4773a-7da8-4b9d-f7aa-22cb46fd4754"
      },
      "source": [
        "import numpy as np\n",
        "\n",
        "T = T_sb = np.array([[-0.64658191, 0.50948457, -0.56776519, -0.87175822], [-0.58356394, -0.80969634, -0.06200786, -0.52750034], [-0.49130944, 0.29123413, 0.82085182, 0.39577363], [0.00000000, 0.00000000, 0.00000000, 1.00000000]])\n",
        "V_sb_in_s = np.array([[0.62996493], [0.61456623], [0.27392034], [-0.37317836], [-0.13667348], [-0.37081930]])\n",
        "q_B = np.array([[1.81960044], [0.37686790], [0.65138309], [1.00000000]])\n",
        "\n",
        "r = T[:3,:3]\n",
        "p = T[0:3,3]\n",
        "A_u = np.concatenate((r,np.zeros((3,3),int)), axis=1)\n",
        "A_d = np.concatenate(((skew(p) @ r),r), axis=1)\n",
        "a=np.concatenate((A_u,A_d), axis=0)\n",
        "q = T @ q_B\n",
        "screwtomatrix(V) @ q\n"
      ],
      "execution_count": null,
      "outputs": [
        {
          "output_type": "stream",
          "name": "stdout",
          "text": [
            "[[-2.22610321]\n",
            " [-1.93489297]\n",
            " [ 0.14623255]\n",
            " [ 1.        ]]\n"
          ]
        },
        {
          "output_type": "execute_result",
          "data": {
            "text/plain": [
              "array([[-1.13255306],\n",
              "       [ 1.20315372],\n",
              "       [-0.76261563],\n",
              "       [ 0.        ]])"
            ]
          },
          "metadata": {},
          "execution_count": 153
        }
      ]
    },
    {
      "cell_type": "code",
      "metadata": {
        "colab": {
          "base_uri": "https://localhost:8080/"
        },
        "id": "RJZyzUG6Ow6g",
        "outputId": "6c1f9538-15d3-4f1a-b4ea-6c203ca6dc91"
      },
      "source": [
        "T = T_sb = np.array([[-0.64658191, 0.50948457, -0.56776519, -0.87175822], [-0.58356394, -0.80969634, -0.06200786, -0.52750034], [-0.49130944, 0.29123413, 0.82085182, 0.39577363], [0.00000000, 0.00000000, 0.00000000, 1.00000000]])\n",
        "V_sb_in_s = np.array([[0.62996493], [0.61456623], [0.27392034], [-0.37317836], [-0.13667348], [-0.37081930]])\n",
        "q_B = np.array([[1.81960044], [0.37686790], [0.65138309], [1.00000000]])\n",
        "q_B = T @ q_B\n",
        "screwtomatrix(V_sb_in_b) @ q_B"
      ],
      "execution_count": null,
      "outputs": [
        {
          "output_type": "execute_result",
          "data": {
            "text/plain": [
              "array([[-1.26003086],\n",
              "       [ 0.86704848],\n",
              "       [ 1.19304132],\n",
              "       [ 0.        ]])"
            ]
          },
          "metadata": {},
          "execution_count": 154
        }
      ]
    },
    {
      "cell_type": "code",
      "metadata": {
        "colab": {
          "base_uri": "https://localhost:8080/"
        },
        "id": "kuFR6FZe8FBF",
        "outputId": "f4b7d6f2-3c69-45b6-ac8f-e1f8ee2435f9"
      },
      "source": [
        "\n",
        "\n",
        "T=T_sb = np.array([[-0.62280007, -0.69649238, -0.35639645, 0.44326467], [-0.22639436, 0.59647296, -0.77004259, 0.02253503], [0.74890965, -0.39889643, -0.52916535, -0.76723086], [0.00000000, 0.00000000, 0.00000000, 1.00000000]])\n",
        "V_sb_in_s = np.array([[0.05768242], [-0.19598891], [-0.74570331], [0.01975724], [0.28764774], [0.48446150]])\n",
        "q_B = np.array([[1.81661796], [-0.26296693], [-0.70213735], [1.00000000]])\n",
        "T = np.linalg.inv(T)\n",
        "r = T[:3,:3]\n",
        "p = T[0:3,3]\n",
        "A_u = np.concatenate((r,np.zeros((3,3),int)), axis=1)\n",
        "A_d = np.concatenate(((skew(p) @ r),r), axis=1)\n",
        "a = np.concatenate((A_u,A_d), axis=0)\n",
        "T_n = a @ V_sb_in_s\n",
        "\n",
        "screwtomatrix(T_n) @ q_B\n"
      ],
      "execution_count": null,
      "outputs": [
        {
          "output_type": "execute_result",
          "data": {
            "text/plain": [
              "array([[ 0.35160584],\n",
              "       [ 0.20966041],\n",
              "       [-0.48106949],\n",
              "       [ 0.        ]])"
            ]
          },
          "metadata": {},
          "execution_count": 7
        }
      ]
    },
    {
      "cell_type": "code",
      "metadata": {
        "colab": {
          "base_uri": "https://localhost:8080/"
        },
        "id": "ePQ3NO5-UyJt",
        "outputId": "ef6573a8-7d74-4fa4-c36b-1d77f4bc9380"
      },
      "source": [
        "[a,b] = np.split(T_n,2)\n",
        "b + skew(a) @ q_B[0:3]"
      ],
      "execution_count": null,
      "outputs": [
        {
          "output_type": "execute_result",
          "data": {
            "text/plain": [
              "array([[ 0.36553503],\n",
              "       [-1.42503172],\n",
              "       [ 1.15196465]])"
            ]
          },
          "metadata": {},
          "execution_count": 27
        }
      ]
    }
  ]
}