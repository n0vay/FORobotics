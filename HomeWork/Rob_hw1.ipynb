{
  "nbformat": 4,
  "nbformat_minor": 0,
  "metadata": {
    "colab": {
      "name": "Rob_hw1.ipynb",
      "provenance": [],
      "collapsed_sections": []
    },
    "kernelspec": {
      "name": "python3",
      "display_name": "Python 3"
    },
    "language_info": {
      "name": "python"
    }
  },
  "cells": [
    {
      "cell_type": "code",
      "metadata": {
        "id": "1fHAdp60wvlj"
      },
      "source": [
        "\n",
        "import numpy as np\n"
      ],
      "execution_count": null,
      "outputs": []
    },
    {
      "cell_type": "markdown",
      "metadata": {
        "id": "M5_x3ol_5yuf"
      },
      "source": [
        "Q(a)=R(ab)q(b)+p(b)      \n",
        "\n",
        "P(a) = T(ab).P(b) if v put 0 instead of 1\n"
      ]
    },
    {
      "cell_type": "code",
      "metadata": {
        "colab": {
          "base_uri": "https://localhost:8080/"
        },
        "id": "QPWl7rX2w1t-",
        "outputId": "fc7ece48-5dea-416d-d750-b106b1584553"
      },
      "source": [
        "p_7 = np.array([[-0.29509367], [-0.41406722]])\n",
        "R_67 = np.array([[0.89350983, -0.44904362], [0.44904362, 0.89350983]])\n",
        "q_6 = np.array([[-0.14793751], [0.70972393]])\n",
        "np.transpose(R_67) @ (q_6 - p_)"
      ],
      "execution_count": null,
      "outputs": [
        {
          "output_type": "execute_result",
          "data": {
            "text/plain": [
              "array([[0.63611672],\n",
              "       [0.9380389 ]])"
            ]
          },
          "metadata": {},
          "execution_count": 20
        }
      ]
    },
    {
      "cell_type": "code",
      "metadata": {
        "id": "pQ3U2Ot0w10L"
      },
      "source": [
        ""
      ],
      "execution_count": null,
      "outputs": []
    },
    {
      "cell_type": "code",
      "metadata": {
        "id": "y2dmjFXm7_lh"
      },
      "source": [
        "import numpy as np\n",
        "\n",
        "R1 = np.array([[-0.80770660, -0.35940187, -0.46737603], [0.18817389, -0.90840642, 0.37334750], [-0.55874917, 0.21360727, 0.80135591]])\n",
        "R2 = np.array([[0.08837444, 0.07235987, 1.08521507], [0.90022846, -0.60682110, 0.03385578], [0.71182643, 0.71472442, -0.14385736]])\n",
        "R3 = np.array([[-0.80424095, -0.61520797, 0.00152190], [-0.23712715, 0.25283222, -1.15212708], [0.59944272, -0.64670562, -0.33329938]])\n",
        "R4 = np.array([[0.61730009, 0.09405591, -0.58532303], [-0.56085986, -0.59787641, -0.54073394], [-0.49262443, 0.66841786, -0.34374208]])\n",
        "R5 = np.array([[-0.21268736, -0.50479768, 0.59596264], [-0.61138387, 0.66913509, 0.28343053], [-0.85195315, -0.30775558, -0.74628417]])"
      ],
      "execution_count": null,
      "outputs": []
    },
    {
      "cell_type": "code",
      "metadata": {
        "colab": {
          "base_uri": "https://localhost:8080/"
        },
        "id": "qHH2I-Mp8BDO",
        "outputId": "25dbf29c-b691-49b0-adb4-c6f7e2a53aaa"
      },
      "source": [
        "np.transpose(R5) @ R5"
      ],
      "execution_count": null,
      "outputs": [
        {
          "output_type": "execute_result",
          "data": {
            "text/plain": [
              "array([[ 1.14485032, -0.03954098,  0.33576057],\n",
              "       [-0.03954098,  0.79727596,  0.11848587],\n",
              "       [ 0.33576057,  0.11848587,  0.9924444 ]])"
            ]
          },
          "metadata": {},
          "execution_count": 27
        }
      ]
    },
    {
      "cell_type": "code",
      "metadata": {
        "id": "X8Vj2DMg8jVp"
      },
      "source": [
        ""
      ],
      "execution_count": null,
      "outputs": []
    },
    {
      "cell_type": "code",
      "metadata": {
        "colab": {
          "base_uri": "https://localhost:8080/"
        },
        "id": "wjkEnLjd8jcs",
        "outputId": "381c6018-4b26-43bb-d542-0cb564bdbcb7"
      },
      "source": [
        "import numpy as np\n",
        "\n",
        "T54 = np.array([[-0.15481738, 0.33226861, -0.93039193, 0.91462338], [-0.78935123, -0.60792288, -0.08575785, 0.24291061], [-0.59410119, 0.72112921, 0.35639366, -0.17273612], [0.00000000, 0.00000000, 0.00000000, 1.00000000]])\n",
        "p_5 = np.array([[-0.31161921], [0.02300291], [0.57511853], [1]])\n",
        "\n",
        "T= np.linalg.inv(T54)\n",
        "T@p_5"
      ],
      "execution_count": null,
      "outputs": [
        {
          "output_type": "execute_result",
          "data": {
            "text/plain": [
              "array([[-0.08087327],\n",
              "       [ 0.26554483],\n",
              "       [ 1.42627569],\n",
              "       [ 1.        ]])"
            ]
          },
          "metadata": {},
          "execution_count": 33
        }
      ]
    },
    {
      "cell_type": "code",
      "metadata": {
        "id": "Vzs0hH4y-F4x"
      },
      "source": [
        ""
      ],
      "execution_count": null,
      "outputs": []
    },
    {
      "cell_type": "code",
      "metadata": {
        "colab": {
          "base_uri": "https://localhost:8080/"
        },
        "id": "YxRdRrL0-GCp",
        "outputId": "d456f5d8-3f82-4e63-f0c9-f1138a94b2b3"
      },
      "source": [
        "import numpy as np\n",
        "\n",
        "T_45 = np.array([[0.40578491, -0.85515674, -0.32256093, 0.69286662], [0.42519458, -0.13577553, 0.89486009, 0.25811208], [-0.80904152, -0.50027188, 0.30851235, -0.97798011], [0.00000000, 0.00000000, 0.00000000, 1.00000000]])\n",
        "v_4 = np.array([[-0.67610229], [0.28056531], [-0.02583979], [0]])\n",
        "\n",
        "T= np.linalg.inv(T_45)\n",
        "T@v_4"
      ],
      "execution_count": null,
      "outputs": [
        {
          "output_type": "execute_result",
          "data": {
            "text/plain": [
              "array([[-0.1341518 ],\n",
              "       [ 0.55300645],\n",
              "       [ 0.46117899],\n",
              "       [ 0.        ]])"
            ]
          },
          "metadata": {},
          "execution_count": 36
        }
      ]
    }
  ]
}