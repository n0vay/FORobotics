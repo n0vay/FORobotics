{
  "nbformat": 4,
  "nbformat_minor": 0,
  "metadata": {
    "colab": {
      "name": "Rob_hw2.ipynb",
      "provenance": []
    },
    "kernelspec": {
      "name": "python3",
      "display_name": "Python 3"
    },
    "language_info": {
      "name": "python"
    }
  },
  "cells": [
    {
      "cell_type": "markdown",
      "metadata": {
        "id": "FDy8uaQxELt8"
      },
      "source": [
        "Question 1"
      ]
    },
    {
      "cell_type": "code",
      "metadata": {
        "id": "YmoxpBsB_edQ",
        "colab": {
          "base_uri": "https://localhost:8080/"
        },
        "outputId": "3d2ffa5b-ebbc-4a14-9ac5-b6c3cf48de99"
      },
      "source": [
        "\n",
        "import numpy as np\n",
        "import scipy # this library handles the big rotations matrix of alpha, beta, and gama\n",
        "\n",
        "theta1 = 1.91\n",
        "theta2 = 0.02\n",
        "theta3 = 0.82\n",
        "\n",
        "from scipy.spatial.transform import Rotation as R\n",
        "\n",
        "\n",
        "r = R.from_euler('XYZ', [[theta1, theta2, theta3]], degrees=False) # have to spasify the sequence (XYZ, XYX, etc)\n",
        "matrix = r.as_matrix()\n",
        "matrix"
      ],
      "execution_count": null,
      "outputs": [
        {
          "output_type": "execute_result",
          "data": {
            "text/plain": [
              "array([[[ 0.68208477, -0.73099961,  0.01999867],\n",
              "        [-0.23041261, -0.24078851, -0.94283133],\n",
              "        [ 0.69402478,  0.63848295, -0.3326697 ]]])"
            ]
          },
          "metadata": {},
          "execution_count": 1
        }
      ]
    },
    {
      "cell_type": "code",
      "metadata": {
        "id": "X9k6bjb33J2i"
      },
      "source": [
        "def rot2eul(R):\n",
        "    beta = -np.arcsin(R[2,0])\n",
        "    alpha = np.arctan2(R[2,1]/np.cos(beta),R[2,2]/np.cos(beta))\n",
        "    gamma = np.arctan2(R[1,0]/np.cos(beta),R[0,0]/np.cos(beta))\n",
        "    return np.array((alpha, beta, gamma))\n"
      ],
      "execution_count": null,
      "outputs": []
    },
    {
      "cell_type": "markdown",
      "metadata": {
        "id": "U_BukElR2pil"
      },
      "source": [
        "2"
      ]
    },
    {
      "cell_type": "code",
      "metadata": {
        "colab": {
          "base_uri": "https://localhost:8080/"
        },
        "id": "MOejZ5I2CdV7",
        "outputId": "7904f99a-a901-41d4-9589-3afb5fc52b1b"
      },
      "source": [
        "import numpy as np\n",
        "\n",
        "R=R_1in0 = np.array([[0.375012871259, 0.753567992980, -0.539907979516], [-0.258635256838, -0.474235487723, -0.841551249838], [-0.890209610322, 0.455231789465, 0.017054839505]])\n",
        "\n",
        "ang = rot2eul(R)\n",
        "\n",
        "print (ang)"
      ],
      "execution_count": null,
      "outputs": [
        {
          "output_type": "stream",
          "name": "stdout",
          "text": [
            "[ 1.53334976  1.09780509 -0.60375962]\n"
          ]
        }
      ]
    },
    {
      "cell_type": "code",
      "metadata": {
        "colab": {
          "base_uri": "https://localhost:8080/"
        },
        "id": "_VPbcBNB3pCo",
        "outputId": "f76cddbf-6c9d-49c2-c086-b18c1feeb70c"
      },
      "source": [
        "import numpy as np\n",
        "\n",
        "p_2in5 = np.array([[-0.85029087], [-0.06938259], [0.83669099]])\n",
        "R_2in5 = np.array([[-0.25863648, 0.32969519, 0.90796930], [-0.52401991, 0.74173796, -0.41860237], [-0.81148648, -0.58405983, -0.01907365]])\n",
        "\n",
        "R25= np.transpose(R_2in5)\n",
        "-R25 @ p_2in5\n"
      ],
      "execution_count": null,
      "outputs": [
        {
          "output_type": "execute_result",
          "data": {
            "text/plain": [
              "array([[0.42268933],\n",
              "       [0.82047811],\n",
              "       [0.75895304]])"
            ]
          },
          "metadata": {},
          "execution_count": 10
        }
      ]
    }
  ]
}