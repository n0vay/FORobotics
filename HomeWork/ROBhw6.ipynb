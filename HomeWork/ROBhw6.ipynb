{
  "nbformat": 4,
  "nbformat_minor": 0,
  "metadata": {
    "colab": {
      "name": "ROBhw6.ipynb",
      "provenance": []
    },
    "kernelspec": {
      "name": "python3",
      "display_name": "Python 3"
    },
    "language_info": {
      "name": "python"
    }
  },
  "cells": [
    {
      "cell_type": "code",
      "metadata": {
        "id": "3AjTXd-VOt2r"
      },
      "source": [
        "import numpy as np\n",
        "import scipy.linalg as sc\n",
        "def skew(vector):\n",
        "  \n",
        "\n",
        "    vector = np.array(vector)\n",
        "\n",
        "    return np.array([[0, -vector.item(2), vector.item(1)],\n",
        "                     [vector.item(2), 0, -vector.item(0)],\n",
        "                     [-vector.item(1), vector.item(0), 0]])\n",
        "def unskew(matrix):\n",
        "  \n",
        "      return np.array([[matrix[2, 1]], \n",
        "                     [matrix[0, 2]], \n",
        "                     [matrix[1, 0]]])\n",
        "def skewtomatrix(vector):\n",
        "      [a,b] = np.split(vector,2)\n",
        "      a=skew(a)\n",
        "      a=np.concatenate((a,b), axis=1)\n",
        "      a = np.concatenate((a, np.array([[0,0,0,0]])), axis=0);\n",
        "      return a\n",
        "def matrixtoskew(matrix):\n",
        "  return np.array([[matrix[2, 1]], \n",
        "                    [matrix[0, 2]], \n",
        "                    [matrix[1, 0]],\n",
        "                    [matrix[0, 3]],\n",
        "                    [matrix[1, 3]],\n",
        "                    [matrix[2, 3]]])\n",
        "\n",
        "def toadjoint(matrix):\n",
        "    r = matrix[:3,:3]\n",
        "    p = matrix[0:3,3]\n",
        "    A_u = np.concatenate((r,np.zeros((3,3),int)), axis=1)\n",
        "    A_d = np.concatenate(((skew(p) @ r),r), axis=1)\n",
        "    a=np.concatenate((A_u,A_d), axis=0)\n",
        "    return a "
      ],
      "execution_count": null,
      "outputs": []
    },
    {
      "cell_type": "code",
      "metadata": {
        "colab": {
          "base_uri": "https://localhost:8080/"
        },
        "id": "MLFS7YHOPN7f",
        "outputId": "4c3aa940-24c5-4bfe-b5ec-af851413e0b6"
      },
      "source": [
        "a= np.array([[0],[0],[-1]])\n",
        "b= np.array([[2],[-4],[0]])\n",
        "-skew(a) @ b"
      ],
      "execution_count": null,
      "outputs": [
        {
          "output_type": "execute_result",
          "data": {
            "text/plain": [
              "array([[4],\n",
              "       [2],\n",
              "       [0]])"
            ]
          },
          "metadata": {},
          "execution_count": 6
        }
      ]
    },
    {
      "cell_type": "code",
      "metadata": {
        "colab": {
          "base_uri": "https://localhost:8080/"
        },
        "id": "3xPqDjVlPtah",
        "outputId": "1a28c421-6c30-4871-87d4-6a1ad35ebce1"
      },
      "source": [
        "v3 = np.array([[0],[0],[0],[0],[0],[-1]])\n",
        "v2 = np.array([[0],[0],[-1],[4],[2],[0]])\n",
        "v1 = np.array([[0],[0],[0],[0],[1],[0]])\n",
        "T = skewtomatrix(v2)\n",
        "\n",
        "r = T[:3,:3]\n",
        "p = T[0:3,3]\n",
        "A_u = np.concatenate((r,np.zeros((3,3),int)), axis=1)\n",
        "A_d = np.concatenate(((skew(p) @ r),r), axis=1)\n",
        "a=np.concatenate((A_u,A_d), axis=0)\n",
        "j1 = v1\n",
        "a\n"
      ],
      "execution_count": null,
      "outputs": [
        {
          "output_type": "execute_result",
          "data": {
            "text/plain": [
              "array([[ 0,  1,  0,  0,  0,  0],\n",
              "       [-1,  0,  0,  0,  0,  0],\n",
              "       [ 0,  0,  0,  0,  0,  0],\n",
              "       [ 0,  0,  0,  0,  1,  0],\n",
              "       [ 0,  0,  0, -1,  0,  0],\n",
              "       [-4, -2,  0,  0,  0,  0]])"
            ]
          },
          "metadata": {},
          "execution_count": 24
        }
      ]
    },
    {
      "cell_type": "code",
      "metadata": {
        "id": "vcCOCizi_vlA"
      },
      "source": [
        ""
      ],
      "execution_count": null,
      "outputs": []
    },
    {
      "cell_type": "code",
      "metadata": {
        "id": "t-W72Lp9_vut"
      },
      "source": [
        ""
      ],
      "execution_count": null,
      "outputs": []
    },
    {
      "cell_type": "markdown",
      "metadata": {
        "id": "BsmcoCEC_wAs"
      },
      "source": [
        "1"
      ]
    },
    {
      "cell_type": "code",
      "metadata": {
        "colab": {
          "base_uri": "https://localhost:8080/"
        },
        "id": "zMmxZTfa_w7_",
        "outputId": "6f05c39b-3a93-4e20-ec04-170c48895ad6"
      },
      "source": [
        "a= np.array([[0],[1],[0]])\n",
        "b= np.array([[0],[2],[2]])\n",
        "-skew(a) @ b"
      ],
      "execution_count": null,
      "outputs": [
        {
          "output_type": "execute_result",
          "data": {
            "text/plain": [
              "array([[-2],\n",
              "       [ 0],\n",
              "       [ 0]])"
            ]
          },
          "metadata": {},
          "execution_count": 12
        }
      ]
    },
    {
      "cell_type": "code",
      "metadata": {
        "colab": {
          "base_uri": "https://localhost:8080/"
        },
        "id": "-LV7uIGCAIYc",
        "outputId": "70006b90-a52a-453d-b333-f27a69c9659d"
      },
      "source": [
        "np.array([[0],[1],[0],[-2],[0],[0]])"
      ],
      "execution_count": null,
      "outputs": [
        {
          "output_type": "execute_result",
          "data": {
            "text/plain": [
              "array([[ 0],\n",
              "       [ 1],\n",
              "       [ 0],\n",
              "       [-2],\n",
              "       [ 0],\n",
              "       [ 0]])"
            ]
          },
          "metadata": {},
          "execution_count": 13
        }
      ]
    },
    {
      "cell_type": "markdown",
      "metadata": {
        "id": "afkLQOjVB5d1"
      },
      "source": [
        "2"
      ]
    },
    {
      "cell_type": "code",
      "metadata": {
        "colab": {
          "base_uri": "https://localhost:8080/"
        },
        "id": "3WuMq4rNB6Nf",
        "outputId": "a9f0b149-a804-4407-d381-d3736d58b5e8"
      },
      "source": [
        "a= np.array([[0],[1],[0]])\n",
        "b= np.array([[-2],[0],[0]])\n",
        "-skew(a) @ b"
      ],
      "execution_count": null,
      "outputs": [
        {
          "output_type": "execute_result",
          "data": {
            "text/plain": [
              "array([[ 0],\n",
              "       [ 0],\n",
              "       [-2]])"
            ]
          },
          "metadata": {},
          "execution_count": 14
        }
      ]
    },
    {
      "cell_type": "code",
      "metadata": {
        "colab": {
          "base_uri": "https://localhost:8080/"
        },
        "id": "Rj6SB3J-COSV",
        "outputId": "29144060-80d9-483a-e04d-e12f600ff15c"
      },
      "source": [
        "np.array([[0],[0],[0],[0],[1],[0]]) * -0.03"
      ],
      "execution_count": null,
      "outputs": [
        {
          "output_type": "execute_result",
          "data": {
            "text/plain": [
              "array([[-0.  ],\n",
              "       [-0.  ],\n",
              "       [-0.  ],\n",
              "       [-0.  ],\n",
              "       [-0.03],\n",
              "       [-0.  ]])"
            ]
          },
          "metadata": {},
          "execution_count": 17
        }
      ]
    },
    {
      "cell_type": "markdown",
      "metadata": {
        "id": "ARvSMhSFJ06w"
      },
      "source": [
        "3"
      ]
    },
    {
      "cell_type": "markdown",
      "metadata": {
        "id": "f4fM9l2UL11T"
      },
      "source": [
        "Spatial J body twist"
      ]
    },
    {
      "cell_type": "code",
      "metadata": {
        "id": "8EmF2n-8J1qW",
        "colab": {
          "base_uri": "https://localhost:8080/"
        },
        "outputId": "a17a67bc-50b4-4c12-83b2-785bd8c78be8"
      },
      "source": [
        "import numpy as np\n",
        "\n",
        "theta = np.array([[0.95000000], [-0.98000000], [0.73000000], [-0.38000000], [-0.13000000], [-0.10000000], [0.48000000], [0.45000000]])\n",
        "dtheta = np.array([[-0.78000000], [0.40000000], [0.34000000], [-0.97000000], [-0.20000000], [0.44000000], [0.83000000], [-0.98000000]])\n",
        "jacobian = np.array([[-1.00000000, 0.00000000, 0.00000000, -0.66686964, 0.00000000,  0.00000000, -0.27640044, -0.91106907], [0.00000000, 0.00000000, -0.81341550, -0.43345535, 0.00000000,  0.00000000, -0.61150764, -0.07879899], [0.00000000, 0.00000000, -0.58168309, 0.60613641, 0.00000000, 0.00000000,  -0.74139139, 0.40465277], [0.00000000, 0.00000000, -1.62683101, -1.62698859, -0.27640044,  0.69201711, 2.86867549, -4.01399389], [2.00000000, -0.81341550, 1.16336618, -1.10969964, -0.61150764,  -0.66194778, 4.69512184, -1.55262968], [0.00000000, -0.58168309, -1.62683101, -2.58356782, -0.74139139,  0.28798863, -4.94206717, -9.33978871]])\n",
        "T_1in0 = np.array([[-0.91106907, 0.11584143, -0.39564366, 6.57470535], [-0.07879899, 0.89308081, 0.44294173, -7.91668657], [0.40465277, 0.43472684, -0.80453012, -0.24362540], [0.00000000, 0.00000000, 0.00000000, 1.00000000]])\n",
        "\n",
        "\n",
        "t01ad= toadjoint(np.transpose(T_1in0))\n",
        "Vs=jacobian @ dtheta\n",
        "t01ad @ Vs"
      ],
      "execution_count": null,
      "outputs": [
        {
          "output_type": "execute_result",
          "data": {
            "text/plain": [
              "array([[-2.60925529],\n",
              "       [-0.79515097],\n",
              "       [ 0.49236603],\n",
              "       [-4.54457687],\n",
              "       [ 8.27423812],\n",
              "       [-6.57312585]])"
            ]
          },
          "metadata": {},
          "execution_count": 29
        }
      ]
    },
    {
      "cell_type": "code",
      "metadata": {
        "colab": {
          "base_uri": "https://localhost:8080/"
        },
        "id": "XlgKQ2JuL52Q",
        "outputId": "accc4bb6-bd1b-4c6e-9a27-7f2198ca2621"
      },
      "source": [
        "import numpy as np\n",
        "\n",
        "theta = np.array([[-0.88000000], [-0.19000000], [0.44000000], [0.71000000], [0.39000000], [0.38000000], [0.74000000], [0.58000000]])\n",
        "dtheta = np.array([[-0.59000000], [-0.63000000], [-0.12000000], [-0.68000000], [0.22000000], [0.70000000], [-0.20000000], [0.03000000]])\n",
        "jacobian = np.array([[0.00000000, 0.63715114, 0.00000000, 0.75686884, -0.52570446,  -0.84766567, -0.84766567, -0.16477454], [0.00000000, -0.77073888, 0.00000000, 0.62568512, 0.41113869,  -0.32666155, -0.32666155, -0.58688930], [1.00000000, 0.00000000, 0.00000000, -0.18885889, -0.74471457,  0.41803725, 0.41803725, -0.79272335], [-2.00000000, 3.08295552, 0.63715114, -2.06097591, -2.23243197,  1.24241193, 0.71981263, -1.61707368], [0.00000000, 2.54860458, -0.77073888, 3.08042130, 2.08357160,  -1.04158685, 0.84406121, -1.23024623], [0.00000000, 1.27430229, 0.00000000, 1.94581955, 2.72619392, 1.70535898,  2.11914800, 1.24693049]])\n",
        "T_1in0 = np.array([[0.04271813, 0.98540576, -0.16477454, -1.92491016], [0.79870858, -0.13276130, -0.58688930, 0.71140436], [-0.60019978, -0.10653602, -0.79272335, -1.79442160], [0.00000000, 0.00000000, 0.00000000, 1.00000000]])\n",
        "\n",
        "t01ad= toadjoint(np.transpose(T_1in0))\n",
        "Vs=jacobian @ dtheta\n",
        "t01ad @ Vs"
      ],
      "execution_count": null,
      "outputs": [
        {
          "output_type": "execute_result",
          "data": {
            "text/plain": [
              "array([[ 0.17753293],\n",
              "       [-1.38826321],\n",
              "       [ 0.60742636],\n",
              "       [-2.79867902],\n",
              "       [ 1.35671184],\n",
              "       [ 2.84349303]])"
            ]
          },
          "metadata": {},
          "execution_count": 30
        }
      ]
    },
    {
      "cell_type": "code",
      "metadata": {
        "colab": {
          "base_uri": "https://localhost:8080/"
        },
        "id": "zH609W2sNQaI",
        "outputId": "fddb27b9-9ec7-4716-97ad-d452b53dfa95"
      },
      "source": [
        "t01ad= toadjoint(T_1in0)\n",
        "Vs=jacobian @ dtheta\n",
        "t01ad @ Vs"
      ],
      "execution_count": null,
      "outputs": [
        {
          "output_type": "execute_result",
          "data": {
            "text/plain": [
              "array([[-0.01980414],\n",
              "       [-0.90415055],\n",
              "       [ 1.22877135],\n",
              "       [-4.62248998],\n",
              "       [ 3.96303451],\n",
              "       [ 2.31004503]])"
            ]
          },
          "metadata": {},
          "execution_count": 31
        }
      ]
    },
    {
      "cell_type": "code",
      "metadata": {
        "id": "7_XHEWMqObIs"
      },
      "source": [
        ""
      ],
      "execution_count": null,
      "outputs": []
    },
    {
      "cell_type": "markdown",
      "metadata": {
        "id": "JBaIqKuZOuIa"
      },
      "source": [
        "The schematic of a robot with 8 joints (in the zero position) is shown above. Frame 0 is fixed to the base. Frame 1 is fixed to the end-effector. Denote the joint variables together by \n",
        ". We are given the space Jacobian of the end effector, the velocities of the joints \n",
        " and the pose of the end-effector in frame 0: \n",
        ". Compute the body twist of the end-effector."
      ]
    },
    {
      "cell_type": "code",
      "metadata": {
        "id": "75APR6cBObLc"
      },
      "source": [
        "def adt(m):    #Adjoint matrix\n",
        "    r = m[0:3,0:3]\n",
        "    p = m[0:3,3:4]\n",
        "    p_ = skew(p)\n",
        "    t1=p_.dot(r)\n",
        "    t2=np.concatenate((r,t1),axis=0)\n",
        "    t3=np.zeros((3,3))\n",
        "    t4=np.concatenate((t3,r),axis=0)\n",
        "    return np.concatenate((t2,t4), axis=1)"
      ],
      "execution_count": null,
      "outputs": []
    },
    {
      "cell_type": "code",
      "metadata": {
        "id": "D236whLuObOQ"
      },
      "source": [
        "import numpy as np\n",
        "\n",
        "theta = np.array([[-0.88000000], [-0.19000000], [0.44000000], [0.71000000], [0.39000000], [0.38000000], [0.74000000], [0.58000000]])\n",
        "dtheta = np.array([[-0.59000000], [-0.63000000], [-0.12000000], [-0.68000000], [0.22000000], [0.70000000], [-0.20000000], [0.03000000]])\n",
        "jacobian = np.array([[0.00000000, 0.63715114, 0.00000000, 0.75686884, -0.52570446,  -0.84766567, -0.84766567, -0.16477454], [0.00000000, -0.77073888, 0.00000000, 0.62568512, 0.41113869,  -0.32666155, -0.32666155, -0.58688930], [1.00000000, 0.00000000, 0.00000000, -0.18885889, -0.74471457,  0.41803725, 0.41803725, -0.79272335], [-2.00000000, 3.08295552, 0.63715114, -2.06097591, -2.23243197,  1.24241193, 0.71981263, -1.61707368], [0.00000000, 2.54860458, -0.77073888, 3.08042130, 2.08357160,  -1.04158685, 0.84406121, -1.23024623], [0.00000000, 1.27430229, 0.00000000, 1.94581955, 2.72619392, 1.70535898,  2.11914800, 1.24693049]])\n",
        "T_1in0 = np.array([[0.04271813, 0.98540576, -0.16477454, -1.92491016], [0.79870858, -0.13276130, -0.58688930, 0.71140436], [-0.60019978, -0.10653602, -0.79272335, -1.79442160], [0.00000000, 0.00000000, 0.00000000, 1.00000000]])"
      ],
      "execution_count": null,
      "outputs": []
    },
    {
      "cell_type": "code",
      "metadata": {
        "colab": {
          "base_uri": "https://localhost:8080/"
        },
        "id": "1nlIV_5FObQ-",
        "outputId": "b5958f71-b81a-4926-b031-69822c6f15b6"
      },
      "source": [
        "Ti=sc.inv(T_1in0)\n",
        "a=adt(Ti)\n",
        "a@(jacobian@dtheta)"
      ],
      "execution_count": null,
      "outputs": [
        {
          "output_type": "execute_result",
          "data": {
            "text/plain": [
              "array([[ 0.17753292],\n",
              "       [-1.38826321],\n",
              "       [ 0.60742635],\n",
              "       [-3.54073343],\n",
              "       [ 2.07138826],\n",
              "       [ 4.69375529]])"
            ]
          },
          "metadata": {},
          "execution_count": 35
        }
      ]
    },
    {
      "cell_type": "code",
      "metadata": {
        "colab": {
          "base_uri": "https://localhost:8080/"
        },
        "id": "B7pAURTjObTs",
        "outputId": "76019ef4-3309-4962-da35-15ffd4de61e9"
      },
      "source": [
        "import numpy as np\n",
        "\n",
        "theta = np.array([[0.39000000], [-0.14000000], [0.13000000], [0.00000000], [0.94000000], [0.41000000], [0.31000000], [-0.02000000]])\n",
        "dtheta = np.array([[0.33000000], [-0.17000000], [0.82000000], [0.06000000], [-0.37000000], [-0.87000000], [0.45000000], [0.03000000]])\n",
        "jacobian = np.array([[0.00000000, 0.00000000, 0.00000000, 0.00000000, 0.00000000, 0.00000000,  0.00000000, 0.00000000], [0.00000000, 0.00000000, 0.00000000, 0.00000000, 0.00000000, 0.00000000,  0.00000000, 0.00000000], [-1.00000000, 0.00000000, 0.00000000, 0.00000000, 0.00000000,  -1.00000000, 0.00000000, 0.00000000], [2.00000000, -0.38018842, 0.00000000, 0.38018842, 0.38018842,  -2.36947356, 0.71735609, 0.71735609], [-2.00000000, -0.92490906, 0.00000000, 0.92490906, 0.92490906,  -4.52865592, 0.69670671, 0.69670671], [0.00000000, 0.00000000, -1.00000000, 0.00000000, 0.00000000, 0.00000000,  0.00000000, 0.00000000]])\n",
        "T_1in0 = np.array([[0.71735609, 0.00000000, 0.69670671, -0.01648611], [0.69670671, 0.00000000, -0.71735609, 6.75175877], [0.00000000, 1.00000000, 0.00000000, -0.13000000], [0.00000000, 0.00000000, 0.00000000, 1.00000000]])\n",
        "Ti=sc.inv(T_1in0)\n",
        "a=adt(Ti)\n",
        "a@(jacobian@dtheta)"
      ],
      "execution_count": null,
      "outputs": [
        {
          "output_type": "execute_result",
          "data": {
            "text/plain": [
              "array([[ 0.        ],\n",
              "       [ 0.54      ],\n",
              "       [ 0.        ],\n",
              "       [ 1.96734909],\n",
              "       [-0.82      ],\n",
              "       [-2.93479741]])"
            ]
          },
          "metadata": {},
          "execution_count": 36
        }
      ]
    },
    {
      "cell_type": "code",
      "metadata": {
        "id": "1Y9yf_KEObWY"
      },
      "source": [
        ""
      ],
      "execution_count": null,
      "outputs": []
    },
    {
      "cell_type": "markdown",
      "metadata": {
        "id": "eYSKUWsOPSQX"
      },
      "source": [
        "The schematic of a robot with 9 joints (in the zero position) is shown above. Frame 0 is fixed to the base. Frame 1 is fixed to the end-effector. Denote the joint variables together by \n",
        ". We are given the body Jacobian of the end effector, the velocities of the joints \n",
        " and the pose of the end-effector in frame 0: \n",
        ". Compute the spatial twist of the end-effector."
      ]
    },
    {
      "cell_type": "code",
      "metadata": {
        "colab": {
          "base_uri": "https://localhost:8080/"
        },
        "id": "VHTZloobPTQF",
        "outputId": "1c4f5d00-06c5-4649-c15d-b9f090711829"
      },
      "source": [
        "import numpy as np\n",
        "\n",
        "theta = np.array([[0.12000000], [-0.67000000], [0.10000000], [-0.06000000], [-0.98000000], [0.97000000], [-0.49000000], [0.82000000], [0.14000000]])\n",
        "dtheta = np.array([[0.32000000], [-0.85000000], [0.42000000], [0.85000000], [0.60000000], [-0.01000000], [0.72000000], [-0.70000000], [-0.45000000]])\n",
        "jacobian = np.array([[0.00000000, -0.99500417, 0.00000000, -1.00000000, 0.00000000,  0.00000000, 0.00000000, 1.00000000, 0.00000000], [0.00000000, -0.06360898, -0.77073888, -0.00000000, 0.00000000,  0.00000000, 0.00000000, 0.00000000, 0.00000000], [0.00000000, 0.07694550, -0.63715114, 0.00000000, 0.00000000, 0.00000000,  0.00000000, -0.00000000, 0.00000000], [0.06199515, -0.37165272, 6.61992782, -0.00000000, 1.00000000,  1.00000000, 0.00000000, 0.00000000, 0.00000000], [-0.99780710, -2.25575131, -3.81653535, -2.73029493, 0.00000000,  0.00000000, -0.73114583, 0.14000000, 0.00000000], [-0.02318592, -6.67072231, 4.61672588, -7.08714629, -0.00000000,  -0.00000000, -0.68222121, 4.00000000, -1.00000000]])\n",
        "T_1in0 = np.array([[-0.99500417, -0.06360898, 0.07694550, -0.62096496], [-0.07825159, 0.01829984, -0.99676567, 0.38243087], [0.06199515, -0.99780710, -0.02318592, -6.51694952], [0.00000000, 0.00000000, 0.00000000, 1.00000000]])\n",
        "\n",
        "\n",
        "\n",
        "t01ad= toadjoint(T_1in0)\n",
        "Vs=jacobian @ dtheta\n",
        "t01ad @ Vs"
      ],
      "execution_count": null,
      "outputs": [
        {
          "output_type": "execute_result",
          "data": {
            "text/plain": [
              "array([[ 0.69225645],\n",
              "       [ 0.38210409],\n",
              "       [ 0.23311261],\n",
              "       [-1.01787174],\n",
              "       [-3.45117239],\n",
              "       [ 2.70060528]])"
            ]
          },
          "metadata": {},
          "execution_count": 37
        }
      ]
    },
    {
      "cell_type": "markdown",
      "metadata": {
        "id": "hqRBacudyXuA"
      },
      "source": [
        "4"
      ]
    },
    {
      "cell_type": "code",
      "metadata": {
        "colab": {
          "base_uri": "https://localhost:8080/"
        },
        "id": "iOJCoSL5yagv",
        "outputId": "c268847f-7762-4c0a-9aa5-8dd7af73ca74"
      },
      "source": [
        "a= np.array([[1],[0],[0]])\n",
        "b= np.array([[0],[-2],[0]])\n",
        "-skew(a) @ b\n"
      ],
      "execution_count": null,
      "outputs": [
        {
          "output_type": "execute_result",
          "data": {
            "text/plain": [
              "array([[0],\n",
              "       [0],\n",
              "       [2]])"
            ]
          },
          "metadata": {},
          "execution_count": 2
        }
      ]
    },
    {
      "cell_type": "code",
      "metadata": {
        "id": "P0_pvk6tyiTL"
      },
      "source": [
        "b1= np.array([[0],[1],[0],[0],[0],[0]])\n",
        "b2= np.array([[0],[1],[0],[0],[0],[0]])\n",
        "b3= np.array([[1],[0],[0],[0],[0],[2]])\n",
        "\n",
        "theta = np.array([[0.48000000], [-0.45000000], [0.54000000]])\n",
        "\n",
        "m=  [[0,1,0,-2],[0,0,1,-6],[-1,0,0,0],[0,0,0,1]]"
      ],
      "execution_count": null,
      "outputs": []
    },
    {
      "cell_type": "code",
      "metadata": {
        "id": "nic90pKxyiVt"
      },
      "source": [
        "j1= b1"
      ],
      "execution_count": null,
      "outputs": []
    },
    {
      "cell_type": "code",
      "metadata": {
        "id": "XtkcspUByiYN"
      },
      "source": [
        "j2 = toadjoint(sc.expm(skewtomatrix(b1)*theta[1])) @ b2"
      ],
      "execution_count": null,
      "outputs": []
    },
    {
      "cell_type": "code",
      "metadata": {
        "id": "jLJatEcJyia-"
      },
      "source": [
        "j3 = toadjoint(sc.expm(skewtomatrix(b2)*theta[2]) @ sc.expm(skewtomatrix(b1)*theta[1])) @ b3"
      ],
      "execution_count": null,
      "outputs": []
    },
    {
      "cell_type": "code",
      "metadata": {
        "colab": {
          "base_uri": "https://localhost:8080/"
        },
        "id": "qFyO_V3Ayide",
        "outputId": "e878f48f-8078-4dcf-982b-18b32c63d559"
      },
      "source": [
        "np.concatenate((j1,j2,j3), axis=1)"
      ],
      "execution_count": null,
      "outputs": [
        {
          "output_type": "execute_result",
          "data": {
            "text/plain": [
              "array([[ 0.        ,  0.        ,  0.99595273],\n",
              "       [ 1.        ,  1.        ,  0.        ],\n",
              "       [ 0.        ,  0.        , -0.08987855],\n",
              "       [ 0.        ,  0.        ,  0.1797571 ],\n",
              "       [ 0.        ,  0.        ,  0.        ],\n",
              "       [ 0.        ,  0.        ,  1.99190547]])"
            ]
          },
          "metadata": {},
          "execution_count": 32
        }
      ]
    },
    {
      "cell_type": "code",
      "metadata": {
        "id": "4uDGT-4rhiCL"
      },
      "source": [
        ""
      ],
      "execution_count": null,
      "outputs": []
    },
    {
      "cell_type": "code",
      "metadata": {
        "id": "PjK_tNH1hiF7"
      },
      "source": [
        ""
      ],
      "execution_count": null,
      "outputs": []
    },
    {
      "cell_type": "code",
      "metadata": {
        "id": "XKNWoS1PhiMn"
      },
      "source": [
        ""
      ],
      "execution_count": null,
      "outputs": []
    },
    {
      "cell_type": "code",
      "metadata": {
        "colab": {
          "base_uri": "https://localhost:8080/"
        },
        "id": "K-5yyzb0hiPv",
        "outputId": "8af374b8-4c8e-4028-c130-3ef21dc3e655"
      },
      "source": [
        "a= np.array([[0],[0],[1]])\n",
        "b= np.array([[0],[-2],[6]])\n",
        "-skew(a) @ b"
      ],
      "execution_count": null,
      "outputs": [
        {
          "output_type": "execute_result",
          "data": {
            "text/plain": [
              "array([[-2],\n",
              "       [ 0],\n",
              "       [ 0]])"
            ]
          },
          "metadata": {},
          "execution_count": 3
        }
      ]
    },
    {
      "cell_type": "code",
      "metadata": {
        "colab": {
          "base_uri": "https://localhost:8080/"
        },
        "id": "pWsiJ3F6yigy",
        "outputId": "743b1ac5-8fd3-4695-fac0-8e9c8b2a654c"
      },
      "source": [
        "from scipy.linalg import expm\n",
        "import numpy as np\n",
        "\n",
        "theta = np.array([[-0.47000000], [0.57000000], [0.72000000]])\n",
        "\n",
        "s1 = np.array([[0],[0],[0],[0],[0],[1]])\n",
        "s2 = np.array([[0],[0],[0],[-1],[0],[0]])\n",
        "s3 = np.array([[0],[0],[1],[-2],[0],[0]])\n",
        "\n",
        "\n",
        "def twist(vector):\n",
        "    vector=np.array(vector)\n",
        "    return np.array([[0, -vector.item(2), vector.item(1),vector.item(3)],\n",
        "                     [vector.item(2), 0, -vector.item(0),vector.item(4)],\n",
        "                     [-vector.item(1), vector.item(0), 0,vector.item(5)],\n",
        "                    [0,0,0,0]])\n",
        "\n",
        "def adjform(vector):\n",
        "    vector=np.array(vector);\n",
        "    \n",
        "    def skew(vector):\n",
        "        vector = np.array(vector)\n",
        "        return np.array([[0, -vector.item(2), vector.item(1)],\n",
        "                     [vector.item(2), 0, -vector.item(0)],\n",
        "                     [-vector.item(1), vector.item(0), 0]])\n",
        "    def retR(vector):\n",
        "        vector=np.array(vector)\n",
        "        return np.array([[vector.item(0),vector.item(1),vector.item(2)],\n",
        "                    [vector.item(4),vector.item(5),vector.item(6)],\n",
        "                    [vector.item(8),vector.item(9),vector.item(10)]])\n",
        "\n",
        "    def retP(vector):\n",
        "        vector=np.array(vector)\n",
        "        return np.array([[vector.item(3)],\n",
        "                    [vector.item(7)],\n",
        "                    [vector.item(11)]])\n",
        "\n",
        "\n",
        "    R=retR(vector);\n",
        "    p=retP(vector);\n",
        "    pt=skew(p)@R;\n",
        "\n",
        "    return np.array([[vector.item(0),vector.item(1),vector.item(2),0,0,0],\n",
        "                     [vector.item(4),vector.item(5),vector.item(6),0,0,0],\n",
        "                     [vector.item(8),vector.item(9),vector.item(10),0,0,0],\n",
        "                     [pt.item(0),pt.item(1),pt.item(2),vector.item(0),vector.item(1),vector.item(2)],\n",
        "                     [pt.item(3),pt.item(4),pt.item(5),vector.item(4),vector.item(5),vector.item(6)],\n",
        "                     [pt.item(6),pt.item(7),pt.item(8),vector.item(8),vector.item(9),vector.item(10)]]);\n",
        "\n",
        "J1=s1;\n",
        "J2=adjform(expm(twist(s1*theta.item(0))))@s2\n",
        "J3=adjform((expm(twist(s1*theta.item(0))))@(sc.expm(twist(s2*theta.item(1)))))@s3\n",
        "\n",
        "print(repr(J1))\n",
        "print(repr(J2))\n",
        "print(repr(J3))\n",
        "\n",
        "\n",
        "ans = np.array([[J1.item(0),J2.item(0),J3.item(0)],\n",
        "                     [J1.item(1),J2.item(1),J3.item(1)],\n",
        "                     [J1.item(2),J2.item(2),J3.item(2)],\n",
        "                     [J1.item(3),J2.item(3),J3.item(3)],\n",
        "                     [J1.item(4),J2.item(4),J3.item(4)],\n",
        "                     [J1.item(5),J2.item(5),J3.item(5)]]);\n",
        "\n",
        "print(repr(ans))"
      ],
      "execution_count": null,
      "outputs": [
        {
          "output_type": "stream",
          "name": "stdout",
          "text": [
            "array([[0],\n",
            "       [0],\n",
            "       [0],\n",
            "       [0],\n",
            "       [0],\n",
            "       [1]])\n",
            "array([[ 0.],\n",
            "       [ 0.],\n",
            "       [ 0.],\n",
            "       [-1.],\n",
            "       [ 0.],\n",
            "       [ 0.]])\n",
            "array([[ 0.  ],\n",
            "       [ 0.  ],\n",
            "       [ 1.  ],\n",
            "       [-2.  ],\n",
            "       [ 0.57],\n",
            "       [ 0.  ]])\n",
            "array([[ 0.  ,  0.  ,  0.  ],\n",
            "       [ 0.  ,  0.  ,  0.  ],\n",
            "       [ 0.  ,  0.  ,  1.  ],\n",
            "       [ 0.  , -1.  , -2.  ],\n",
            "       [ 0.  ,  0.  ,  0.57],\n",
            "       [ 1.  ,  0.  ,  0.  ]])\n"
          ]
        }
      ]
    },
    {
      "cell_type": "code",
      "metadata": {
        "colab": {
          "base_uri": "https://localhost:8080/"
        },
        "id": "gWqHwY55pljo",
        "outputId": "e4ebb83f-684e-44f6-e06c-445eca0b1b6a"
      },
      "source": [
        "a= np.array([[0],[0],[-1]])\n",
        "b= np.array([[2],[0],[-4]])\n",
        "\n",
        "np.concatenate((a,-skew(a) @ b),axis =0)"
      ],
      "execution_count": null,
      "outputs": [
        {
          "output_type": "execute_result",
          "data": {
            "text/plain": [
              "array([[ 0],\n",
              "       [ 0],\n",
              "       [-1],\n",
              "       [ 0],\n",
              "       [ 2],\n",
              "       [ 0]])"
            ]
          },
          "metadata": {},
          "execution_count": 45
        }
      ]
    },
    {
      "cell_type": "code",
      "metadata": {
        "colab": {
          "base_uri": "https://localhost:8080/"
        },
        "id": "QjtpSsAMyijB",
        "outputId": "76d63105-f3c2-4575-e612-2e183e3c0bea"
      },
      "source": [
        "from scipy.linalg import expm\n",
        "import numpy as np\n",
        "\n",
        "theta = np.array([[-0.74000000], [-0.32000000], [0.30000000]])\n",
        "\n",
        "s1 = np.array(\n",
        "       [[1],\n",
        "       [0],\n",
        "       [0],\n",
        "       [0],\n",
        "       [0],\n",
        "       [0]]\n",
        "       )\n",
        "s2 = np.array(\n",
        "       [[0],\n",
        "       [0],\n",
        "       [0],\n",
        "       [0],\n",
        "       [-1],\n",
        "       [0]]\n",
        "       )\n",
        "s3 = np.array(\n",
        "       [[0],\n",
        "       [ 0],\n",
        "       [-1],\n",
        "       [ 0],\n",
        "       [ 2],\n",
        "       [ 0]]\n",
        "       )\n",
        "\n",
        "\n",
        "def twist(vector):\n",
        "    vector=np.array(vector)\n",
        "    return np.array([[0, -vector.item(2), vector.item(1),vector.item(3)],\n",
        "                     [vector.item(2), 0, -vector.item(0),vector.item(4)],\n",
        "                     [-vector.item(1), vector.item(0), 0,vector.item(5)],\n",
        "                    [0,0,0,0]])\n",
        "\n",
        "def adjform(vector):\n",
        "    vector=np.array(vector);\n",
        "    \n",
        "    def skew(vector):\n",
        "        vector = np.array(vector)\n",
        "        return np.array([[0, -vector.item(2), vector.item(1)],\n",
        "                     [vector.item(2), 0, -vector.item(0)],\n",
        "                     [-vector.item(1), vector.item(0), 0]])\n",
        "    def retR(vector):\n",
        "        vector=np.array(vector)\n",
        "        return np.array([[vector.item(0),vector.item(1),vector.item(2)],\n",
        "                    [vector.item(4),vector.item(5),vector.item(6)],\n",
        "                    [vector.item(8),vector.item(9),vector.item(10)]])\n",
        "\n",
        "    def retP(vector):\n",
        "        vector=np.array(vector)\n",
        "        return np.array([[vector.item(3)],\n",
        "                    [vector.item(7)],\n",
        "                    [vector.item(11)]])\n",
        "\n",
        "\n",
        "    R=retR(vector);\n",
        "    p=retP(vector);\n",
        "    pt=skew(p)@R;\n",
        "\n",
        "    return np.array([[vector.item(0),vector.item(1),vector.item(2),0,0,0],\n",
        "                     [vector.item(4),vector.item(5),vector.item(6),0,0,0],\n",
        "                     [vector.item(8),vector.item(9),vector.item(10),0,0,0],\n",
        "                     [pt.item(0),pt.item(1),pt.item(2),vector.item(0),vector.item(1),vector.item(2)],\n",
        "                     [pt.item(3),pt.item(4),pt.item(5),vector.item(4),vector.item(5),vector.item(6)],\n",
        "                     [pt.item(6),pt.item(7),pt.item(8),vector.item(8),vector.item(9),vector.item(10)]]);\n",
        "\n",
        "J1=s1;\n",
        "J2=adjform(expm(twist(s1*theta.item(0))))@s2\n",
        "J3=adjform((expm(twist(s1*theta.item(0))))@(sc.expm(twist(s2*theta.item(1)))))@s3\n",
        "\n",
        "print(repr(J1))\n",
        "print(repr(J2))\n",
        "print(repr(J3))\n",
        "\n",
        "\n",
        "ans = np.array([[J1.item(0),J2.item(0),J3.item(0)],\n",
        "                     [J1.item(1),J2.item(1),J3.item(1)],\n",
        "                     [J1.item(2),J2.item(2),J3.item(2)],\n",
        "                     [J1.item(3),J2.item(3),J3.item(3)],\n",
        "                     [J1.item(4),J2.item(4),J3.item(4)],\n",
        "                     [J1.item(5),J2.item(5),J3.item(5)]]);\n",
        "\n",
        "print(repr(ans))"
      ],
      "execution_count": null,
      "outputs": [
        {
          "output_type": "stream",
          "name": "stdout",
          "text": [
            "array([[1],\n",
            "       [0],\n",
            "       [0],\n",
            "       [0],\n",
            "       [0],\n",
            "       [0]])\n",
            "array([[ 0.        ],\n",
            "       [ 0.        ],\n",
            "       [ 0.        ],\n",
            "       [ 0.        ],\n",
            "       [-0.73846856],\n",
            "       [ 0.67428791]])\n",
            "array([[ 0.        ],\n",
            "       [-0.67428791],\n",
            "       [-0.73846856],\n",
            "       [-0.32      ],\n",
            "       [ 1.47693712],\n",
            "       [-1.34857582]])\n",
            "array([[ 1.        ,  0.        ,  0.        ],\n",
            "       [ 0.        ,  0.        , -0.67428791],\n",
            "       [ 0.        ,  0.        , -0.73846856],\n",
            "       [ 0.        ,  0.        , -0.32      ],\n",
            "       [ 0.        , -0.73846856,  1.47693712],\n",
            "       [ 0.        ,  0.67428791, -1.34857582]])\n"
          ]
        }
      ]
    },
    {
      "cell_type": "code",
      "metadata": {
        "colab": {
          "base_uri": "https://localhost:8080/"
        },
        "id": "r5W1Bm1qivUs",
        "outputId": "19df8f26-6ce1-448c-d49a-6a614d85d139"
      },
      "source": [
        "T01 = (sc.expm(skewtomatrix(s1) * theta[0]) @ sc.expm(skewtomatrix(s2) * theta[1]) @ sc.expm(skewtomatrix(s3) * theta[2])) @ M\n",
        "T01\n",
        "\n",
        "jb= toadjoint(sc.inv(T01)) @ ans\n",
        "jb"
      ],
      "execution_count": null,
      "outputs": [
        {
          "output_type": "execute_result",
          "data": {
            "text/plain": [
              "array([[ 9.21060994e-01, -2.87086148e-17,  1.00000000e+00],\n",
              "       [-3.81655902e-01,  1.98669331e-01,  1.15169207e-18],\n",
              "       [-7.73654815e-02, -9.80066578e-01, -4.91961136e-18],\n",
              "       [-7.44283494e-17, -5.11534674e+00, -7.77665277e-17],\n",
              "       [ 3.65973143e-01, -7.22160877e+00,  1.41360117e+00],\n",
              "       [-1.80540219e+00, -1.46389257e+00, -6.97351353e+00]])"
            ]
          },
          "metadata": {},
          "execution_count": 37
        }
      ]
    },
    {
      "cell_type": "code",
      "metadata": {
        "colab": {
          "base_uri": "https://localhost:8080/"
        },
        "id": "fmDp1vn8ksQo",
        "outputId": "98463aa9-7ed0-45be-b3ac-39cf5cc37724"
      },
      "source": [
        "theta = np.array([[-0.47000000], [0.57000000], [0.72000000]])\n",
        "\n",
        "s1 = np.array([[0],[0],[0],[0],[1],[0]])\n",
        "s2 = np.array([[0],[0],[0],[1],[0],[0]])\n",
        "s3 = np.array([[0],[1],[0],[0],[0],[0]])\n",
        "\n",
        "j1=s1\n",
        "j2=toadjoint(sc.expm(-skewtomatrix(s1)*-0.47000000)) @ s2\n",
        "j3=toadjoint(sc.expm(-skewtomatrix(s2)*0.57000000) @sc.expm(-skewtomatrix(s1)*-0.47000000)) @ s2\n",
        "np.concatenate((j1,j2,j3), axis=1)"
      ],
      "execution_count": null,
      "outputs": [
        {
          "output_type": "execute_result",
          "data": {
            "text/plain": [
              "array([[0., 0., 0.],\n",
              "       [0., 0., 0.],\n",
              "       [0., 0., 0.],\n",
              "       [0., 1., 1.],\n",
              "       [1., 0., 0.],\n",
              "       [0., 0., 0.]])"
            ]
          },
          "metadata": {},
          "execution_count": 17
        }
      ]
    }
  ]
}