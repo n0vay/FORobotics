{
  "nbformat": 4,
  "nbformat_minor": 0,
  "metadata": {
    "colab": {
      "name": "Rob Hw5.ipynb",
      "provenance": [],
      "collapsed_sections": []
    },
    "kernelspec": {
      "name": "python3",
      "display_name": "Python 3"
    },
    "language_info": {
      "name": "python"
    }
  },
  "cells": [
    {
      "cell_type": "code",
      "metadata": {
        "id": "HIgLdVq-KjXO"
      },
      "source": [
        "import numpy as np\n",
        "import scipy.linalg as sc\n",
        "def skew(vector):\n",
        "  \n",
        "\n",
        "    vector = np.array(vector)\n",
        "\n",
        "    return np.array([[0, -vector.item(2), vector.item(1)],\n",
        "                     [vector.item(2), 0, -vector.item(0)],\n",
        "                     [-vector.item(1), vector.item(0), 0]])\n",
        "def unskew(matrix):\n",
        "  \n",
        "      return np.array([[matrix[2, 1]], \n",
        "                     [matrix[0, 2]], \n",
        "                     [matrix[1, 0]]])\n",
        "def skewtomatrix(vector):\n",
        "      [a,b] = np.split(vector,2)\n",
        "      a=skew(a)\n",
        "      a=np.concatenate((a,b), axis=1)\n",
        "      a = np.concatenate((a, np.array([[0,0,0,0]])), axis=0);\n",
        "      return a\n",
        "def matrixtoskew(matrix):\n",
        "  return np.array([[matrix[2, 1]], \n",
        "                    [matrix[0, 2]], \n",
        "                    [matrix[1, 0]],\n",
        "                    [matrix[0, 3]],\n",
        "                    [matrix[1, 3]],\n",
        "                    [matrix[2, 3]]])\n",
        "def toadjoint(matrix):\n",
        "    r = matrix[:3,:3]\n",
        "    p = matrix[0:3,3]\n",
        "    A_u = np.concatenate((r,np.zeros((3,3),int)), axis=1)\n",
        "    A_d = np.concatenate(((skew(p) @ r),r), axis=1)\n",
        "    a=np.concatenate((A_u,A_d), axis=0)\n",
        "    return a\n"
      ],
      "execution_count": null,
      "outputs": []
    },
    {
      "cell_type": "code",
      "source": [
        ""
      ],
      "metadata": {
        "id": "4IeWo8JihNOa"
      },
      "execution_count": null,
      "outputs": []
    },
    {
      "cell_type": "code",
      "metadata": {
        "id": "iG5pg1HUEtay"
      },
      "source": [
        ""
      ],
      "execution_count": null,
      "outputs": []
    },
    {
      "cell_type": "code",
      "metadata": {
        "colab": {
          "base_uri": "https://localhost:8080/"
        },
        "id": "AI0-AHX9KxY-",
        "outputId": "27d684c6-8754-442c-d180-42fcffbc7712"
      },
      "source": [
        "a = np.array([[1],[0],[0]])\n",
        "b = np.array([[4],[0],[0]])\n",
        "-skew(a) @ b\n"
      ],
      "execution_count": null,
      "outputs": [
        {
          "output_type": "execute_result",
          "data": {
            "text/plain": [
              "array([[0],\n",
              "       [0],\n",
              "       [0]])"
            ]
          },
          "metadata": {},
          "execution_count": 3
        }
      ]
    },
    {
      "cell_type": "markdown",
      "metadata": {
        "id": "M2HGzIAO-03y"
      },
      "source": [
        "[[0., 0., 0., 0.],\n",
        "       [0., 0., 0., 0.],\n",
        "       [0., 0., 0., 0.],\n",
        "       [0., 0., 0., 0.]]\n",
        "\n",
        "       [[0], [0], [1], [-2], [0], [0]]"
      ]
    },
    {
      "cell_type": "code",
      "metadata": {
        "id": "nPGc00ly4bdh"
      },
      "source": [
        "## Homework 5.1 Revolute \n",
        "import numpy as np\n",
        "import scipy.linalg as sc\n",
        "theta = 0.36\n",
        "def skew(vector):\n",
        "    \"\"\"\n",
        "    this function returns a numpy array with the skew symmetric cross product matrix for vector.\n",
        "    the skew symmetric cross product matrix is defined such that\n",
        "    np.cross(a, b) = np.dot(skew(a), b)\n",
        "\n",
        "    :param vector: An array like vector to create the skew symmetric cross product matrix for\n",
        "    :return: A numpy array of the skew symmetric cross product vector\n",
        "    \"\"\"\n",
        "\n",
        "    vector = np.array(vector)\n",
        "\n",
        "    return np.array([[0, -vector.item(2), vector.item(1)],\n",
        "                     [vector.item(2), 0, -vector.item(0)],\n",
        "                     [-vector.item(1), vector.item(0), 0]])\n",
        "\n",
        "def unskew(matrix):\n",
        "    \"\"\"\n",
        "    this functions returns a numpy array which is an unskewed form of a matrix.\n",
        "    \n",
        "    :param matrix: A skew symmetric cross product matrix of a vector\n",
        "    return: the numpy array whose skew symmetric cross product matrix is the parameter of the function\n",
        "    \"\"\"\n",
        "    \n",
        "    return np.array([[matrix[2, 1]], \n",
        "                     [matrix[0, 2]], \n",
        "                     [matrix[1, 0]]])\n",
        "M = np.array([[ 0,  -1,  0, -2],\n",
        "              [ 0,   0,  1, -4],\n",
        "              [-1,   0,  0,  0],\n",
        "              [ 0,   0,  0,  1]])    #for axes rotation, look for frame 1\n",
        "w = np.array([[-1],[0],[0]])         ##Look at frame 0\n",
        "p = np.array([[0],[-4],[0]])         ##Position of joint wrt frame 0\n",
        "wskw = skew(w)\n",
        "v = -wskw*p\n",
        "v=unskew(v)\n",
        "s = np.hstack((wskw,v))\n",
        "print(s)\n",
        "zero = np.zeros((1,4))\n",
        "S = np.vstack((s,zero))\n",
        "T = sc.expm(theta*S)@M\n",
        "T"
      ],
      "execution_count": null,
      "outputs": []
    },
    {
      "cell_type": "code",
      "metadata": {
        "id": "FttBvnrNEuxL"
      },
      "source": [
        "M = np.array([[ 0,  1,  0, 2],\n",
        "              [ 0,  0,  1, 0],\n",
        "              [ 1,  0,  0, 0],\n",
        "              [ 0,  0,  0, 1]]) "
      ],
      "execution_count": null,
      "outputs": []
    },
    {
      "cell_type": "code",
      "metadata": {
        "id": "NC-zxGzBE9Ud"
      },
      "source": [
        "a = np.array([[0],[1],[0]])\n",
        "b = np.array([[2],[0],[-2]])\n",
        "v= -skew(a) @ b\n",
        "theta = 0.5"
      ],
      "execution_count": null,
      "outputs": []
    },
    {
      "cell_type": "code",
      "metadata": {
        "colab": {
          "base_uri": "https://localhost:8080/"
        },
        "id": "CQAJBmp_Ff33",
        "outputId": "b52f1078-d4ad-4152-ecf6-2fc4c99ebfa4"
      },
      "source": [
        "s = np.hstack((skew(a),v))\n",
        "s = np.concatenate((s, np.array([[0,0,0,0]])), axis=0);\n",
        "T = sc.expm(theta*s)@M\n",
        "T"
      ],
      "execution_count": null,
      "outputs": [
        {
          "output_type": "execute_result",
          "data": {
            "text/plain": [
              "array([[ 0.47942554,  0.87758256,  0.        ,  2.95885108],\n",
              "       [ 0.        ,  0.        ,  1.        ,  0.        ],\n",
              "       [ 0.87758256, -0.47942554,  0.        , -0.24483488],\n",
              "       [ 0.        ,  0.        ,  0.        ,  1.        ]])"
            ]
          },
          "metadata": {},
          "execution_count": 21
        }
      ]
    },
    {
      "cell_type": "code",
      "metadata": {
        "colab": {
          "base_uri": "https://localhost:8080/"
        },
        "id": "kaRd06eeI1oF",
        "outputId": "4af3b8ae-09cf-4f09-b446-b9a3f6cec463"
      },
      "source": [
        "M = np.array([[ 0,  1,  0, 4],\n",
        "              [ 0,  0,  -1, 0],\n",
        "              [ -1,  0,  0, 0],\n",
        "              [ 0,  0,  0, 1]]) \n",
        "M"
      ],
      "execution_count": null,
      "outputs": [
        {
          "output_type": "execute_result",
          "data": {
            "text/plain": [
              "array([[ 0,  1,  0,  4],\n",
              "       [ 0,  0, -1,  0],\n",
              "       [-1,  0,  0,  0],\n",
              "       [ 0,  0,  0,  1]])"
            ]
          },
          "metadata": {},
          "execution_count": 34
        }
      ]
    },
    {
      "cell_type": "code",
      "metadata": {
        "id": "-HOBZzrjLM85"
      },
      "source": [
        "a = np.array([[0],[1],[0]])\n",
        "b = np.array([[2],[0],[0]])\n",
        "v= -skew(a) @ b\n",
        "theta = 0.24"
      ],
      "execution_count": null,
      "outputs": []
    },
    {
      "cell_type": "code",
      "metadata": {
        "colab": {
          "base_uri": "https://localhost:8080/"
        },
        "id": "2k3tTCLLLNxu",
        "outputId": "aab54545-5b4f-47b0-f5eb-729c8b6e3a54"
      },
      "source": [
        "s = np.hstack((skew(a),v))\n",
        "s = np.concatenate((s, np.array([[0,0,0,0]])), axis=0);\n",
        "T = sc.expm(theta*s)@M\n",
        "T"
      ],
      "execution_count": null,
      "outputs": [
        {
          "output_type": "execute_result",
          "data": {
            "text/plain": [
              "array([[-0.23770263,  0.97133797,  0.        ,  3.94267595],\n",
              "       [ 0.        ,  0.        , -1.        ,  0.        ],\n",
              "       [-0.97133797, -0.23770263,  0.        , -0.47540525],\n",
              "       [ 0.        ,  0.        ,  0.        ,  1.        ]])"
            ]
          },
          "metadata": {},
          "execution_count": 37
        }
      ]
    },
    {
      "cell_type": "code",
      "metadata": {
        "id": "zADFuprpNS93"
      },
      "source": [
        ""
      ],
      "execution_count": null,
      "outputs": []
    },
    {
      "cell_type": "code",
      "metadata": {
        "colab": {
          "base_uri": "https://localhost:8080/"
        },
        "id": "pJeOXF85NTA_",
        "outputId": "4dc4f9c6-6847-4e09-9cb2-90780aa67424"
      },
      "source": [
        "M = np.array([[ 0,  0,  1, 2],\n",
        "              [ 0,  1,  0, 0],\n",
        "              [ -1,  0,  0, -2],\n",
        "              [ 0,  0,  0, 1]]) \n",
        "M"
      ],
      "execution_count": null,
      "outputs": [
        {
          "output_type": "execute_result",
          "data": {
            "text/plain": [
              "array([[ 0,  0,  1,  2],\n",
              "       [ 0,  1,  0,  0],\n",
              "       [-1,  0,  0, -2],\n",
              "       [ 0,  0,  0,  1]])"
            ]
          },
          "metadata": {},
          "execution_count": 41
        }
      ]
    },
    {
      "cell_type": "code",
      "metadata": {
        "colab": {
          "base_uri": "https://localhost:8080/"
        },
        "id": "3Pn1y-sGNTEA",
        "outputId": "18fc7a3d-d5e6-463f-ac63-fb4f0a8971c3"
      },
      "source": [
        "a = np.array([[0],[1],[0]])\n",
        "b = np.array([[2],[0],[0]])\n",
        "s = np.array([[ 0,  0,  0, 1],\n",
        "                     [ 0,  0,  0, 0],\n",
        "                      [ 0,  0,  0, 0],\n",
        "                       [ 0,  0,  0, 0]]) \n",
        "theta = -0.64\n",
        "sc.expm(theta*s)@M"
      ],
      "execution_count": null,
      "outputs": [
        {
          "output_type": "execute_result",
          "data": {
            "text/plain": [
              "array([[ 0.  ,  0.  ,  1.  ,  1.36],\n",
              "       [ 0.  ,  1.  ,  0.  ,  0.  ],\n",
              "       [-1.  ,  0.  ,  0.  , -2.  ],\n",
              "       [ 0.  ,  0.  ,  0.  ,  1.  ]])"
            ]
          },
          "metadata": {},
          "execution_count": 43
        }
      ]
    },
    {
      "cell_type": "code",
      "metadata": {
        "id": "FlsCwScXNTGF"
      },
      "source": [
        ""
      ],
      "execution_count": null,
      "outputs": []
    },
    {
      "cell_type": "code",
      "metadata": {
        "id": "oIqQwS9-PTuD"
      },
      "source": [
        ""
      ],
      "execution_count": null,
      "outputs": []
    },
    {
      "cell_type": "code",
      "metadata": {
        "colab": {
          "base_uri": "https://localhost:8080/"
        },
        "id": "kDtyIQJUPTx3",
        "outputId": "7ee88852-bd17-43d1-983b-3c7b7f29d98e"
      },
      "source": [
        "## Prismatic\n",
        "## Homework 5.1 Revolute \n",
        "import numpy as np\n",
        "import scipy.linalg as sc\n",
        "def skew(vector):\n",
        "  \n",
        "    vector = np.array(vector)\n",
        "\n",
        "    return np.array([[0, -vector.item(2), vector.item(1)],\n",
        "                     [vector.item(2), 0, -vector.item(0)],\n",
        "                     [-vector.item(1), vector.item(0), 0]])\n",
        "\n",
        "def unskew(matrix):\n",
        "    \"\"\"\n",
        "    this functions returns a numpy array which is an unskewed form of a matrix.\n",
        "    \n",
        "    :param matrix: A skew symmetric cross product matrix of a vector\n",
        "    return: the numpy array whose skew symmetric cross product matrix is the parameter of the function\n",
        "    \"\"\"\n",
        "    \n",
        "    return np.array([[matrix[2, 1]], \n",
        "                     [matrix[0, 2]], \n",
        "                     [matrix[1, 0]]])\n",
        "M = np.array([[ 0,  0,  1, 2],\n",
        "              [ 0,  1,  0, 0],\n",
        "              [ -1,  0,  0, -2],\n",
        "              [ 0,  0,  0, 1]])     #for axes rotation, look for frame 1\n",
        "theta = -0.64\n",
        "sskew = np.array([[ 0.  ,  0.  ,  0.  ,  0.  ],\n",
        "                  [ 0.  ,  0.  ,  0.  ,  1  ],\n",
        "                  [ 0.  ,  0.  ,  0.  ,    0 ],\n",
        "                  [ 0.  ,  0.  ,  0.  ,   0  ]])\n",
        "                 \n",
        "exp = theta*sskew\n",
        "T = sc.expm(exp)@M\n",
        "T"
      ],
      "execution_count": null,
      "outputs": [
        {
          "output_type": "execute_result",
          "data": {
            "text/plain": [
              "array([[ 0.  ,  0.  ,  1.  ,  2.  ],\n",
              "       [ 0.  ,  1.  ,  0.  , -0.64],\n",
              "       [-1.  ,  0.  ,  0.  , -2.  ],\n",
              "       [ 0.  ,  0.  ,  0.  ,  1.  ]])"
            ]
          },
          "metadata": {},
          "execution_count": 45
        }
      ]
    },
    {
      "cell_type": "code",
      "metadata": {
        "colab": {
          "base_uri": "https://localhost:8080/"
        },
        "id": "EMixL-UTP7Qx",
        "outputId": "4cebf91b-a932-4254-c85c-ea028ad896c8"
      },
      "source": [
        "M = np.array([[ 0,  1,  0, -2],\n",
        "              [ 0,  0,  1, 2],\n",
        "              [ 1,  0,  0, 0],\n",
        "              [ 0,  0,  0, 1]])     #for axes rotation, look for frame 1\n",
        "theta = -0.75\n",
        "sskew = np.array([[ 0.  ,  0.  ,  0.  ,  0.  ],\n",
        "                  [ 0.  ,  0.  ,  0.  ,  0 ],\n",
        "                  [ 0.  ,  0.  ,  0.  ,    -1 ],\n",
        "                  [ 0.  ,  0.  ,  0.  ,   0  ]])\n",
        "                 \n",
        "exp = theta*sskew\n",
        "T = sc.expm(exp)@M\n",
        "T\n",
        "\n"
      ],
      "execution_count": null,
      "outputs": [
        {
          "output_type": "execute_result",
          "data": {
            "text/plain": [
              "array([[ 0.  ,  1.  ,  0.  , -2.  ],\n",
              "       [ 0.  ,  0.  ,  1.  ,  2.  ],\n",
              "       [ 1.  ,  0.  ,  0.  ,  0.75],\n",
              "       [ 0.  ,  0.  ,  0.  ,  1.  ]])"
            ]
          },
          "metadata": {},
          "execution_count": 46
        }
      ]
    },
    {
      "cell_type": "code",
      "metadata": {
        "id": "YdbtHDIsRRv7"
      },
      "source": [
        ""
      ],
      "execution_count": null,
      "outputs": []
    },
    {
      "cell_type": "code",
      "metadata": {
        "colab": {
          "base_uri": "https://localhost:8080/"
        },
        "id": "vZ_qrG7IRRzO",
        "outputId": "23ba1c74-df1e-487b-9225-eba0865d902b"
      },
      "source": [
        "M = np.array([[ 1,  0,  0, 0],\n",
        "              [ 0,  1,  0, 0],\n",
        "              [ 0,  0,  1, 4],\n",
        "              [ 0,  0,  0, 1]]) \n",
        "M"
      ],
      "execution_count": null,
      "outputs": [
        {
          "output_type": "execute_result",
          "data": {
            "text/plain": [
              "array([[1, 0, 0, 0],\n",
              "       [0, 1, 0, 0],\n",
              "       [0, 0, 1, 4],\n",
              "       [0, 0, 0, 1]])"
            ]
          },
          "metadata": {},
          "execution_count": 47
        }
      ]
    },
    {
      "cell_type": "code",
      "metadata": {
        "id": "Zn548_jbRR18"
      },
      "source": [
        "a = np.array([[0],[0],[1]])\n",
        "b = np.array([[0],[0],[2]])\n",
        "v= -skew(a) @ b\n",
        "theta = -0.12"
      ],
      "execution_count": null,
      "outputs": []
    },
    {
      "cell_type": "code",
      "metadata": {
        "colab": {
          "base_uri": "https://localhost:8080/"
        },
        "id": "Dk6limkhRR49",
        "outputId": "6fdde215-4644-42d2-9bd7-4edc29cf1bfa"
      },
      "source": [
        "s = np.hstack((skew(a),v))\n",
        "s = np.concatenate((s, np.array([[0,0,0,0]])), axis=0);\n",
        "T = sc.expm(theta*s)@M\n",
        "T"
      ],
      "execution_count": null,
      "outputs": [
        {
          "output_type": "execute_result",
          "data": {
            "text/plain": [
              "array([[ 0.99280864,  0.11971221,  0.        ,  0.        ],\n",
              "       [-0.11971221,  0.99280864,  0.        ,  0.        ],\n",
              "       [ 0.        ,  0.        ,  1.        ,  4.        ],\n",
              "       [ 0.        ,  0.        ,  0.        ,  1.        ]])"
            ]
          },
          "metadata": {},
          "execution_count": 51
        }
      ]
    },
    {
      "cell_type": "code",
      "metadata": {
        "id": "9Q86-8LubIeE"
      },
      "source": [
        ""
      ],
      "execution_count": null,
      "outputs": []
    },
    {
      "cell_type": "code",
      "metadata": {
        "id": "wVhdInw4bIgn"
      },
      "source": [
        ""
      ],
      "execution_count": null,
      "outputs": []
    },
    {
      "cell_type": "code",
      "metadata": {
        "colab": {
          "base_uri": "https://localhost:8080/"
        },
        "id": "NTBg4Ui-bIjk",
        "outputId": "5cb88722-7a43-4138-a1df-2fb7b0d4754b"
      },
      "source": [
        "a = np.array([[-1],[0],[0]])\n",
        "b = np.array([[-4],[0],[6]])\n",
        "v= -skew(a) @ b\n",
        "v"
      ],
      "execution_count": null,
      "outputs": [
        {
          "output_type": "execute_result",
          "data": {
            "text/plain": [
              "array([[ 0],\n",
              "       [-6],\n",
              "       [ 0]])"
            ]
          },
          "metadata": {},
          "execution_count": 65
        }
      ]
    },
    {
      "cell_type": "code",
      "metadata": {
        "colab": {
          "base_uri": "https://localhost:8080/"
        },
        "id": "9mFzvecbbImR",
        "outputId": "c054a688-750e-4aff-b27b-51150b2a3a3b"
      },
      "source": [
        "a1 = np.array([[0],[0],[1],[0],[0],[0]])\n",
        "a1"
      ],
      "execution_count": null,
      "outputs": [
        {
          "output_type": "execute_result",
          "data": {
            "text/plain": [
              "array([[0],\n",
              "       [0],\n",
              "       [1],\n",
              "       [0],\n",
              "       [0],\n",
              "       [0]])"
            ]
          },
          "metadata": {},
          "execution_count": 67
        }
      ]
    },
    {
      "cell_type": "code",
      "metadata": {
        "colab": {
          "base_uri": "https://localhost:8080/"
        },
        "id": "dtOQbJJGbIpG",
        "outputId": "e3f76a23-6a1c-4f1d-e56c-0c8ab5cc2cd5"
      },
      "source": [
        "a2 = np.array([[0],[0],[1],[0],[2],[0]])\n",
        "a2"
      ],
      "execution_count": null,
      "outputs": [
        {
          "output_type": "execute_result",
          "data": {
            "text/plain": [
              "array([[0],\n",
              "       [0],\n",
              "       [1],\n",
              "       [0],\n",
              "       [2],\n",
              "       [0]])"
            ]
          },
          "metadata": {},
          "execution_count": 68
        }
      ]
    },
    {
      "cell_type": "code",
      "metadata": {
        "id": "2OZqb-P3bIsD"
      },
      "source": [
        "a3 = np.array([[-1],[0],[0],[0],[-6],[0]])"
      ],
      "execution_count": null,
      "outputs": []
    },
    {
      "cell_type": "code",
      "metadata": {
        "id": "corUxMCjbIu4"
      },
      "source": [
        "a4 = np.array([[0],[0],[1],[0],[2],[0]])"
      ],
      "execution_count": null,
      "outputs": []
    },
    {
      "cell_type": "code",
      "metadata": {
        "colab": {
          "base_uri": "https://localhost:8080/"
        },
        "id": "VGbbtghYbIxw",
        "outputId": "6169fd3e-8aed-468e-b713-620a58bb9598"
      },
      "source": [
        "a = np.concatenate((a1,a2,a3,a4), axis=1);\n",
        "a"
      ],
      "execution_count": null,
      "outputs": [
        {
          "output_type": "execute_result",
          "data": {
            "text/plain": [
              "array([[ 0,  0, -1,  0],\n",
              "       [ 0,  0,  0,  0],\n",
              "       [ 1,  1,  0,  1],\n",
              "       [ 0,  0,  0,  0],\n",
              "       [ 0,  2, -6,  2],\n",
              "       [ 0,  0,  0,  0]])"
            ]
          },
          "metadata": {},
          "execution_count": 74
        }
      ]
    },
    {
      "cell_type": "code",
      "metadata": {
        "id": "vSnwBIFUbI0l"
      },
      "source": [
        ""
      ],
      "execution_count": null,
      "outputs": []
    },
    {
      "cell_type": "markdown",
      "metadata": {
        "id": "NEWgISv0A44a"
      },
      "source": [
        "[[ 0,  1,  0,  4],\n",
        " [ 0,  0, 1,  0],\n",
        " [1,  0,  0,  8],\n",
        " [ 0,  0,  0,  1]]"
      ]
    },
    {
      "cell_type": "code",
      "metadata": {
        "colab": {
          "base_uri": "https://localhost:8080/"
        },
        "id": "hzUO-7uKbI3q",
        "outputId": "b40dcab2-14de-42d0-c014-4bf1ee66a02d"
      },
      "source": [
        "a = np.array([[0],[0],[1]])\n",
        "b = np.array([[0],[-4],[0]])\n",
        "v= -skew(a) @ b\n",
        "v"
      ],
      "execution_count": null,
      "outputs": [
        {
          "output_type": "execute_result",
          "data": {
            "text/plain": [
              "array([[-4],\n",
              "       [ 0],\n",
              "       [ 0]])"
            ]
          },
          "metadata": {},
          "execution_count": 109
        }
      ]
    },
    {
      "cell_type": "code",
      "metadata": {
        "id": "qLbscMwnbI6i"
      },
      "source": [
        "a1 = np.array([[0],[0],[1],[-4],[0],[0]])"
      ],
      "execution_count": null,
      "outputs": []
    },
    {
      "cell_type": "code",
      "metadata": {
        "id": "xn2JqGhRbI9e"
      },
      "source": [
        "a2 = np.array([[0],[0],[0],[ 0],[-1],[ 0]])"
      ],
      "execution_count": null,
      "outputs": []
    },
    {
      "cell_type": "code",
      "metadata": {
        "id": "DfyYPXnObJAa"
      },
      "source": [
        "a3 = np.array([[0],[0],[0],[0],[0],[1]])"
      ],
      "execution_count": null,
      "outputs": []
    },
    {
      "cell_type": "code",
      "metadata": {
        "id": "pEfu2FR4HGPC"
      },
      "source": [
        "a4 = np.array([[0],[1],[0],[ 2],[ 0],[-2]])"
      ],
      "execution_count": null,
      "outputs": []
    },
    {
      "cell_type": "code",
      "metadata": {
        "colab": {
          "base_uri": "https://localhost:8080/"
        },
        "id": "KYECL56MbJDU",
        "outputId": "a1796eb1-1c20-43ae-bb2b-d4ade1fe0258"
      },
      "source": [
        "a = np.concatenate((a1,a2,a3,), axis=1);\n",
        "a"
      ],
      "execution_count": null,
      "outputs": [
        {
          "output_type": "execute_result",
          "data": {
            "text/plain": [
              "array([[ 0,  0,  0],\n",
              "       [ 0,  0,  0],\n",
              "       [ 1,  0,  0],\n",
              "       [-4,  0,  0],\n",
              "       [ 0, -1,  0],\n",
              "       [ 0,  0,  1]])"
            ]
          },
          "metadata": {},
          "execution_count": 113
        }
      ]
    },
    {
      "cell_type": "code",
      "metadata": {
        "id": "7iQn1wonbJGP"
      },
      "source": [
        "[[ 0.  ,  0.  ,  1.  , -2.  ],\n",
        " [ 0.  ,  1.  ,  0.  ,  -6.  ],\n",
        " [ -1.  ,  0.  ,  0.  ,  0],\n",
        " [ 0.  ,  0.  ,  0.  ,  1.  ]]"
      ],
      "execution_count": null,
      "outputs": []
    },
    {
      "cell_type": "code",
      "metadata": {
        "id": "vkrUreu3bJJH"
      },
      "source": [
        ""
      ],
      "execution_count": null,
      "outputs": []
    },
    {
      "cell_type": "code",
      "metadata": {
        "id": "yY9RzSLZbJME"
      },
      "source": [
        ""
      ],
      "execution_count": null,
      "outputs": []
    },
    {
      "cell_type": "code",
      "metadata": {
        "colab": {
          "base_uri": "https://localhost:8080/"
        },
        "id": "O-MoE5iRbJO4",
        "outputId": "a6170cdb-90db-42b6-baa6-bfd5ddf26b28"
      },
      "source": [
        "a = np.array([[1],[0],[0]])\n",
        "b = np.array([[2],[4],[0]])\n",
        "v= -skew(a) @ b\n",
        "v"
      ],
      "execution_count": null,
      "outputs": [
        {
          "output_type": "execute_result",
          "data": {
            "text/plain": [
              "array([[ 0],\n",
              "       [ 0],\n",
              "       [-4]])"
            ]
          },
          "metadata": {},
          "execution_count": 119
        }
      ]
    },
    {
      "cell_type": "code",
      "metadata": {
        "id": "zJs07QpmbJR7"
      },
      "source": [
        "a1 = np.array([[0],[0],[0],[0],[0],[1]])"
      ],
      "execution_count": null,
      "outputs": []
    },
    {
      "cell_type": "code",
      "metadata": {
        "id": "M44IO8a3bJUv"
      },
      "source": [
        "a2 = np.array([[0],[0],[1],[2],[-2],[0]])"
      ],
      "execution_count": null,
      "outputs": []
    },
    {
      "cell_type": "code",
      "metadata": {
        "id": "nXr0ITlibJXk"
      },
      "source": [
        "a3 = np.array([[1],[0],[0],[0],[0],[-4]])"
      ],
      "execution_count": null,
      "outputs": []
    },
    {
      "cell_type": "code",
      "metadata": {
        "colab": {
          "base_uri": "https://localhost:8080/"
        },
        "id": "rU-EGAYdbJai",
        "outputId": "ec686bd0-4353-46f7-acc1-67f5011576e0"
      },
      "source": [
        "a1m = screwtomatrix(a1)\n",
        "a1m"
      ],
      "execution_count": null,
      "outputs": [
        {
          "output_type": "execute_result",
          "data": {
            "text/plain": [
              "array([[0, 0, 0, 0],\n",
              "       [0, 0, 0, 0],\n",
              "       [0, 0, 0, 1],\n",
              "       [0, 0, 0, 0]])"
            ]
          },
          "metadata": {},
          "execution_count": 126
        }
      ]
    },
    {
      "cell_type": "code",
      "metadata": {
        "id": "0SpBgK2ubJdb"
      },
      "source": [
        "a2m = screwtomatrix(a2)"
      ],
      "execution_count": null,
      "outputs": []
    },
    {
      "cell_type": "code",
      "metadata": {
        "id": "qXIE7jOQbJgh"
      },
      "source": [
        "a3m = screwtomatrix(a3)"
      ],
      "execution_count": null,
      "outputs": []
    },
    {
      "cell_type": "code",
      "metadata": {
        "id": "qdZ9zSU1bJjf"
      },
      "source": [
        "M= np.array([[0, -1, 0, 2],\n",
        "            [1, 0, 0, 6],\n",
        "            [0, 0, 1, 0],\n",
        "            [0, 0, 0, 1]])\n"
      ],
      "execution_count": null,
      "outputs": []
    },
    {
      "cell_type": "code",
      "metadata": {
        "colab": {
          "base_uri": "https://localhost:8080/"
        },
        "id": "kMfU2kevbJmj",
        "outputId": "60af5d3f-ed6e-41a2-ab88-df0da1efe77e"
      },
      "source": [
        "import numpy as np\n",
        "\n",
        "theta = np.array([[0.21, 0.11, -0.77]])\n",
        "T1 = theta[0][0]\n",
        "T2 = theta[0][1]\n",
        "T3 = theta[0][2]\n"
      ],
      "execution_count": null,
      "outputs": [
        {
          "output_type": "execute_result",
          "data": {
            "text/plain": [
              "0.21"
            ]
          },
          "metadata": {},
          "execution_count": 130
        }
      ]
    },
    {
      "cell_type": "code",
      "metadata": {
        "id": "SbTHRfLQbJpZ"
      },
      "source": [
        "st1 = sc.expm(a1m*T1)\n",
        "st2 = sc.expm(a2m*T2)\n",
        "st3 = sc.expm(a3m*T3)"
      ],
      "execution_count": null,
      "outputs": []
    },
    {
      "cell_type": "code",
      "metadata": {
        "colab": {
          "base_uri": "https://localhost:8080/"
        },
        "id": "wgBnLpfZbJsd",
        "outputId": "6ebadcbc-ab31-4956-fefe-e388794fea1e"
      },
      "source": [
        "a = np.matmul(st1, st2)\n",
        "b = np.matmul(a, st3)\n",
        "c = np.matmul(b, M)\n",
        "c"
      ],
      "execution_count": null,
      "outputs": [
        {
          "output_type": "execute_result",
          "data": {
            "text/plain": [
              "array([[-0.07881101, -0.9939561 , -0.07642054,  1.62282137],\n",
              "       [ 0.71357169, -0.1097783 ,  0.69192787,  5.41505557],\n",
              "       [-0.69613524,  0.        ,  0.71791067, -1.18227048],\n",
              "       [ 0.        ,  0.        ,  0.        ,  1.        ]])"
            ]
          },
          "metadata": {},
          "execution_count": 134
        }
      ]
    },
    {
      "cell_type": "code",
      "metadata": {
        "id": "kPXDhDQ-bJvg"
      },
      "source": [
        ""
      ],
      "execution_count": null,
      "outputs": []
    },
    {
      "cell_type": "code",
      "metadata": {
        "id": "BC_8VTsYbJyj"
      },
      "source": [
        ""
      ],
      "execution_count": null,
      "outputs": []
    },
    {
      "cell_type": "code",
      "metadata": {
        "id": "tfOqphZobJ1r"
      },
      "source": [
        "a = np.array([[0],[0],[0]])\n",
        "b = np.array([[2],[4],[0]])\n",
        "v= -skew(a) @ b\n",
        "v"
      ],
      "execution_count": null,
      "outputs": []
    },
    {
      "cell_type": "code",
      "metadata": {
        "id": "Eb6yErOibJ4s"
      },
      "source": [
        "M= np.array([[-1, 0, 0, -8],\n",
        "            [0, -1, 0, 0],\n",
        "            [0, 0, 1, -2],\n",
        "            [0, 0, 0, 1]])"
      ],
      "execution_count": null,
      "outputs": []
    },
    {
      "cell_type": "code",
      "metadata": {
        "id": "HNgeecOvbJ7s"
      },
      "source": [
        "a1 = np.array([[0],[0],[0],[0],[0],[-1]])"
      ],
      "execution_count": null,
      "outputs": []
    },
    {
      "cell_type": "code",
      "metadata": {
        "id": "A9MJKaOsbJ-z"
      },
      "source": [
        "a2 = np.array([[0],[0],[0],[0],[1],[0]])"
      ],
      "execution_count": null,
      "outputs": []
    },
    {
      "cell_type": "code",
      "metadata": {
        "id": "FBoh_0uqbKBr"
      },
      "source": [
        "a3 = np.array([[0],[0],[0],[-1],[0],[0]])"
      ],
      "execution_count": null,
      "outputs": []
    },
    {
      "cell_type": "code",
      "metadata": {
        "id": "w-Lf1OT2bKEp"
      },
      "source": [
        "a1m = skewtomatrix(a1)\n",
        "a2m = skewtomatrix(a2)\n",
        "a3m = skewtomatrix(a3)\n"
      ],
      "execution_count": null,
      "outputs": []
    },
    {
      "cell_type": "code",
      "metadata": {
        "id": "rxS5qweqbKHm"
      },
      "source": [
        "\n",
        "theta = np.array([[0.11, -0.28, 0.50]])\n",
        "T1 = theta[0][0]\n",
        "T2 = theta[0][1]\n",
        "T3 = theta[0][2]\n"
      ],
      "execution_count": null,
      "outputs": []
    },
    {
      "cell_type": "code",
      "metadata": {
        "id": "u2NOZGcXbKKe"
      },
      "source": [
        "st1 = sc.expm(a1m*T1)\n",
        "st2 = sc.expm(a2m*T2)\n",
        "st3 = sc.expm(a3m*T3)"
      ],
      "execution_count": null,
      "outputs": []
    },
    {
      "cell_type": "code",
      "metadata": {
        "colab": {
          "base_uri": "https://localhost:8080/"
        },
        "id": "Dwww6byibKNY",
        "outputId": "1cefa39f-63f8-440b-e7a5-8f1f1db42688"
      },
      "source": [
        "a = np.matmul(st1, st2)\n",
        "b = np.matmul(a, st3)\n",
        "c = np.matmul(b, M)\n",
        "c"
      ],
      "execution_count": null,
      "outputs": [
        {
          "output_type": "execute_result",
          "data": {
            "text/plain": [
              "array([[-1.  ,  0.  ,  0.  , -8.5 ],\n",
              "       [ 0.  , -1.  ,  0.  , -0.28],\n",
              "       [ 0.  ,  0.  ,  1.  , -2.11],\n",
              "       [ 0.  ,  0.  ,  0.  ,  1.  ]])"
            ]
          },
          "metadata": {},
          "execution_count": 156
        }
      ]
    },
    {
      "cell_type": "code",
      "metadata": {
        "id": "cwH9aogHbKQP"
      },
      "source": [
        ""
      ],
      "execution_count": null,
      "outputs": []
    },
    {
      "cell_type": "code",
      "metadata": {
        "id": "MVYLbAfEbKTH"
      },
      "source": [
        ""
      ],
      "execution_count": null,
      "outputs": []
    },
    {
      "cell_type": "code",
      "metadata": {
        "id": "0-pfpbmdbKWC"
      },
      "source": [
        "M= np.array([[0, 1, 0, -2],\n",
        "            [-1, 0, 0, 0],\n",
        "            [0, 0, 1, 8],\n",
        "            [0, 0, 0, 1]])\n"
      ],
      "execution_count": null,
      "outputs": []
    },
    {
      "cell_type": "code",
      "metadata": {
        "colab": {
          "base_uri": "https://localhost:8080/"
        },
        "id": "xCYNoJF2bKZD",
        "outputId": "94786894-7af3-462a-a34a-52a217e14229"
      },
      "source": [
        "a = np.array([[0],[0],[1]])\n",
        "b = np.array([[-2],[0],[4]])\n",
        "v= -skew(a) @ b\n",
        "v"
      ],
      "execution_count": null,
      "outputs": [
        {
          "output_type": "execute_result",
          "data": {
            "text/plain": [
              "array([[0],\n",
              "       [2],\n",
              "       [0]])"
            ]
          },
          "metadata": {},
          "execution_count": 175
        }
      ]
    },
    {
      "cell_type": "code",
      "metadata": {
        "id": "QFqB7iM3bKcC"
      },
      "source": [
        "a1 = np.array([[0],[1],[0],[-2],[0],[-2]])"
      ],
      "execution_count": null,
      "outputs": []
    },
    {
      "cell_type": "code",
      "metadata": {
        "id": "tstUPDx9bKe3"
      },
      "source": [
        "a2 = np.array([[0],[0],[1],[0],[2],[0]])"
      ],
      "execution_count": null,
      "outputs": []
    },
    {
      "cell_type": "code",
      "metadata": {
        "id": "FkzHq8tZbKhk"
      },
      "source": [
        "a3 = np.array([[0],[0],[0],[0],[1],[0]])"
      ],
      "execution_count": null,
      "outputs": []
    },
    {
      "cell_type": "code",
      "metadata": {
        "id": "FulUO48ebKkf"
      },
      "source": [
        "a1m = skewtomatrix(a1)\n",
        "a2m = skewtomatrix(a2)\n",
        "a3m = skewtomatrix(a3)"
      ],
      "execution_count": null,
      "outputs": []
    },
    {
      "cell_type": "code",
      "metadata": {
        "id": "v3yPlS5hbKnY"
      },
      "source": [
        "theta = np.array([[-0.82, 0.27, -0.13]])\n",
        "T1 = theta[0][0]\n",
        "T2 = theta[0][1]\n",
        "T3 = theta[0][2]"
      ],
      "execution_count": null,
      "outputs": []
    },
    {
      "cell_type": "code",
      "metadata": {
        "id": "zEnZwaZzbKqR"
      },
      "source": [
        "st1 = sc.expm(a1m*T1)\n",
        "st2 = sc.expm(a2m*T2)\n",
        "st3 = sc.expm(a3m*T3)"
      ],
      "execution_count": null,
      "outputs": []
    },
    {
      "cell_type": "code",
      "metadata": {
        "colab": {
          "base_uri": "https://localhost:8080/"
        },
        "id": "dtCCvcEabKs-",
        "outputId": "7a3b4929-2994-4042-ea0a-32ac99623fae"
      },
      "source": [
        "a = np.matmul(st1, st2)\n",
        "b = np.matmul(a, st3)\n",
        "c = np.matmul(b, M)\n",
        "c"
      ],
      "execution_count": null,
      "outputs": [
        {
          "output_type": "execute_result",
          "data": {
            "text/plain": [
              "array([[ 0.18196984,  0.65750494, -0.73114583, -6.3632189 ],\n",
              "       [-0.9637709 ,  0.26673144,  0.        , -0.12529022],\n",
              "       [ 0.19501958,  0.70465707,  0.68222121,  6.11867979],\n",
              "       [ 0.        ,  0.        ,  0.        ,  1.        ]])"
            ]
          },
          "metadata": {},
          "execution_count": 182
        }
      ]
    },
    {
      "cell_type": "code",
      "metadata": {
        "id": "6N6azyz8bKvv"
      },
      "source": [
        "M= np.array([[0, -1, 0, 0],\n",
        "            [0, 0, -1, -4],\n",
        "            [-1, 0, 0, -2],\n",
        "            [0, 0, 0, 1]])"
      ],
      "execution_count": null,
      "outputs": []
    },
    {
      "cell_type": "code",
      "metadata": {
        "id": "19Bx0mgybKyn"
      },
      "source": [
        ""
      ],
      "execution_count": null,
      "outputs": []
    },
    {
      "cell_type": "code",
      "metadata": {
        "id": "F-NmqeV1bK1R"
      },
      "source": [
        ""
      ],
      "execution_count": null,
      "outputs": []
    },
    {
      "cell_type": "code",
      "metadata": {
        "id": "c-0XzdZCbK4C"
      },
      "source": [
        ""
      ],
      "execution_count": null,
      "outputs": []
    },
    {
      "cell_type": "code",
      "metadata": {
        "id": "HBvHZXm-bK60"
      },
      "source": [
        ""
      ],
      "execution_count": null,
      "outputs": []
    },
    {
      "cell_type": "code",
      "metadata": {
        "id": "OL33OQhdbK9X"
      },
      "source": [
        ""
      ],
      "execution_count": null,
      "outputs": []
    },
    {
      "cell_type": "code",
      "metadata": {
        "id": "xqPda9I1bLAE"
      },
      "source": [
        ""
      ],
      "execution_count": null,
      "outputs": []
    },
    {
      "cell_type": "code",
      "metadata": {
        "id": "wpFEP5NnbLC1"
      },
      "source": [
        ""
      ],
      "execution_count": null,
      "outputs": []
    },
    {
      "cell_type": "code",
      "metadata": {
        "colab": {
          "base_uri": "https://localhost:8080/"
        },
        "id": "HnX2--eKbLFl",
        "outputId": "f885cabc-7b9f-4d0e-b1a3-9105b472d1ca"
      },
      "source": [
        "a = np.array([[0],[0],[-1]])\n",
        "b = np.array([[0],[2],[2]])\n",
        "v= -skew(a) @ b\n",
        "v"
      ],
      "execution_count": null,
      "outputs": [
        {
          "output_type": "execute_result",
          "data": {
            "text/plain": [
              "array([[-2],\n",
              "       [ 0],\n",
              "       [ 0]])"
            ]
          },
          "metadata": {},
          "execution_count": 194
        }
      ]
    },
    {
      "cell_type": "code",
      "metadata": {
        "id": "1PBXxXjVnrmd"
      },
      "source": [
        "a1 = np.array([[0],[0],[1],[-2],[0],[0]])\n",
        "a2 = np.array([[0],[0],[1],[ 0],[0],[ 0]])\n",
        "a3 = np.array([[0],[0],[-1],[ -2],[ 0],[0]])"
      ],
      "execution_count": null,
      "outputs": []
    },
    {
      "cell_type": "code",
      "metadata": {
        "colab": {
          "base_uri": "https://localhost:8080/"
        },
        "id": "UChvsvI5nrpG",
        "outputId": "9b17389b-96f2-4856-de7a-526429df8116"
      },
      "source": [
        "a = np.concatenate((a1,a2,a3,), axis=1);\n",
        "a"
      ],
      "execution_count": null,
      "outputs": [
        {
          "output_type": "execute_result",
          "data": {
            "text/plain": [
              "array([[ 0,  0,  0],\n",
              "       [ 0,  0,  0],\n",
              "       [ 1,  1, -1],\n",
              "       [-2,  0, -2],\n",
              "       [ 0,  0,  0],\n",
              "       [ 0,  0,  0]])"
            ]
          },
          "metadata": {},
          "execution_count": 196
        }
      ]
    },
    {
      "cell_type": "code",
      "metadata": {
        "id": "JYEk5F2KnrsI"
      },
      "source": [
        ""
      ],
      "execution_count": null,
      "outputs": []
    },
    {
      "cell_type": "code",
      "metadata": {
        "id": "wnswnZCRnruv"
      },
      "source": [
        ""
      ],
      "execution_count": null,
      "outputs": []
    },
    {
      "cell_type": "code",
      "metadata": {
        "id": "uUY_v3Yunrxv"
      },
      "source": [
        ""
      ],
      "execution_count": null,
      "outputs": []
    },
    {
      "cell_type": "code",
      "metadata": {
        "id": "bykyQx9Anr0f"
      },
      "source": [
        ""
      ],
      "execution_count": null,
      "outputs": []
    },
    {
      "cell_type": "code",
      "metadata": {
        "id": "SCzJ5sYznr3S"
      },
      "source": [
        ""
      ],
      "execution_count": null,
      "outputs": []
    }
  ]
}